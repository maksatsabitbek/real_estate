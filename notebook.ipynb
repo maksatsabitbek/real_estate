{
 "cells": [
  {
   "cell_type": "markdown",
   "source": "##  Maksat Final project",
   "metadata": {
    "tags": [],
    "is_collapsed": false,
    "cell_id": "00000-098868fc-81bc-47e0-9a0b-3f58f0cc4da4",
    "deepnote_cell_type": "text-cell-h2"
   }
  },
  {
   "cell_type": "markdown",
   "source": "Our dataset is given for predicting house pricing. The dataset includes the date of purchase, house age, location, distance to nearest MRT station, and house price of unit area.",
   "metadata": {
    "tags": [],
    "is_collapsed": false,
    "cell_id": "00001-9d73d364-aaf1-422b-ac03-99ce448fa77b",
    "deepnote_cell_type": "text-cell-p"
   }
  },
  {
   "cell_type": "code",
   "metadata": {
    "tags": [],
    "cell_id": "00000-2370a563-eaa1-4878-acc1-6d7c5f7401da",
    "deepnote_to_be_reexecuted": false,
    "source_hash": "6ec6e7de",
    "execution_start": 1636797718295,
    "execution_millis": 0,
    "deepnote_cell_type": "code",
    "deepnote_cell_height": 225
   },
   "source": "import numpy as np\nimport pandas as pd\nimport seaborn as sns\nimport matplotlib.pyplot as plt # graph visualization\nfrom sklearn.model_selection import train_test_split\nimport scipy as sc\nfrom sklearn.preprocessing import PolynomialFeatures\nfrom scipy import optimize\nfrom sklearn.linear_model import LinearRegression",
   "execution_count": null,
   "outputs": []
  },
  {
   "cell_type": "markdown",
   "source": "### Step 1. Dataset - Real Estate Price",
   "metadata": {
    "tags": [],
    "is_collapsed": false,
    "cell_id": "00003-6ab9a70e-5ba9-4255-9db4-01c36c623ddc",
    "deepnote_cell_type": "text-cell-h3"
   }
  },
  {
   "cell_type": "markdown",
   "source": "We have chosen this dataset. The goal of our project is to find the best price of houses.",
   "metadata": {
    "tags": [],
    "is_collapsed": false,
    "cell_id": "00004-80902db4-9ae0-49d1-b3ef-a4524e6ae2e7",
    "deepnote_cell_type": "text-cell-p"
   }
  },
  {
   "cell_type": "markdown",
   "source": "### Step 2. Explanatory Data Analyses ",
   "metadata": {
    "tags": [],
    "is_collapsed": false,
    "cell_id": "00006-8aa1909d-628b-46d2-a511-4b9133cdc96b",
    "deepnote_cell_type": "text-cell-h3"
   }
  },
  {
   "cell_type": "markdown",
   "source": "During our analysis, we have decided that there is no need in columns \"No\" and \"Date\", so we will drop them.",
   "metadata": {
    "tags": [],
    "is_collapsed": false,
    "cell_id": "00007-7645b5b8-e832-4ee9-9582-4af3fdab1c96",
    "deepnote_cell_type": "text-cell-p"
   }
  },
  {
   "cell_type": "code",
   "metadata": {
    "tags": [],
    "cell_id": "00004-7de1c34e-40eb-4a18-8f9b-a6e8f18bb9f7",
    "deepnote_to_be_reexecuted": false,
    "source_hash": "7279bb49",
    "execution_start": 1636797724277,
    "execution_millis": 186,
    "deepnote_cell_type": "code",
    "deepnote_cell_height": 292,
    "deepnote_output_heights": [
     177
    ]
   },
   "source": "data = pd.read_csv(\"Real_estate.csv\")\ndata.head()",
   "execution_count": null,
   "outputs": [
    {
     "output_type": "execute_result",
     "execution_count": 38,
     "data": {
      "application/vnd.deepnote.dataframe.v2+json": {
       "row_count": 5,
       "column_count": 8,
       "columns": [
        {
         "name": "No",
         "dtype": "int64",
         "stats": {
          "unique_count": 5,
          "nan_count": 0,
          "min": "1",
          "max": "5",
          "histogram": [
           {
            "bin_start": 1,
            "bin_end": 1.4,
            "count": 1
           },
           {
            "bin_start": 1.4,
            "bin_end": 1.8,
            "count": 0
           },
           {
            "bin_start": 1.8,
            "bin_end": 2.2,
            "count": 1
           },
           {
            "bin_start": 2.2,
            "bin_end": 2.6,
            "count": 0
           },
           {
            "bin_start": 2.6,
            "bin_end": 3,
            "count": 0
           },
           {
            "bin_start": 3,
            "bin_end": 3.4000000000000004,
            "count": 1
           },
           {
            "bin_start": 3.4000000000000004,
            "bin_end": 3.8000000000000003,
            "count": 0
           },
           {
            "bin_start": 3.8000000000000003,
            "bin_end": 4.2,
            "count": 1
           },
           {
            "bin_start": 4.2,
            "bin_end": 4.6,
            "count": 0
           },
           {
            "bin_start": 4.6,
            "bin_end": 5,
            "count": 1
           }
          ]
         }
        },
        {
         "name": "X1 transaction date",
         "dtype": "float64",
         "stats": {
          "unique_count": 4,
          "nan_count": 0,
          "min": "2012.833",
          "max": "2013.583",
          "histogram": [
           {
            "bin_start": 2012.833,
            "bin_end": 2012.9080000000001,
            "count": 1
           },
           {
            "bin_start": 2012.9080000000001,
            "bin_end": 2012.9830000000002,
            "count": 2
           },
           {
            "bin_start": 2012.9830000000002,
            "bin_end": 2013.058,
            "count": 0
           },
           {
            "bin_start": 2013.058,
            "bin_end": 2013.133,
            "count": 0
           },
           {
            "bin_start": 2013.133,
            "bin_end": 2013.208,
            "count": 0
           },
           {
            "bin_start": 2013.208,
            "bin_end": 2013.2830000000001,
            "count": 0
           },
           {
            "bin_start": 2013.2830000000001,
            "bin_end": 2013.3580000000002,
            "count": 0
           },
           {
            "bin_start": 2013.3580000000002,
            "bin_end": 2013.433,
            "count": 0
           },
           {
            "bin_start": 2013.433,
            "bin_end": 2013.508,
            "count": 1
           },
           {
            "bin_start": 2013.508,
            "bin_end": 2013.583,
            "count": 1
           }
          ]
         }
        },
        {
         "name": "X2 house age",
         "dtype": "float64",
         "stats": {
          "unique_count": 4,
          "nan_count": 0,
          "min": "5.0",
          "max": "32.0",
          "histogram": [
           {
            "bin_start": 5,
            "bin_end": 7.7,
            "count": 1
           },
           {
            "bin_start": 7.7,
            "bin_end": 10.4,
            "count": 0
           },
           {
            "bin_start": 10.4,
            "bin_end": 13.100000000000001,
            "count": 0
           },
           {
            "bin_start": 13.100000000000001,
            "bin_end": 15.8,
            "count": 2
           },
           {
            "bin_start": 15.8,
            "bin_end": 18.5,
            "count": 0
           },
           {
            "bin_start": 18.5,
            "bin_end": 21.200000000000003,
            "count": 1
           },
           {
            "bin_start": 21.200000000000003,
            "bin_end": 23.900000000000002,
            "count": 0
           },
           {
            "bin_start": 23.900000000000002,
            "bin_end": 26.6,
            "count": 0
           },
           {
            "bin_start": 26.6,
            "bin_end": 29.3,
            "count": 0
           },
           {
            "bin_start": 29.3,
            "bin_end": 32,
            "count": 1
           }
          ]
         }
        },
        {
         "name": "X3 distance to the nearest MRT station",
         "dtype": "float64",
         "stats": {
          "unique_count": 4,
          "nan_count": 0,
          "min": "84.87882",
          "max": "561.9845",
          "histogram": [
           {
            "bin_start": 84.87882,
            "bin_end": 132.589388,
            "count": 1
           },
           {
            "bin_start": 132.589388,
            "bin_end": 180.299956,
            "count": 0
           },
           {
            "bin_start": 180.299956,
            "bin_end": 228.01052400000003,
            "count": 0
           },
           {
            "bin_start": 228.01052400000003,
            "bin_end": 275.721092,
            "count": 0
           },
           {
            "bin_start": 275.721092,
            "bin_end": 323.43166,
            "count": 1
           },
           {
            "bin_start": 323.43166,
            "bin_end": 371.14222800000005,
            "count": 0
           },
           {
            "bin_start": 371.14222800000005,
            "bin_end": 418.852796,
            "count": 1
           },
           {
            "bin_start": 418.852796,
            "bin_end": 466.56336400000004,
            "count": 0
           },
           {
            "bin_start": 466.56336400000004,
            "bin_end": 514.2739320000001,
            "count": 0
           },
           {
            "bin_start": 514.2739320000001,
            "bin_end": 561.9845,
            "count": 2
           }
          ]
         }
        },
        {
         "name": "X4 number of convenience stores",
         "dtype": "int64",
         "stats": {
          "unique_count": 3,
          "nan_count": 0,
          "min": "5",
          "max": "10",
          "histogram": [
           {
            "bin_start": 5,
            "bin_end": 5.5,
            "count": 3
           },
           {
            "bin_start": 5.5,
            "bin_end": 6,
            "count": 0
           },
           {
            "bin_start": 6,
            "bin_end": 6.5,
            "count": 0
           },
           {
            "bin_start": 6.5,
            "bin_end": 7,
            "count": 0
           },
           {
            "bin_start": 7,
            "bin_end": 7.5,
            "count": 0
           },
           {
            "bin_start": 7.5,
            "bin_end": 8,
            "count": 0
           },
           {
            "bin_start": 8,
            "bin_end": 8.5,
            "count": 0
           },
           {
            "bin_start": 8.5,
            "bin_end": 9,
            "count": 0
           },
           {
            "bin_start": 9,
            "bin_end": 9.5,
            "count": 1
           },
           {
            "bin_start": 9.5,
            "bin_end": 10,
            "count": 1
           }
          ]
         }
        },
        {
         "name": "X5 latitude",
         "dtype": "float64",
         "stats": {
          "unique_count": 4,
          "nan_count": 0,
          "min": "24.97937",
          "max": "24.98746",
          "histogram": [
           {
            "bin_start": 24.97937,
            "bin_end": 24.980179,
            "count": 1
           },
           {
            "bin_start": 24.980179,
            "bin_end": 24.980988,
            "count": 1
           },
           {
            "bin_start": 24.980988,
            "bin_end": 24.981797,
            "count": 0
           },
           {
            "bin_start": 24.981797,
            "bin_end": 24.982606,
            "count": 0
           },
           {
            "bin_start": 24.982606,
            "bin_end": 24.983415,
            "count": 1
           },
           {
            "bin_start": 24.983415,
            "bin_end": 24.984223999999998,
            "count": 0
           },
           {
            "bin_start": 24.984223999999998,
            "bin_end": 24.985032999999998,
            "count": 0
           },
           {
            "bin_start": 24.985032999999998,
            "bin_end": 24.985841999999998,
            "count": 0
           },
           {
            "bin_start": 24.985841999999998,
            "bin_end": 24.986651,
            "count": 0
           },
           {
            "bin_start": 24.986651,
            "bin_end": 24.98746,
            "count": 2
           }
          ]
         }
        },
        {
         "name": "X6 longitude",
         "dtype": "float64",
         "stats": {
          "unique_count": 4,
          "nan_count": 0,
          "min": "121.53951",
          "max": "121.54391",
          "histogram": [
           {
            "bin_start": 121.53951,
            "bin_end": 121.53995,
            "count": 1
           },
           {
            "bin_start": 121.53995,
            "bin_end": 121.54039,
            "count": 1
           },
           {
            "bin_start": 121.54039,
            "bin_end": 121.54083,
            "count": 0
           },
           {
            "bin_start": 121.54083,
            "bin_end": 121.54127,
            "count": 0
           },
           {
            "bin_start": 121.54127,
            "bin_end": 121.54171,
            "count": 0
           },
           {
            "bin_start": 121.54171,
            "bin_end": 121.54215,
            "count": 0
           },
           {
            "bin_start": 121.54215,
            "bin_end": 121.54259,
            "count": 1
           },
           {
            "bin_start": 121.54259,
            "bin_end": 121.54303,
            "count": 0
           },
           {
            "bin_start": 121.54303,
            "bin_end": 121.54347,
            "count": 0
           },
           {
            "bin_start": 121.54347,
            "bin_end": 121.54391,
            "count": 2
           }
          ]
         }
        },
        {
         "name": "Y house price of unit area",
         "dtype": "float64",
         "stats": {
          "unique_count": 5,
          "nan_count": 0,
          "min": "37.9",
          "max": "54.8",
          "histogram": [
           {
            "bin_start": 37.9,
            "bin_end": 39.589999999999996,
            "count": 1
           },
           {
            "bin_start": 39.589999999999996,
            "bin_end": 41.28,
            "count": 0
           },
           {
            "bin_start": 41.28,
            "bin_end": 42.97,
            "count": 1
           },
           {
            "bin_start": 42.97,
            "bin_end": 44.66,
            "count": 1
           },
           {
            "bin_start": 44.66,
            "bin_end": 46.349999999999994,
            "count": 0
           },
           {
            "bin_start": 46.349999999999994,
            "bin_end": 48.04,
            "count": 1
           },
           {
            "bin_start": 48.04,
            "bin_end": 49.73,
            "count": 0
           },
           {
            "bin_start": 49.73,
            "bin_end": 51.42,
            "count": 0
           },
           {
            "bin_start": 51.42,
            "bin_end": 53.11,
            "count": 0
           },
           {
            "bin_start": 53.11,
            "bin_end": 54.8,
            "count": 1
           }
          ]
         }
        },
        {
         "name": "_deepnote_index_column",
         "dtype": "int64"
        }
       ],
       "rows_top": [
        {
         "No": 1,
         "X1 transaction date": 2012.917,
         "X2 house age": 32,
         "X3 distance to the nearest MRT station": 84.87882,
         "X4 number of convenience stores": 10,
         "X5 latitude": 24.98298,
         "X6 longitude": 121.54024,
         "Y house price of unit area": 37.9,
         "_deepnote_index_column": 0
        },
        {
         "No": 2,
         "X1 transaction date": 2012.917,
         "X2 house age": 19.5,
         "X3 distance to the nearest MRT station": 306.5947,
         "X4 number of convenience stores": 9,
         "X5 latitude": 24.98034,
         "X6 longitude": 121.53951,
         "Y house price of unit area": 42.2,
         "_deepnote_index_column": 1
        },
        {
         "No": 3,
         "X1 transaction date": 2013.583,
         "X2 house age": 13.3,
         "X3 distance to the nearest MRT station": 561.9845,
         "X4 number of convenience stores": 5,
         "X5 latitude": 24.98746,
         "X6 longitude": 121.54391,
         "Y house price of unit area": 47.3,
         "_deepnote_index_column": 2
        },
        {
         "No": 4,
         "X1 transaction date": 2013.5,
         "X2 house age": 13.3,
         "X3 distance to the nearest MRT station": 561.9845,
         "X4 number of convenience stores": 5,
         "X5 latitude": 24.98746,
         "X6 longitude": 121.54391,
         "Y house price of unit area": 54.8,
         "_deepnote_index_column": 3
        },
        {
         "No": 5,
         "X1 transaction date": 2012.833,
         "X2 house age": 5,
         "X3 distance to the nearest MRT station": 390.5684,
         "X4 number of convenience stores": 5,
         "X5 latitude": 24.97937,
         "X6 longitude": 121.54245,
         "Y house price of unit area": 43.1,
         "_deepnote_index_column": 4
        }
       ],
       "rows_bottom": null
      },
      "text/plain": "   No  X1 transaction date  X2 house age  \\\n0   1             2012.917          32.0   \n1   2             2012.917          19.5   \n2   3             2013.583          13.3   \n3   4             2013.500          13.3   \n4   5             2012.833           5.0   \n\n   X3 distance to the nearest MRT station  X4 number of convenience stores  \\\n0                                84.87882                               10   \n1                               306.59470                                9   \n2                               561.98450                                5   \n3                               561.98450                                5   \n4                               390.56840                                5   \n\n   X5 latitude  X6 longitude  Y house price of unit area  \n0     24.98298     121.54024                        37.9  \n1     24.98034     121.53951                        42.2  \n2     24.98746     121.54391                        47.3  \n3     24.98746     121.54391                        54.8  \n4     24.97937     121.54245                        43.1  ",
      "text/html": "<div>\n<style scoped>\n    .dataframe tbody tr th:only-of-type {\n        vertical-align: middle;\n    }\n\n    .dataframe tbody tr th {\n        vertical-align: top;\n    }\n\n    .dataframe thead th {\n        text-align: right;\n    }\n</style>\n<table border=\"1\" class=\"dataframe\">\n  <thead>\n    <tr style=\"text-align: right;\">\n      <th></th>\n      <th>No</th>\n      <th>X1 transaction date</th>\n      <th>X2 house age</th>\n      <th>X3 distance to the nearest MRT station</th>\n      <th>X4 number of convenience stores</th>\n      <th>X5 latitude</th>\n      <th>X6 longitude</th>\n      <th>Y house price of unit area</th>\n    </tr>\n  </thead>\n  <tbody>\n    <tr>\n      <th>0</th>\n      <td>1</td>\n      <td>2012.917</td>\n      <td>32.0</td>\n      <td>84.87882</td>\n      <td>10</td>\n      <td>24.98298</td>\n      <td>121.54024</td>\n      <td>37.9</td>\n    </tr>\n    <tr>\n      <th>1</th>\n      <td>2</td>\n      <td>2012.917</td>\n      <td>19.5</td>\n      <td>306.59470</td>\n      <td>9</td>\n      <td>24.98034</td>\n      <td>121.53951</td>\n      <td>42.2</td>\n    </tr>\n    <tr>\n      <th>2</th>\n      <td>3</td>\n      <td>2013.583</td>\n      <td>13.3</td>\n      <td>561.98450</td>\n      <td>5</td>\n      <td>24.98746</td>\n      <td>121.54391</td>\n      <td>47.3</td>\n    </tr>\n    <tr>\n      <th>3</th>\n      <td>4</td>\n      <td>2013.500</td>\n      <td>13.3</td>\n      <td>561.98450</td>\n      <td>5</td>\n      <td>24.98746</td>\n      <td>121.54391</td>\n      <td>54.8</td>\n    </tr>\n    <tr>\n      <th>4</th>\n      <td>5</td>\n      <td>2012.833</td>\n      <td>5.0</td>\n      <td>390.56840</td>\n      <td>5</td>\n      <td>24.97937</td>\n      <td>121.54245</td>\n      <td>43.1</td>\n    </tr>\n  </tbody>\n</table>\n</div>"
     },
     "metadata": {}
    }
   ]
  },
  {
   "cell_type": "code",
   "metadata": {
    "tags": [],
    "cell_id": "00006-0079f14a-6c92-4baf-9fdc-aa8761907704",
    "deepnote_to_be_reexecuted": false,
    "source_hash": "d786443f",
    "execution_start": 1636796990003,
    "execution_millis": 221,
    "deepnote_cell_type": "code",
    "deepnote_cell_height": 361,
    "deepnote_output_heights": [
     264
    ]
   },
   "source": "data.describe()",
   "execution_count": null,
   "outputs": [
    {
     "output_type": "execute_result",
     "execution_count": 3,
     "data": {
      "application/vnd.deepnote.dataframe.v2+json": {
       "row_count": 8,
       "column_count": 8,
       "columns": [
        {
         "name": "No",
         "dtype": "float64",
         "stats": {
          "unique_count": 6,
          "nan_count": 0,
          "min": "1.0",
          "max": "414.0",
          "histogram": [
           {
            "bin_start": 1,
            "bin_end": 42.3,
            "count": 1
           },
           {
            "bin_start": 42.3,
            "bin_end": 83.6,
            "count": 0
           },
           {
            "bin_start": 83.6,
            "bin_end": 124.89999999999999,
            "count": 2
           },
           {
            "bin_start": 124.89999999999999,
            "bin_end": 166.2,
            "count": 0
           },
           {
            "bin_start": 166.2,
            "bin_end": 207.5,
            "count": 0
           },
           {
            "bin_start": 207.5,
            "bin_end": 248.79999999999998,
            "count": 2
           },
           {
            "bin_start": 248.79999999999998,
            "bin_end": 290.09999999999997,
            "count": 0
           },
           {
            "bin_start": 290.09999999999997,
            "bin_end": 331.4,
            "count": 1
           },
           {
            "bin_start": 331.4,
            "bin_end": 372.7,
            "count": 0
           },
           {
            "bin_start": 372.7,
            "bin_end": 414,
            "count": 2
           }
          ]
         }
        },
        {
         "name": "X1 transaction date",
         "dtype": "float64",
         "stats": {
          "unique_count": 8,
          "nan_count": 0,
          "min": "0.2819672402630115",
          "max": "2013.583",
          "histogram": [
           {
            "bin_start": 0.2819672402630115,
            "bin_end": 201.61207051623674,
            "count": 1
           },
           {
            "bin_start": 201.61207051623674,
            "bin_end": 402.94217379221044,
            "count": 0
           },
           {
            "bin_start": 402.94217379221044,
            "bin_end": 604.2722770681843,
            "count": 1
           },
           {
            "bin_start": 604.2722770681843,
            "bin_end": 805.602380344158,
            "count": 0
           },
           {
            "bin_start": 805.602380344158,
            "bin_end": 1006.9324836201316,
            "count": 0
           },
           {
            "bin_start": 1006.9324836201316,
            "bin_end": 1208.2625868961054,
            "count": 0
           },
           {
            "bin_start": 1208.2625868961054,
            "bin_end": 1409.592690172079,
            "count": 0
           },
           {
            "bin_start": 1409.592690172079,
            "bin_end": 1610.9227934480527,
            "count": 0
           },
           {
            "bin_start": 1610.9227934480527,
            "bin_end": 1812.2528967240264,
            "count": 0
           },
           {
            "bin_start": 1812.2528967240264,
            "bin_end": 2013.583,
            "count": 6
           }
          ]
         }
        },
        {
         "name": "X2 house age",
         "dtype": "float64",
         "stats": {
          "unique_count": 8,
          "nan_count": 0,
          "min": "0.0",
          "max": "414.0",
          "histogram": [
           {
            "bin_start": 0,
            "bin_end": 41.4,
            "count": 6
           },
           {
            "bin_start": 41.4,
            "bin_end": 82.8,
            "count": 1
           },
           {
            "bin_start": 82.8,
            "bin_end": 124.19999999999999,
            "count": 0
           },
           {
            "bin_start": 124.19999999999999,
            "bin_end": 165.6,
            "count": 0
           },
           {
            "bin_start": 165.6,
            "bin_end": 207,
            "count": 0
           },
           {
            "bin_start": 207,
            "bin_end": 248.39999999999998,
            "count": 0
           },
           {
            "bin_start": 248.39999999999998,
            "bin_end": 289.8,
            "count": 0
           },
           {
            "bin_start": 289.8,
            "bin_end": 331.2,
            "count": 0
           },
           {
            "bin_start": 331.2,
            "bin_end": 372.59999999999997,
            "count": 0
           },
           {
            "bin_start": 372.59999999999997,
            "bin_end": 414,
            "count": 1
           }
          ]
         }
        },
        {
         "name": "X3 distance to the nearest MRT station",
         "dtype": "float64",
         "stats": {
          "unique_count": 8,
          "nan_count": 0,
          "min": "23.38284",
          "max": "6488.021",
          "histogram": [
           {
            "bin_start": 23.38284,
            "bin_end": 669.8466559999999,
            "count": 4
           },
           {
            "bin_start": 669.8466559999999,
            "bin_end": 1316.310472,
            "count": 2
           },
           {
            "bin_start": 1316.310472,
            "bin_end": 1962.7742879999998,
            "count": 1
           },
           {
            "bin_start": 1962.7742879999998,
            "bin_end": 2609.238104,
            "count": 0
           },
           {
            "bin_start": 2609.238104,
            "bin_end": 3255.70192,
            "count": 0
           },
           {
            "bin_start": 3255.70192,
            "bin_end": 3902.165736,
            "count": 0
           },
           {
            "bin_start": 3902.165736,
            "bin_end": 4548.629552,
            "count": 0
           },
           {
            "bin_start": 4548.629552,
            "bin_end": 5195.093368,
            "count": 0
           },
           {
            "bin_start": 5195.093368,
            "bin_end": 5841.557183999999,
            "count": 0
           },
           {
            "bin_start": 5841.557183999999,
            "bin_end": 6488.021,
            "count": 1
           }
          ]
         }
        },
        {
         "name": "X4 number of convenience stores",
         "dtype": "float64",
         "stats": {
          "unique_count": 8,
          "nan_count": 0,
          "min": "0.0",
          "max": "414.0",
          "histogram": [
           {
            "bin_start": 0,
            "bin_end": 41.4,
            "count": 7
           },
           {
            "bin_start": 41.4,
            "bin_end": 82.8,
            "count": 0
           },
           {
            "bin_start": 82.8,
            "bin_end": 124.19999999999999,
            "count": 0
           },
           {
            "bin_start": 124.19999999999999,
            "bin_end": 165.6,
            "count": 0
           },
           {
            "bin_start": 165.6,
            "bin_end": 207,
            "count": 0
           },
           {
            "bin_start": 207,
            "bin_end": 248.39999999999998,
            "count": 0
           },
           {
            "bin_start": 248.39999999999998,
            "bin_end": 289.8,
            "count": 0
           },
           {
            "bin_start": 289.8,
            "bin_end": 331.2,
            "count": 0
           },
           {
            "bin_start": 331.2,
            "bin_end": 372.59999999999997,
            "count": 0
           },
           {
            "bin_start": 372.59999999999997,
            "bin_end": 414,
            "count": 1
           }
          ]
         }
        },
        {
         "name": "X5 latitude",
         "dtype": "float64",
         "stats": {
          "unique_count": 8,
          "nan_count": 0,
          "min": "0.012410196590450338",
          "max": "414.0",
          "histogram": [
           {
            "bin_start": 0.012410196590450338,
            "bin_end": 41.41116917693141,
            "count": 7
           },
           {
            "bin_start": 41.41116917693141,
            "bin_end": 82.80992815727237,
            "count": 0
           },
           {
            "bin_start": 82.80992815727237,
            "bin_end": 124.20868713761332,
            "count": 0
           },
           {
            "bin_start": 124.20868713761332,
            "bin_end": 165.60744611795428,
            "count": 0
           },
           {
            "bin_start": 165.60744611795428,
            "bin_end": 207.00620509829525,
            "count": 0
           },
           {
            "bin_start": 207.00620509829525,
            "bin_end": 248.4049640786362,
            "count": 0
           },
           {
            "bin_start": 248.4049640786362,
            "bin_end": 289.80372305897714,
            "count": 0
           },
           {
            "bin_start": 289.80372305897714,
            "bin_end": 331.2024820393181,
            "count": 0
           },
           {
            "bin_start": 331.2024820393181,
            "bin_end": 372.6012410196591,
            "count": 0
           },
           {
            "bin_start": 372.6012410196591,
            "bin_end": 414,
            "count": 1
           }
          ]
         }
        },
        {
         "name": "X6 longitude",
         "dtype": "float64",
         "stats": {
          "unique_count": 8,
          "nan_count": 0,
          "min": "0.015347183004592205",
          "max": "414.0",
          "histogram": [
           {
            "bin_start": 0.015347183004592205,
            "bin_end": 41.41381246470414,
            "count": 1
           },
           {
            "bin_start": 41.41381246470414,
            "bin_end": 82.81227774640368,
            "count": 0
           },
           {
            "bin_start": 82.81227774640368,
            "bin_end": 124.21074302810322,
            "count": 6
           },
           {
            "bin_start": 124.21074302810322,
            "bin_end": 165.60920830980277,
            "count": 0
           },
           {
            "bin_start": 165.60920830980277,
            "bin_end": 207.0076735915023,
            "count": 0
           },
           {
            "bin_start": 207.0076735915023,
            "bin_end": 248.40613887320185,
            "count": 0
           },
           {
            "bin_start": 248.40613887320185,
            "bin_end": 289.80460415490137,
            "count": 0
           },
           {
            "bin_start": 289.80460415490137,
            "bin_end": 331.2030694366009,
            "count": 0
           },
           {
            "bin_start": 331.2030694366009,
            "bin_end": 372.60153471830046,
            "count": 0
           },
           {
            "bin_start": 372.60153471830046,
            "bin_end": 414,
            "count": 1
           }
          ]
         }
        },
        {
         "name": "Y house price of unit area",
         "dtype": "float64",
         "stats": {
          "unique_count": 8,
          "nan_count": 0,
          "min": "7.6",
          "max": "414.0",
          "histogram": [
           {
            "bin_start": 7.6,
            "bin_end": 48.24,
            "count": 6
           },
           {
            "bin_start": 48.24,
            "bin_end": 88.88,
            "count": 0
           },
           {
            "bin_start": 88.88,
            "bin_end": 129.52,
            "count": 1
           },
           {
            "bin_start": 129.52,
            "bin_end": 170.16,
            "count": 0
           },
           {
            "bin_start": 170.16,
            "bin_end": 210.79999999999998,
            "count": 0
           },
           {
            "bin_start": 210.79999999999998,
            "bin_end": 251.44,
            "count": 0
           },
           {
            "bin_start": 251.44,
            "bin_end": 292.08000000000004,
            "count": 0
           },
           {
            "bin_start": 292.08000000000004,
            "bin_end": 332.72,
            "count": 0
           },
           {
            "bin_start": 332.72,
            "bin_end": 373.36,
            "count": 0
           },
           {
            "bin_start": 373.36,
            "bin_end": 414,
            "count": 1
           }
          ]
         }
        },
        {
         "name": "_deepnote_index_column",
         "dtype": "object"
        }
       ],
       "rows_top": [
        {
         "No": 414,
         "X1 transaction date": 414,
         "X2 house age": 414,
         "X3 distance to the nearest MRT station": 414,
         "X4 number of convenience stores": 414,
         "X5 latitude": 414,
         "X6 longitude": 414,
         "Y house price of unit area": 414,
         "_deepnote_index_column": "count"
        },
        {
         "No": 207.5,
         "X1 transaction date": 2013.1489710144926,
         "X2 house age": 17.71256038647343,
         "X3 distance to the nearest MRT station": 1083.8856889130436,
         "X4 number of convenience stores": 4.094202898550725,
         "X5 latitude": 24.969030072463767,
         "X6 longitude": 121.53336108695655,
         "Y house price of unit area": 37.980193236714975,
         "_deepnote_index_column": "mean"
        },
        {
         "No": 119.6557562342907,
         "X1 transaction date": 0.2819672402630115,
         "X2 house age": 11.39248453324253,
         "X3 distance to the nearest MRT station": 1262.1095954078512,
         "X4 number of convenience stores": 2.945561805663618,
         "X5 latitude": 0.012410196590450338,
         "X6 longitude": 0.015347183004592205,
         "Y house price of unit area": 13.606487697735314,
         "_deepnote_index_column": "std"
        },
        {
         "No": 1,
         "X1 transaction date": 2012.667,
         "X2 house age": 0,
         "X3 distance to the nearest MRT station": 23.38284,
         "X4 number of convenience stores": 0,
         "X5 latitude": 24.93207,
         "X6 longitude": 121.47353,
         "Y house price of unit area": 7.6,
         "_deepnote_index_column": "min"
        },
        {
         "No": 104.25,
         "X1 transaction date": 2012.917,
         "X2 house age": 9.025,
         "X3 distance to the nearest MRT station": 289.3248,
         "X4 number of convenience stores": 1,
         "X5 latitude": 24.963,
         "X6 longitude": 121.528085,
         "Y house price of unit area": 27.7,
         "_deepnote_index_column": "25%"
        },
        {
         "No": 207.5,
         "X1 transaction date": 2013.167,
         "X2 house age": 16.1,
         "X3 distance to the nearest MRT station": 492.2313,
         "X4 number of convenience stores": 4,
         "X5 latitude": 24.9711,
         "X6 longitude": 121.53863,
         "Y house price of unit area": 38.45,
         "_deepnote_index_column": "50%"
        },
        {
         "No": 310.75,
         "X1 transaction date": 2013.417,
         "X2 house age": 28.15,
         "X3 distance to the nearest MRT station": 1454.279,
         "X4 number of convenience stores": 6,
         "X5 latitude": 24.977455,
         "X6 longitude": 121.543305,
         "Y house price of unit area": 46.6,
         "_deepnote_index_column": "75%"
        },
        {
         "No": 414,
         "X1 transaction date": 2013.583,
         "X2 house age": 43.8,
         "X3 distance to the nearest MRT station": 6488.021,
         "X4 number of convenience stores": 10,
         "X5 latitude": 25.01459,
         "X6 longitude": 121.56627,
         "Y house price of unit area": 117.5,
         "_deepnote_index_column": "max"
        }
       ],
       "rows_bottom": null
      },
      "text/plain": "               No  X1 transaction date  X2 house age  \\\ncount  414.000000           414.000000    414.000000   \nmean   207.500000          2013.148971     17.712560   \nstd    119.655756             0.281967     11.392485   \nmin      1.000000          2012.667000      0.000000   \n25%    104.250000          2012.917000      9.025000   \n50%    207.500000          2013.167000     16.100000   \n75%    310.750000          2013.417000     28.150000   \nmax    414.000000          2013.583000     43.800000   \n\n       X3 distance to the nearest MRT station  \\\ncount                              414.000000   \nmean                              1083.885689   \nstd                               1262.109595   \nmin                                 23.382840   \n25%                                289.324800   \n50%                                492.231300   \n75%                               1454.279000   \nmax                               6488.021000   \n\n       X4 number of convenience stores  X5 latitude  X6 longitude  \\\ncount                       414.000000   414.000000    414.000000   \nmean                          4.094203    24.969030    121.533361   \nstd                           2.945562     0.012410      0.015347   \nmin                           0.000000    24.932070    121.473530   \n25%                           1.000000    24.963000    121.528085   \n50%                           4.000000    24.971100    121.538630   \n75%                           6.000000    24.977455    121.543305   \nmax                          10.000000    25.014590    121.566270   \n\n       Y house price of unit area  \ncount                  414.000000  \nmean                    37.980193  \nstd                     13.606488  \nmin                      7.600000  \n25%                     27.700000  \n50%                     38.450000  \n75%                     46.600000  \nmax                    117.500000  ",
      "text/html": "<div>\n<style scoped>\n    .dataframe tbody tr th:only-of-type {\n        vertical-align: middle;\n    }\n\n    .dataframe tbody tr th {\n        vertical-align: top;\n    }\n\n    .dataframe thead th {\n        text-align: right;\n    }\n</style>\n<table border=\"1\" class=\"dataframe\">\n  <thead>\n    <tr style=\"text-align: right;\">\n      <th></th>\n      <th>No</th>\n      <th>X1 transaction date</th>\n      <th>X2 house age</th>\n      <th>X3 distance to the nearest MRT station</th>\n      <th>X4 number of convenience stores</th>\n      <th>X5 latitude</th>\n      <th>X6 longitude</th>\n      <th>Y house price of unit area</th>\n    </tr>\n  </thead>\n  <tbody>\n    <tr>\n      <th>count</th>\n      <td>414.000000</td>\n      <td>414.000000</td>\n      <td>414.000000</td>\n      <td>414.000000</td>\n      <td>414.000000</td>\n      <td>414.000000</td>\n      <td>414.000000</td>\n      <td>414.000000</td>\n    </tr>\n    <tr>\n      <th>mean</th>\n      <td>207.500000</td>\n      <td>2013.148971</td>\n      <td>17.712560</td>\n      <td>1083.885689</td>\n      <td>4.094203</td>\n      <td>24.969030</td>\n      <td>121.533361</td>\n      <td>37.980193</td>\n    </tr>\n    <tr>\n      <th>std</th>\n      <td>119.655756</td>\n      <td>0.281967</td>\n      <td>11.392485</td>\n      <td>1262.109595</td>\n      <td>2.945562</td>\n      <td>0.012410</td>\n      <td>0.015347</td>\n      <td>13.606488</td>\n    </tr>\n    <tr>\n      <th>min</th>\n      <td>1.000000</td>\n      <td>2012.667000</td>\n      <td>0.000000</td>\n      <td>23.382840</td>\n      <td>0.000000</td>\n      <td>24.932070</td>\n      <td>121.473530</td>\n      <td>7.600000</td>\n    </tr>\n    <tr>\n      <th>25%</th>\n      <td>104.250000</td>\n      <td>2012.917000</td>\n      <td>9.025000</td>\n      <td>289.324800</td>\n      <td>1.000000</td>\n      <td>24.963000</td>\n      <td>121.528085</td>\n      <td>27.700000</td>\n    </tr>\n    <tr>\n      <th>50%</th>\n      <td>207.500000</td>\n      <td>2013.167000</td>\n      <td>16.100000</td>\n      <td>492.231300</td>\n      <td>4.000000</td>\n      <td>24.971100</td>\n      <td>121.538630</td>\n      <td>38.450000</td>\n    </tr>\n    <tr>\n      <th>75%</th>\n      <td>310.750000</td>\n      <td>2013.417000</td>\n      <td>28.150000</td>\n      <td>1454.279000</td>\n      <td>6.000000</td>\n      <td>24.977455</td>\n      <td>121.543305</td>\n      <td>46.600000</td>\n    </tr>\n    <tr>\n      <th>max</th>\n      <td>414.000000</td>\n      <td>2013.583000</td>\n      <td>43.800000</td>\n      <td>6488.021000</td>\n      <td>10.000000</td>\n      <td>25.014590</td>\n      <td>121.566270</td>\n      <td>117.500000</td>\n    </tr>\n  </tbody>\n</table>\n</div>"
     },
     "metadata": {}
    }
   ]
  },
  {
   "cell_type": "code",
   "metadata": {
    "tags": [],
    "cell_id": "00007-c098139c-5152-4c1b-87a4-a194b94cae39",
    "deepnote_to_be_reexecuted": false,
    "source_hash": "2db2a0f7",
    "execution_start": 1636796990278,
    "execution_millis": 4935,
    "deepnote_cell_type": "code",
    "deepnote_cell_height": 703.09375,
    "deepnote_output_heights": [
     588.09375
    ]
   },
   "source": "data.hist(bins = 10 , figsize = (20,15))\nplt.show()",
   "execution_count": null,
   "outputs": [
    {
     "data": {
      "text/plain": "<Figure size 1440x1080 with 9 Axes>",
      "image/png": "[encoded data removed]"
     },
     "metadata": {
      "needs_background": "light",
      "image/png": {
       "width": 1156,
       "height": 862
      }
     },
     "output_type": "display_data"
    }
   ]
  },
  {
   "cell_type": "code",
   "metadata": {
    "tags": [],
    "cell_id": "00008-3faabc07-7784-4505-aead-05c5cbd4f0e1",
    "deepnote_to_be_reexecuted": false,
    "source_hash": "cd4899a4",
    "execution_start": 1636797746799,
    "execution_millis": 0,
    "deepnote_cell_type": "code",
    "deepnote_cell_height": 117
   },
   "source": "#There is no need of 'No' column and 'Date' column, because they do not affect on price, so drop it.\ndata.drop(['No'], axis=1, inplace=True)\ndata.drop(['X1 transaction date'],axis=1, inplace=True)",
   "execution_count": null,
   "outputs": []
  },
  {
   "cell_type": "markdown",
   "source": "### Find and remove outliers from Dataset",
   "metadata": {
    "tags": [],
    "is_collapsed": false,
    "cell_id": "00011-7c7708a2-3805-443a-8747-5382cfaafa4e",
    "deepnote_cell_type": "text-cell-h3"
   }
  },
  {
   "cell_type": "code",
   "metadata": {
    "tags": [],
    "cell_id": "00012-571483d0-6ae5-4de0-838a-b8296e5b55a6",
    "deepnote_to_be_reexecuted": false,
    "source_hash": "ad85d9a3",
    "execution_start": 1636797753307,
    "execution_millis": 42,
    "deepnote_cell_type": "code",
    "deepnote_cell_height": 225
   },
   "source": "first_quartile = data.quantile(q=0.25)\nthird_quartile = data.quantile(q=0.75)\nIQR = third_quartile - first_quartile\noutliers = data[(data > (third_quartile + 1.5 * IQR)) | (data < (first_quartile - 1.5 * IQR))].count(axis=1)\noutliers.sort_values(axis=0, ascending=False, inplace=True)\n\n# we remove outliers in the number of 100.\noutliers = outliers.head(100)\ndata.drop(outliers.index, inplace=True)",
   "execution_count": null,
   "outputs": []
  },
  {
   "cell_type": "code",
   "metadata": {
    "tags": [],
    "cell_id": "00013-44c94687-cf81-44b7-a94a-2ade25b24562",
    "deepnote_to_be_reexecuted": false,
    "source_hash": "e6928a8f",
    "execution_start": 1636796995155,
    "execution_millis": 243,
    "deepnote_cell_type": "code",
    "deepnote_cell_height": 479,
    "deepnote_output_heights": [
     382
    ]
   },
   "source": "data",
   "execution_count": null,
   "outputs": [
    {
     "output_type": "execute_result",
     "execution_count": 7,
     "data": {
      "application/vnd.deepnote.dataframe.v2+json": {
       "row_count": 314,
       "column_count": 6,
       "columns": [
        {
         "name": "X2 house age",
         "dtype": "float64",
         "stats": {
          "unique_count": 196,
          "nan_count": 0,
          "min": "0.0",
          "max": "43.8",
          "histogram": [
           {
            "bin_start": 0,
            "bin_end": 4.38,
            "count": 46
           },
           {
            "bin_start": 4.38,
            "bin_end": 8.76,
            "count": 38
           },
           {
            "bin_start": 8.76,
            "bin_end": 13.14,
            "count": 41
           },
           {
            "bin_start": 13.14,
            "bin_end": 17.52,
            "count": 63
           },
           {
            "bin_start": 17.52,
            "bin_end": 21.9,
            "count": 35
           },
           {
            "bin_start": 21.9,
            "bin_end": 26.28,
            "count": 5
           },
           {
            "bin_start": 26.28,
            "bin_end": 30.66,
            "count": 19
           },
           {
            "bin_start": 30.66,
            "bin_end": 35.04,
            "count": 38
           },
           {
            "bin_start": 35.04,
            "bin_end": 39.42,
            "count": 19
           },
           {
            "bin_start": 39.42,
            "bin_end": 43.8,
            "count": 10
           }
          ]
         }
        },
        {
         "name": "X3 distance to the nearest MRT station",
         "dtype": "float64",
         "stats": {
          "unique_count": 201,
          "nan_count": 0,
          "min": "23.38284",
          "max": "3085.17",
          "histogram": [
           {
            "bin_start": 23.38284,
            "bin_end": 329.561556,
            "count": 102
           },
           {
            "bin_start": 329.561556,
            "bin_end": 635.740272,
            "count": 104
           },
           {
            "bin_start": 635.740272,
            "bin_end": 941.918988,
            "count": 21
           },
           {
            "bin_start": 941.918988,
            "bin_end": 1248.097704,
            "count": 17
           },
           {
            "bin_start": 1248.097704,
            "bin_end": 1554.27642,
            "count": 21
           },
           {
            "bin_start": 1554.27642,
            "bin_end": 1860.455136,
            "count": 16
           },
           {
            "bin_start": 1860.455136,
            "bin_end": 2166.6338520000004,
            "count": 12
           },
           {
            "bin_start": 2166.6338520000004,
            "bin_end": 2472.8125680000003,
            "count": 17
           },
           {
            "bin_start": 2472.8125680000003,
            "bin_end": 2778.991284,
            "count": 3
           },
           {
            "bin_start": 2778.991284,
            "bin_end": 3085.17,
            "count": 1
           }
          ]
         }
        },
        {
         "name": "X4 number of convenience stores",
         "dtype": "int64",
         "stats": {
          "unique_count": 11,
          "nan_count": 0,
          "min": "0",
          "max": "10",
          "histogram": [
           {
            "bin_start": 0,
            "bin_end": 1,
            "count": 26
           },
           {
            "bin_start": 1,
            "bin_end": 2,
            "count": 32
           },
           {
            "bin_start": 2,
            "bin_end": 3,
            "count": 22
           },
           {
            "bin_start": 3,
            "bin_end": 4,
            "count": 37
           },
           {
            "bin_start": 4,
            "bin_end": 5,
            "count": 28
           },
           {
            "bin_start": 5,
            "bin_end": 6,
            "count": 60
           },
           {
            "bin_start": 6,
            "bin_end": 7,
            "count": 29
           },
           {
            "bin_start": 7,
            "bin_end": 8,
            "count": 25
           },
           {
            "bin_start": 8,
            "bin_end": 9,
            "count": 28
           },
           {
            "bin_start": 9,
            "bin_end": 10,
            "count": 27
           }
          ]
         }
        },
        {
         "name": "X5 latitude",
         "dtype": "float64",
         "stats": {
          "unique_count": 183,
          "nan_count": 0,
          "min": "24.94883",
          "max": "24.998",
          "histogram": [
           {
            "bin_start": 24.94883,
            "bin_end": 24.953747,
            "count": 18
           },
           {
            "bin_start": 24.953747,
            "bin_end": 24.958664000000002,
            "count": 18
           },
           {
            "bin_start": 24.958664000000002,
            "bin_end": 24.963581,
            "count": 33
           },
           {
            "bin_start": 24.963581,
            "bin_end": 24.968498,
            "count": 51
           },
           {
            "bin_start": 24.968498,
            "bin_end": 24.973415000000003,
            "count": 36
           },
           {
            "bin_start": 24.973415000000003,
            "bin_end": 24.978332,
            "count": 74
           },
           {
            "bin_start": 24.978332,
            "bin_end": 24.983249,
            "count": 58
           },
           {
            "bin_start": 24.983249,
            "bin_end": 24.988166,
            "count": 17
           },
           {
            "bin_start": 24.988166,
            "bin_end": 24.993083000000002,
            "count": 8
           },
           {
            "bin_start": 24.993083000000002,
            "bin_end": 24.998,
            "count": 1
           }
          ]
         }
        },
        {
         "name": "X6 longitude",
         "dtype": "float64",
         "stats": {
          "unique_count": 182,
          "nan_count": 0,
          "min": "121.50827",
          "max": "121.56174",
          "histogram": [
           {
            "bin_start": 121.50827,
            "bin_end": 121.513617,
            "count": 22
           },
           {
            "bin_start": 121.513617,
            "bin_end": 121.518964,
            "count": 24
           },
           {
            "bin_start": 121.518964,
            "bin_end": 121.524311,
            "count": 2
           },
           {
            "bin_start": 121.524311,
            "bin_end": 121.529658,
            "count": 7
           },
           {
            "bin_start": 121.529658,
            "bin_end": 121.535005,
            "count": 40
           },
           {
            "bin_start": 121.535005,
            "bin_end": 121.540352,
            "count": 67
           },
           {
            "bin_start": 121.540352,
            "bin_end": 121.545699,
            "count": 109
           },
           {
            "bin_start": 121.545699,
            "bin_end": 121.551046,
            "count": 34
           },
           {
            "bin_start": 121.551046,
            "bin_end": 121.556393,
            "count": 6
           },
           {
            "bin_start": 121.556393,
            "bin_end": 121.56174,
            "count": 3
           }
          ]
         }
        },
        {
         "name": "Y house price of unit area",
         "dtype": "float64",
         "stats": {
          "unique_count": 219,
          "nan_count": 0,
          "min": "7.6",
          "max": "73.6",
          "histogram": [
           {
            "bin_start": 7.6,
            "bin_end": 14.2,
            "count": 3
           },
           {
            "bin_start": 14.2,
            "bin_end": 20.799999999999997,
            "count": 5
           },
           {
            "bin_start": 20.799999999999997,
            "bin_end": 27.4,
            "count": 47
           },
           {
            "bin_start": 27.4,
            "bin_end": 34,
            "count": 41
           },
           {
            "bin_start": 34,
            "bin_end": 40.6,
            "count": 68
           },
           {
            "bin_start": 40.6,
            "bin_end": 47.199999999999996,
            "count": 70
           },
           {
            "bin_start": 47.199999999999996,
            "bin_end": 53.8,
            "count": 41
           },
           {
            "bin_start": 53.8,
            "bin_end": 60.4,
            "count": 24
           },
           {
            "bin_start": 60.4,
            "bin_end": 67,
            "count": 10
           },
           {
            "bin_start": 67,
            "bin_end": 73.6,
            "count": 5
           }
          ]
         }
        },
        {
         "name": "_deepnote_index_column",
         "dtype": "int64"
        }
       ],
       "rows_top": [
        {
         "X2 house age": 32,
         "X3 distance to the nearest MRT station": 84.87882,
         "X4 number of convenience stores": 10,
         "X5 latitude": 24.98298,
         "X6 longitude": 121.54024,
         "Y house price of unit area": 37.9,
         "_deepnote_index_column": 0
        },
        {
         "X2 house age": 19.5,
         "X3 distance to the nearest MRT station": 306.5947,
         "X4 number of convenience stores": 9,
         "X5 latitude": 24.98034,
         "X6 longitude": 121.53951,
         "Y house price of unit area": 42.2,
         "_deepnote_index_column": 1
        },
        {
         "X2 house age": 13.3,
         "X3 distance to the nearest MRT station": 561.9845,
         "X4 number of convenience stores": 5,
         "X5 latitude": 24.98746,
         "X6 longitude": 121.54391,
         "Y house price of unit area": 47.3,
         "_deepnote_index_column": 2
        },
        {
         "X2 house age": 13.3,
         "X3 distance to the nearest MRT station": 561.9845,
         "X4 number of convenience stores": 5,
         "X5 latitude": 24.98746,
         "X6 longitude": 121.54391,
         "Y house price of unit area": 54.8,
         "_deepnote_index_column": 3
        },
        {
         "X2 house age": 5,
         "X3 distance to the nearest MRT station": 390.5684,
         "X4 number of convenience stores": 5,
         "X5 latitude": 24.97937,
         "X6 longitude": 121.54245,
         "Y house price of unit area": 43.1,
         "_deepnote_index_column": 4
        },
        {
         "X2 house age": 7.1,
         "X3 distance to the nearest MRT station": 2175.03,
         "X4 number of convenience stores": 3,
         "X5 latitude": 24.96305,
         "X6 longitude": 121.51254,
         "Y house price of unit area": 32.1,
         "_deepnote_index_column": 5
        },
        {
         "X2 house age": 34.5,
         "X3 distance to the nearest MRT station": 623.4731,
         "X4 number of convenience stores": 7,
         "X5 latitude": 24.97933,
         "X6 longitude": 121.53642,
         "Y house price of unit area": 40.3,
         "_deepnote_index_column": 6
        },
        {
         "X2 house age": 20.3,
         "X3 distance to the nearest MRT station": 287.6025,
         "X4 number of convenience stores": 6,
         "X5 latitude": 24.98042,
         "X6 longitude": 121.54228,
         "Y house price of unit area": 46.7,
         "_deepnote_index_column": 7
        },
        {
         "X2 house age": 17.9,
         "X3 distance to the nearest MRT station": 1783.18,
         "X4 number of convenience stores": 3,
         "X5 latitude": 24.96731,
         "X6 longitude": 121.51486,
         "Y house price of unit area": 22.1,
         "_deepnote_index_column": 9
        },
        {
         "X2 house age": 34.8,
         "X3 distance to the nearest MRT station": 405.2134,
         "X4 number of convenience stores": 1,
         "X5 latitude": 24.97349,
         "X6 longitude": 121.53372,
         "Y house price of unit area": 41.4,
         "_deepnote_index_column": 10
        },
        {
         "X2 house age": 6.3,
         "X3 distance to the nearest MRT station": 90.45606,
         "X4 number of convenience stores": 9,
         "X5 latitude": 24.97433,
         "X6 longitude": 121.5431,
         "Y house price of unit area": 58.1,
         "_deepnote_index_column": 11
        },
        {
         "X2 house age": 13,
         "X3 distance to the nearest MRT station": 492.2313,
         "X4 number of convenience stores": 5,
         "X5 latitude": 24.96515,
         "X6 longitude": 121.53737,
         "Y house price of unit area": 39.3,
         "_deepnote_index_column": 12
        },
        {
         "X2 house age": 20.4,
         "X3 distance to the nearest MRT station": 2469.645,
         "X4 number of convenience stores": 4,
         "X5 latitude": 24.96108,
         "X6 longitude": 121.51046,
         "Y house price of unit area": 23.8,
         "_deepnote_index_column": 13
        },
        {
         "X2 house age": 13.2,
         "X3 distance to the nearest MRT station": 1164.838,
         "X4 number of convenience stores": 4,
         "X5 latitude": 24.99156,
         "X6 longitude": 121.53406,
         "Y house price of unit area": 34.3,
         "_deepnote_index_column": 14
        },
        {
         "X2 house age": 35.7,
         "X3 distance to the nearest MRT station": 579.2083,
         "X4 number of convenience stores": 2,
         "X5 latitude": 24.9824,
         "X6 longitude": 121.54619,
         "Y house price of unit area": 50.5,
         "_deepnote_index_column": 15
        },
        {
         "X2 house age": 0,
         "X3 distance to the nearest MRT station": 292.9978,
         "X4 number of convenience stores": 6,
         "X5 latitude": 24.97744,
         "X6 longitude": 121.54458,
         "Y house price of unit area": 70.1,
         "_deepnote_index_column": 16
        },
        {
         "X2 house age": 17.7,
         "X3 distance to the nearest MRT station": 350.8515,
         "X4 number of convenience stores": 1,
         "X5 latitude": 24.97544,
         "X6 longitude": 121.53119,
         "Y house price of unit area": 37.4,
         "_deepnote_index_column": 17
        },
        {
         "X2 house age": 16.9,
         "X3 distance to the nearest MRT station": 368.1363,
         "X4 number of convenience stores": 8,
         "X5 latitude": 24.9675,
         "X6 longitude": 121.54451,
         "Y house price of unit area": 42.3,
         "_deepnote_index_column": 18
        },
        {
         "X2 house age": 1.5,
         "X3 distance to the nearest MRT station": 23.38284,
         "X4 number of convenience stores": 7,
         "X5 latitude": 24.96772,
         "X6 longitude": 121.54102,
         "Y house price of unit area": 47.7,
         "_deepnote_index_column": 19
        },
        {
         "X2 house age": 4.5,
         "X3 distance to the nearest MRT station": 2275.877,
         "X4 number of convenience stores": 3,
         "X5 latitude": 24.96314,
         "X6 longitude": 121.51151,
         "Y house price of unit area": 29.3,
         "_deepnote_index_column": 20
        },
        {
         "X2 house age": 10.5,
         "X3 distance to the nearest MRT station": 279.1726,
         "X4 number of convenience stores": 7,
         "X5 latitude": 24.97528,
         "X6 longitude": 121.54541,
         "Y house price of unit area": 51.6,
         "_deepnote_index_column": 21
        },
        {
         "X2 house age": 14.7,
         "X3 distance to the nearest MRT station": 1360.139,
         "X4 number of convenience stores": 1,
         "X5 latitude": 24.95204,
         "X6 longitude": 121.54842,
         "Y house price of unit area": 24.6,
         "_deepnote_index_column": 22
        },
        {
         "X2 house age": 10.1,
         "X3 distance to the nearest MRT station": 279.1726,
         "X4 number of convenience stores": 7,
         "X5 latitude": 24.97528,
         "X6 longitude": 121.54541,
         "Y house price of unit area": 47.9,
         "_deepnote_index_column": 23
        },
        {
         "X2 house age": 39.6,
         "X3 distance to the nearest MRT station": 480.6977,
         "X4 number of convenience stores": 4,
         "X5 latitude": 24.97353,
         "X6 longitude": 121.53885,
         "Y house price of unit area": 38.8,
         "_deepnote_index_column": 24
        },
        {
         "X2 house age": 29.3,
         "X3 distance to the nearest MRT station": 1487.868,
         "X4 number of convenience stores": 2,
         "X5 latitude": 24.97542,
         "X6 longitude": 121.51726,
         "Y house price of unit area": 27,
         "_deepnote_index_column": 25
        },
        {
         "X2 house age": 3.1,
         "X3 distance to the nearest MRT station": 383.8624,
         "X4 number of convenience stores": 5,
         "X5 latitude": 24.98085,
         "X6 longitude": 121.54391,
         "Y house price of unit area": 56.2,
         "_deepnote_index_column": 26
        },
        {
         "X2 house age": 10.4,
         "X3 distance to the nearest MRT station": 276.449,
         "X4 number of convenience stores": 5,
         "X5 latitude": 24.95593,
         "X6 longitude": 121.53913,
         "Y house price of unit area": 33.6,
         "_deepnote_index_column": 27
        },
        {
         "X2 house age": 19.2,
         "X3 distance to the nearest MRT station": 557.478,
         "X4 number of convenience stores": 4,
         "X5 latitude": 24.97419,
         "X6 longitude": 121.53797,
         "Y house price of unit area": 47,
         "_deepnote_index_column": 28
        },
        {
         "X2 house age": 7.1,
         "X3 distance to the nearest MRT station": 451.2438,
         "X4 number of convenience stores": 5,
         "X5 latitude": 24.97563,
         "X6 longitude": 121.54694,
         "Y house price of unit area": 57.1,
         "_deepnote_index_column": 29
        },
        {
         "X2 house age": 29.6,
         "X3 distance to the nearest MRT station": 769.4034,
         "X4 number of convenience stores": 7,
         "X5 latitude": 24.98281,
         "X6 longitude": 121.53408,
         "Y house price of unit area": 25,
         "_deepnote_index_column": 31
        },
        {
         "X2 house age": 37.9,
         "X3 distance to the nearest MRT station": 488.5727,
         "X4 number of convenience stores": 1,
         "X5 latitude": 24.97349,
         "X6 longitude": 121.53451,
         "Y house price of unit area": 34.2,
         "_deepnote_index_column": 32
        },
        {
         "X2 house age": 16.5,
         "X3 distance to the nearest MRT station": 323.655,
         "X4 number of convenience stores": 6,
         "X5 latitude": 24.97841,
         "X6 longitude": 121.54281,
         "Y house price of unit area": 49.3,
         "_deepnote_index_column": 33
        },
        {
         "X2 house age": 15.4,
         "X3 distance to the nearest MRT station": 205.367,
         "X4 number of convenience stores": 7,
         "X5 latitude": 24.98419,
         "X6 longitude": 121.54243,
         "Y house price of unit area": 55.1,
         "_deepnote_index_column": 34
        },
        {
         "X2 house age": 14.7,
         "X3 distance to the nearest MRT station": 1935.009,
         "X4 number of convenience stores": 2,
         "X5 latitude": 24.96386,
         "X6 longitude": 121.51458,
         "Y house price of unit area": 22.9,
         "_deepnote_index_column": 36
        },
        {
         "X2 house age": 12,
         "X3 distance to the nearest MRT station": 1360.139,
         "X4 number of convenience stores": 1,
         "X5 latitude": 24.95204,
         "X6 longitude": 121.54842,
         "Y house price of unit area": 25.3,
         "_deepnote_index_column": 37
        },
        {
         "X2 house age": 3.1,
         "X3 distance to the nearest MRT station": 577.9615,
         "X4 number of convenience stores": 6,
         "X5 latitude": 24.97201,
         "X6 longitude": 121.54722,
         "Y house price of unit area": 47.7,
         "_deepnote_index_column": 38
        },
        {
         "X2 house age": 16.2,
         "X3 distance to the nearest MRT station": 289.3248,
         "X4 number of convenience stores": 5,
         "X5 latitude": 24.98203,
         "X6 longitude": 121.54348,
         "Y house price of unit area": 46.2,
         "_deepnote_index_column": 39
        },
        {
         "X2 house age": 36.1,
         "X3 distance to the nearest MRT station": 519.4617,
         "X4 number of convenience stores": 5,
         "X5 latitude": 24.96305,
         "X6 longitude": 121.53758,
         "Y house price of unit area": 34.7,
         "_deepnote_index_column": 42
        },
        {
         "X2 house age": 34.4,
         "X3 distance to the nearest MRT station": 512.7871,
         "X4 number of convenience stores": 6,
         "X5 latitude": 24.98748,
         "X6 longitude": 121.54301,
         "Y house price of unit area": 34.1,
         "_deepnote_index_column": 43
        },
        {
         "X2 house age": 2.7,
         "X3 distance to the nearest MRT station": 533.4762,
         "X4 number of convenience stores": 4,
         "X5 latitude": 24.97445,
         "X6 longitude": 121.54765,
         "Y house price of unit area": 53.9,
         "_deepnote_index_column": 44
        },
        {
         "X2 house age": 36.6,
         "X3 distance to the nearest MRT station": 488.8193,
         "X4 number of convenience stores": 8,
         "X5 latitude": 24.97015,
         "X6 longitude": 121.54494,
         "Y house price of unit area": 38.3,
         "_deepnote_index_column": 45
        },
        {
         "X2 house age": 21.7,
         "X3 distance to the nearest MRT station": 463.9623,
         "X4 number of convenience stores": 9,
         "X5 latitude": 24.9703,
         "X6 longitude": 121.54458,
         "Y house price of unit area": 42,
         "_deepnote_index_column": 46
        },
        {
         "X2 house age": 35.9,
         "X3 distance to the nearest MRT station": 640.7391,
         "X4 number of convenience stores": 3,
         "X5 latitude": 24.97563,
         "X6 longitude": 121.53715,
         "Y house price of unit area": 61.5,
         "_deepnote_index_column": 47
        },
        {
         "X2 house age": 21.7,
         "X3 distance to the nearest MRT station": 512.5487,
         "X4 number of convenience stores": 4,
         "X5 latitude": 24.974,
         "X6 longitude": 121.53842,
         "Y house price of unit area": 44.2,
         "_deepnote_index_column": 50
        },
        {
         "X2 house age": 31.3,
         "X3 distance to the nearest MRT station": 1758.406,
         "X4 number of convenience stores": 1,
         "X5 latitude": 24.95402,
         "X6 longitude": 121.55282,
         "Y house price of unit area": 20.7,
         "_deepnote_index_column": 51
        },
        {
         "X2 house age": 32.1,
         "X3 distance to the nearest MRT station": 1438.579,
         "X4 number of convenience stores": 3,
         "X5 latitude": 24.97419,
         "X6 longitude": 121.5175,
         "Y house price of unit area": 27,
         "_deepnote_index_column": 52
        },
        {
         "X2 house age": 13.3,
         "X3 distance to the nearest MRT station": 492.2313,
         "X4 number of convenience stores": 5,
         "X5 latitude": 24.96515,
         "X6 longitude": 121.53737,
         "Y house price of unit area": 38.9,
         "_deepnote_index_column": 53
        },
        {
         "X2 house age": 16.1,
         "X3 distance to the nearest MRT station": 289.3248,
         "X4 number of convenience stores": 5,
         "X5 latitude": 24.98203,
         "X6 longitude": 121.54348,
         "Y house price of unit area": 51.7,
         "_deepnote_index_column": 54
        },
        {
         "X2 house age": 31.7,
         "X3 distance to the nearest MRT station": 1160.632,
         "X4 number of convenience stores": 0,
         "X5 latitude": 24.94968,
         "X6 longitude": 121.53009,
         "Y house price of unit area": 13.7,
         "_deepnote_index_column": 55
        },
        {
         "X2 house age": 33.6,
         "X3 distance to the nearest MRT station": 371.2495,
         "X4 number of convenience stores": 8,
         "X5 latitude": 24.97254,
         "X6 longitude": 121.54059,
         "Y house price of unit area": 41.9,
         "_deepnote_index_column": 56
        },
        {
         "X2 house age": 3.5,
         "X3 distance to the nearest MRT station": 56.47425,
         "X4 number of convenience stores": 7,
         "X5 latitude": 24.95744,
         "X6 longitude": 121.53711,
         "Y house price of unit area": 53.5,
         "_deepnote_index_column": 57
        },
        {
         "X2 house age": 13.3,
         "X3 distance to the nearest MRT station": 336.0532,
         "X4 number of convenience stores": 5,
         "X5 latitude": 24.95776,
         "X6 longitude": 121.53438,
         "Y house price of unit area": 42.4,
         "_deepnote_index_column": 59
        },
        {
         "X2 house age": 11,
         "X3 distance to the nearest MRT station": 1931.207,
         "X4 number of convenience stores": 2,
         "X5 latitude": 24.96365,
         "X6 longitude": 121.51471,
         "Y house price of unit area": 21.3,
         "_deepnote_index_column": 60
        },
        {
         "X2 house age": 5.3,
         "X3 distance to the nearest MRT station": 259.6607,
         "X4 number of convenience stores": 6,
         "X5 latitude": 24.97585,
         "X6 longitude": 121.54516,
         "Y house price of unit area": 63.2,
         "_deepnote_index_column": 61
        },
        {
         "X2 house age": 17.2,
         "X3 distance to the nearest MRT station": 2175.877,
         "X4 number of convenience stores": 3,
         "X5 latitude": 24.96303,
         "X6 longitude": 121.51254,
         "Y house price of unit area": 27.7,
         "_deepnote_index_column": 62
        },
        {
         "X2 house age": 2.6,
         "X3 distance to the nearest MRT station": 533.4762,
         "X4 number of convenience stores": 4,
         "X5 latitude": 24.97445,
         "X6 longitude": 121.54765,
         "Y house price of unit area": 55,
         "_deepnote_index_column": 63
        },
        {
         "X2 house age": 17.5,
         "X3 distance to the nearest MRT station": 995.7554,
         "X4 number of convenience stores": 0,
         "X5 latitude": 24.96305,
         "X6 longitude": 121.54915,
         "Y house price of unit area": 25.3,
         "_deepnote_index_column": 64
        },
        {
         "X2 house age": 40.1,
         "X3 distance to the nearest MRT station": 123.7429,
         "X4 number of convenience stores": 8,
         "X5 latitude": 24.97635,
         "X6 longitude": 121.54329,
         "Y house price of unit area": 44.3,
         "_deepnote_index_column": 65
        },
        {
         "X2 house age": 1,
         "X3 distance to the nearest MRT station": 193.5845,
         "X4 number of convenience stores": 6,
         "X5 latitude": 24.96571,
         "X6 longitude": 121.54089,
         "Y house price of unit area": 50.7,
         "_deepnote_index_column": 66
        },
        {
         "X2 house age": 8.5,
         "X3 distance to the nearest MRT station": 104.8101,
         "X4 number of convenience stores": 5,
         "X5 latitude": 24.96674,
         "X6 longitude": 121.54067,
         "Y house price of unit area": 56.8,
         "_deepnote_index_column": 67
        },
        {
         "X2 house age": 30.4,
         "X3 distance to the nearest MRT station": 464.223,
         "X4 number of convenience stores": 6,
         "X5 latitude": 24.97964,
         "X6 longitude": 121.53805,
         "Y house price of unit area": 36.2,
         "_deepnote_index_column": 68
        },
        {
         "X2 house age": 12.5,
         "X3 distance to the nearest MRT station": 561.9845,
         "X4 number of convenience stores": 5,
         "X5 latitude": 24.98746,
         "X6 longitude": 121.54391,
         "Y house price of unit area": 42,
         "_deepnote_index_column": 69
        },
        {
         "X2 house age": 6.6,
         "X3 distance to the nearest MRT station": 90.45606,
         "X4 number of convenience stores": 9,
         "X5 latitude": 24.97433,
         "X6 longitude": 121.5431,
         "Y house price of unit area": 59,
         "_deepnote_index_column": 70
        },
        {
         "X2 house age": 35.5,
         "X3 distance to the nearest MRT station": 640.7391,
         "X4 number of convenience stores": 3,
         "X5 latitude": 24.97563,
         "X6 longitude": 121.53715,
         "Y house price of unit area": 40.8,
         "_deepnote_index_column": 71
        },
        {
         "X2 house age": 32.5,
         "X3 distance to the nearest MRT station": 424.5442,
         "X4 number of convenience stores": 8,
         "X5 latitude": 24.97587,
         "X6 longitude": 121.53913,
         "Y house price of unit area": 36.3,
         "_deepnote_index_column": 72
        },
        {
         "X2 house age": 6.8,
         "X3 distance to the nearest MRT station": 379.5575,
         "X4 number of convenience stores": 10,
         "X5 latitude": 24.98343,
         "X6 longitude": 121.53762,
         "Y house price of unit area": 54.4,
         "_deepnote_index_column": 74
        },
        {
         "X2 house age": 12.3,
         "X3 distance to the nearest MRT station": 1360.139,
         "X4 number of convenience stores": 1,
         "X5 latitude": 24.95204,
         "X6 longitude": 121.54842,
         "Y house price of unit area": 29.5,
         "_deepnote_index_column": 75
        },
        {
         "X2 house age": 35.9,
         "X3 distance to the nearest MRT station": 616.4004,
         "X4 number of convenience stores": 3,
         "X5 latitude": 24.97723,
         "X6 longitude": 121.53767,
         "Y house price of unit area": 36.8,
         "_deepnote_index_column": 76
        },
        {
         "X2 house age": 20.5,
         "X3 distance to the nearest MRT station": 2185.128,
         "X4 number of convenience stores": 3,
         "X5 latitude": 24.96322,
         "X6 longitude": 121.51237,
         "Y house price of unit area": 25.6,
         "_deepnote_index_column": 77
        },
        {
         "X2 house age": 38.2,
         "X3 distance to the nearest MRT station": 552.4371,
         "X4 number of convenience stores": 2,
         "X5 latitude": 24.97598,
         "X6 longitude": 121.53381,
         "Y house price of unit area": 29.8,
         "_deepnote_index_column": 78
        },
        {
         "X2 house age": 18,
         "X3 distance to the nearest MRT station": 1414.837,
         "X4 number of convenience stores": 1,
         "X5 latitude": 24.95182,
         "X6 longitude": 121.54887,
         "Y house price of unit area": 26.5,
         "_deepnote_index_column": 79
        },
        {
         "X2 house age": 11.8,
         "X3 distance to the nearest MRT station": 533.4762,
         "X4 number of convenience stores": 4,
         "X5 latitude": 24.97445,
         "X6 longitude": 121.54765,
         "Y house price of unit area": 40.3,
         "_deepnote_index_column": 80
        },
        {
         "X2 house age": 30.8,
         "X3 distance to the nearest MRT station": 377.7956,
         "X4 number of convenience stores": 6,
         "X5 latitude": 24.96427,
         "X6 longitude": 121.53964,
         "Y house price of unit area": 36.8,
         "_deepnote_index_column": 81
        },
        {
         "X2 house age": 13.2,
         "X3 distance to the nearest MRT station": 150.9347,
         "X4 number of convenience stores": 7,
         "X5 latitude": 24.96725,
         "X6 longitude": 121.54252,
         "Y house price of unit area": 48.1,
         "_deepnote_index_column": 82
        },
        {
         "X2 house age": 25.3,
         "X3 distance to the nearest MRT station": 2707.392,
         "X4 number of convenience stores": 3,
         "X5 latitude": 24.96056,
         "X6 longitude": 121.50831,
         "Y house price of unit area": 17.7,
         "_deepnote_index_column": 83
        },
        {
         "X2 house age": 15.1,
         "X3 distance to the nearest MRT station": 383.2805,
         "X4 number of convenience stores": 7,
         "X5 latitude": 24.96735,
         "X6 longitude": 121.54464,
         "Y house price of unit area": 43.7,
         "_deepnote_index_column": 84
        },
        {
         "X2 house age": 0,
         "X3 distance to the nearest MRT station": 338.9679,
         "X4 number of convenience stores": 9,
         "X5 latitude": 24.96853,
         "X6 longitude": 121.54413,
         "Y house price of unit area": 50.8,
         "_deepnote_index_column": 85
        },
        {
         "X2 house age": 1.8,
         "X3 distance to the nearest MRT station": 1455.798,
         "X4 number of convenience stores": 1,
         "X5 latitude": 24.9512,
         "X6 longitude": 121.549,
         "Y house price of unit area": 27,
         "_deepnote_index_column": 86
        },
        {
         "X2 house age": 8.9,
         "X3 distance to the nearest MRT station": 1406.43,
         "X4 number of convenience stores": 0,
         "X5 latitude": 24.98573,
         "X6 longitude": 121.52758,
         "Y house price of unit area": 48,
         "_deepnote_index_column": 88
        },
        {
         "X2 house age": 0,
         "X3 distance to the nearest MRT station": 274.0144,
         "X4 number of convenience stores": 1,
         "X5 latitude": 24.9748,
         "X6 longitude": 121.53059,
         "Y house price of unit area": 45.4,
         "_deepnote_index_column": 90
        },
        {
         "X2 house age": 9.1,
         "X3 distance to the nearest MRT station": 1402.016,
         "X4 number of convenience stores": 0,
         "X5 latitude": 24.98569,
         "X6 longitude": 121.5276,
         "Y house price of unit area": 43.2,
         "_deepnote_index_column": 91
        },
        {
         "X2 house age": 20.6,
         "X3 distance to the nearest MRT station": 2469.645,
         "X4 number of convenience stores": 4,
         "X5 latitude": 24.96108,
         "X6 longitude": 121.51046,
         "Y house price of unit area": 21.8,
         "_deepnote_index_column": 92
        },
        {
         "X2 house age": 31.9,
         "X3 distance to the nearest MRT station": 1146.329,
         "X4 number of convenience stores": 0,
         "X5 latitude": 24.9492,
         "X6 longitude": 121.53076,
         "Y house price of unit area": 16.1,
         "_deepnote_index_column": 93
        }
       ],
       "rows_bottom": [
        {
         "X2 house age": 12.4,
         "X3 distance to the nearest MRT station": 1712.632,
         "X4 number of convenience stores": 2,
         "X5 latitude": 24.96412,
         "X6 longitude": 121.5167,
         "Y house price of unit area": 31.3,
         "_deepnote_index_column": 324
        },
        {
         "X2 house age": 36.6,
         "X3 distance to the nearest MRT station": 488.8193,
         "X4 number of convenience stores": 8,
         "X5 latitude": 24.97015,
         "X6 longitude": 121.54494,
         "Y house price of unit area": 38.1,
         "_deepnote_index_column": 325
        },
        {
         "X2 house age": 4.1,
         "X3 distance to the nearest MRT station": 56.47425,
         "X4 number of convenience stores": 7,
         "X5 latitude": 24.95744,
         "X6 longitude": 121.53711,
         "Y house price of unit area": 62.1,
         "_deepnote_index_column": 326
        },
        {
         "X2 house age": 3.5,
         "X3 distance to the nearest MRT station": 757.3377,
         "X4 number of convenience stores": 3,
         "X5 latitude": 24.97538,
         "X6 longitude": 121.54971,
         "Y house price of unit area": 36.7,
         "_deepnote_index_column": 327
        },
        {
         "X2 house age": 15.9,
         "X3 distance to the nearest MRT station": 1497.713,
         "X4 number of convenience stores": 3,
         "X5 latitude": 24.97003,
         "X6 longitude": 121.51696,
         "Y house price of unit area": 23.6,
         "_deepnote_index_column": 328
        },
        {
         "X2 house age": 32,
         "X3 distance to the nearest MRT station": 1156.777,
         "X4 number of convenience stores": 0,
         "X5 latitude": 24.94935,
         "X6 longitude": 121.53046,
         "Y house price of unit area": 12.8,
         "_deepnote_index_column": 330
        },
        {
         "X2 house age": 39.8,
         "X3 distance to the nearest MRT station": 617.7134,
         "X4 number of convenience stores": 2,
         "X5 latitude": 24.97577,
         "X6 longitude": 121.53475,
         "Y house price of unit area": 39.6,
         "_deepnote_index_column": 332
        },
        {
         "X2 house age": 7.8,
         "X3 distance to the nearest MRT station": 104.8101,
         "X4 number of convenience stores": 5,
         "X5 latitude": 24.96674,
         "X6 longitude": 121.54067,
         "Y house price of unit area": 38.4,
         "_deepnote_index_column": 333
        },
        {
         "X2 house age": 30,
         "X3 distance to the nearest MRT station": 1013.341,
         "X4 number of convenience stores": 5,
         "X5 latitude": 24.99006,
         "X6 longitude": 121.5346,
         "Y house price of unit area": 22.8,
         "_deepnote_index_column": 334
        },
        {
         "X2 house age": 27.3,
         "X3 distance to the nearest MRT station": 337.6016,
         "X4 number of convenience stores": 6,
         "X5 latitude": 24.96431,
         "X6 longitude": 121.54063,
         "Y house price of unit area": 36.5,
         "_deepnote_index_column": 335
        },
        {
         "X2 house age": 5.1,
         "X3 distance to the nearest MRT station": 1867.233,
         "X4 number of convenience stores": 2,
         "X5 latitude": 24.98407,
         "X6 longitude": 121.51748,
         "Y house price of unit area": 35.6,
         "_deepnote_index_column": 336
        },
        {
         "X2 house age": 31.3,
         "X3 distance to the nearest MRT station": 600.8604,
         "X4 number of convenience stores": 5,
         "X5 latitude": 24.96871,
         "X6 longitude": 121.54651,
         "Y house price of unit area": 30.9,
         "_deepnote_index_column": 337
        },
        {
         "X2 house age": 31.5,
         "X3 distance to the nearest MRT station": 258.186,
         "X4 number of convenience stores": 9,
         "X5 latitude": 24.96867,
         "X6 longitude": 121.54331,
         "Y house price of unit area": 36.3,
         "_deepnote_index_column": 338
        },
        {
         "X2 house age": 1.7,
         "X3 distance to the nearest MRT station": 329.9747,
         "X4 number of convenience stores": 5,
         "X5 latitude": 24.98254,
         "X6 longitude": 121.54395,
         "Y house price of unit area": 50.4,
         "_deepnote_index_column": 339
        },
        {
         "X2 house age": 33.6,
         "X3 distance to the nearest MRT station": 270.8895,
         "X4 number of convenience stores": 0,
         "X5 latitude": 24.97281,
         "X6 longitude": 121.53265,
         "Y house price of unit area": 42.9,
         "_deepnote_index_column": 340
        },
        {
         "X2 house age": 13,
         "X3 distance to the nearest MRT station": 750.0704,
         "X4 number of convenience stores": 2,
         "X5 latitude": 24.97371,
         "X6 longitude": 121.54951,
         "Y house price of unit area": 37,
         "_deepnote_index_column": 341
        },
        {
         "X2 house age": 5.7,
         "X3 distance to the nearest MRT station": 90.45606,
         "X4 number of convenience stores": 9,
         "X5 latitude": 24.97433,
         "X6 longitude": 121.5431,
         "Y house price of unit area": 53.5,
         "_deepnote_index_column": 342
        },
        {
         "X2 house age": 33.5,
         "X3 distance to the nearest MRT station": 563.2854,
         "X4 number of convenience stores": 8,
         "X5 latitude": 24.98223,
         "X6 longitude": 121.53597,
         "Y house price of unit area": 46.6,
         "_deepnote_index_column": 343
        },
        {
         "X2 house age": 34.6,
         "X3 distance to the nearest MRT station": 3085.17,
         "X4 number of convenience stores": 0,
         "X5 latitude": 24.998,
         "X6 longitude": 121.5155,
         "Y house price of unit area": 41.2,
         "_deepnote_index_column": 344
        },
        {
         "X2 house age": 0,
         "X3 distance to the nearest MRT station": 185.4296,
         "X4 number of convenience stores": 0,
         "X5 latitude": 24.9711,
         "X6 longitude": 121.5317,
         "Y house price of unit area": 37.9,
         "_deepnote_index_column": 345
        },
        {
         "X2 house age": 13.2,
         "X3 distance to the nearest MRT station": 1712.632,
         "X4 number of convenience stores": 2,
         "X5 latitude": 24.96412,
         "X6 longitude": 121.5167,
         "Y house price of unit area": 30.8,
         "_deepnote_index_column": 346
        },
        {
         "X2 house age": 4.6,
         "X3 distance to the nearest MRT station": 259.6607,
         "X4 number of convenience stores": 6,
         "X5 latitude": 24.97585,
         "X6 longitude": 121.54516,
         "Y house price of unit area": 53.7,
         "_deepnote_index_column": 348
        },
        {
         "X2 house age": 7.8,
         "X3 distance to the nearest MRT station": 104.8101,
         "X4 number of convenience stores": 5,
         "X5 latitude": 24.96674,
         "X6 longitude": 121.54067,
         "Y house price of unit area": 47,
         "_deepnote_index_column": 349
        },
        {
         "X2 house age": 13.2,
         "X3 distance to the nearest MRT station": 492.2313,
         "X4 number of convenience stores": 5,
         "X5 latitude": 24.96515,
         "X6 longitude": 121.53737,
         "Y house price of unit area": 42.3,
         "_deepnote_index_column": 350
        },
        {
         "X2 house age": 4,
         "X3 distance to the nearest MRT station": 2180.245,
         "X4 number of convenience stores": 3,
         "X5 latitude": 24.96324,
         "X6 longitude": 121.51241,
         "Y house price of unit area": 28.6,
         "_deepnote_index_column": 351
        },
        {
         "X2 house age": 18.4,
         "X3 distance to the nearest MRT station": 2674.961,
         "X4 number of convenience stores": 3,
         "X5 latitude": 24.96143,
         "X6 longitude": 121.50827,
         "Y house price of unit area": 25.7,
         "_deepnote_index_column": 352
        },
        {
         "X2 house age": 4.1,
         "X3 distance to the nearest MRT station": 2147.376,
         "X4 number of convenience stores": 3,
         "X5 latitude": 24.96299,
         "X6 longitude": 121.51284,
         "Y house price of unit area": 31.3,
         "_deepnote_index_column": 353
        },
        {
         "X2 house age": 12.2,
         "X3 distance to the nearest MRT station": 1360.139,
         "X4 number of convenience stores": 1,
         "X5 latitude": 24.95204,
         "X6 longitude": 121.54842,
         "Y house price of unit area": 30.1,
         "_deepnote_index_column": 354
        },
        {
         "X2 house age": 3.8,
         "X3 distance to the nearest MRT station": 383.8624,
         "X4 number of convenience stores": 5,
         "X5 latitude": 24.98085,
         "X6 longitude": 121.54391,
         "Y house price of unit area": 60.7,
         "_deepnote_index_column": 355
        },
        {
         "X2 house age": 10.3,
         "X3 distance to the nearest MRT station": 211.4473,
         "X4 number of convenience stores": 1,
         "X5 latitude": 24.97417,
         "X6 longitude": 121.52999,
         "Y house price of unit area": 45.3,
         "_deepnote_index_column": 356
        },
        {
         "X2 house age": 0,
         "X3 distance to the nearest MRT station": 338.9679,
         "X4 number of convenience stores": 9,
         "X5 latitude": 24.96853,
         "X6 longitude": 121.54413,
         "Y house price of unit area": 44.9,
         "_deepnote_index_column": 357
        },
        {
         "X2 house age": 1.1,
         "X3 distance to the nearest MRT station": 193.5845,
         "X4 number of convenience stores": 6,
         "X5 latitude": 24.96571,
         "X6 longitude": 121.54089,
         "Y house price of unit area": 45.1,
         "_deepnote_index_column": 358
        },
        {
         "X2 house age": 5.6,
         "X3 distance to the nearest MRT station": 2408.993,
         "X4 number of convenience stores": 0,
         "X5 latitude": 24.95505,
         "X6 longitude": 121.55964,
         "Y house price of unit area": 24.7,
         "_deepnote_index_column": 359
        },
        {
         "X2 house age": 32.9,
         "X3 distance to the nearest MRT station": 87.30222,
         "X4 number of convenience stores": 10,
         "X5 latitude": 24.983,
         "X6 longitude": 121.54022,
         "Y house price of unit area": 47.1,
         "_deepnote_index_column": 360
        },
        {
         "X2 house age": 41.4,
         "X3 distance to the nearest MRT station": 281.205,
         "X4 number of convenience stores": 8,
         "X5 latitude": 24.97345,
         "X6 longitude": 121.54093,
         "Y house price of unit area": 63.3,
         "_deepnote_index_column": 361
        },
        {
         "X2 house age": 17.1,
         "X3 distance to the nearest MRT station": 967.4,
         "X4 number of convenience stores": 4,
         "X5 latitude": 24.98872,
         "X6 longitude": 121.53408,
         "Y house price of unit area": 40,
         "_deepnote_index_column": 362
        },
        {
         "X2 house age": 32.3,
         "X3 distance to the nearest MRT station": 109.9455,
         "X4 number of convenience stores": 10,
         "X5 latitude": 24.98182,
         "X6 longitude": 121.54086,
         "Y house price of unit area": 48,
         "_deepnote_index_column": 363
        },
        {
         "X2 house age": 35.3,
         "X3 distance to the nearest MRT station": 614.1394,
         "X4 number of convenience stores": 7,
         "X5 latitude": 24.97913,
         "X6 longitude": 121.53666,
         "Y house price of unit area": 33.1,
         "_deepnote_index_column": 364
        },
        {
         "X2 house age": 17.3,
         "X3 distance to the nearest MRT station": 2261.432,
         "X4 number of convenience stores": 4,
         "X5 latitude": 24.96182,
         "X6 longitude": 121.51222,
         "Y house price of unit area": 29.5,
         "_deepnote_index_column": 365
        },
        {
         "X2 house age": 14.2,
         "X3 distance to the nearest MRT station": 1801.544,
         "X4 number of convenience stores": 1,
         "X5 latitude": 24.95153,
         "X6 longitude": 121.55254,
         "Y house price of unit area": 24.8,
         "_deepnote_index_column": 366
        },
        {
         "X2 house age": 15,
         "X3 distance to the nearest MRT station": 1828.319,
         "X4 number of convenience stores": 2,
         "X5 latitude": 24.96464,
         "X6 longitude": 121.51531,
         "Y house price of unit area": 20.9,
         "_deepnote_index_column": 367
        },
        {
         "X2 house age": 18.2,
         "X3 distance to the nearest MRT station": 350.8515,
         "X4 number of convenience stores": 1,
         "X5 latitude": 24.97544,
         "X6 longitude": 121.53119,
         "Y house price of unit area": 43.1,
         "_deepnote_index_column": 368
        },
        {
         "X2 house age": 20.2,
         "X3 distance to the nearest MRT station": 2185.128,
         "X4 number of convenience stores": 3,
         "X5 latitude": 24.96322,
         "X6 longitude": 121.51237,
         "Y house price of unit area": 22.8,
         "_deepnote_index_column": 369
        },
        {
         "X2 house age": 15.9,
         "X3 distance to the nearest MRT station": 289.3248,
         "X4 number of convenience stores": 5,
         "X5 latitude": 24.98203,
         "X6 longitude": 121.54348,
         "Y house price of unit area": 42.1,
         "_deepnote_index_column": 370
        },
        {
         "X2 house age": 4.1,
         "X3 distance to the nearest MRT station": 312.8963,
         "X4 number of convenience stores": 5,
         "X5 latitude": 24.95591,
         "X6 longitude": 121.53956,
         "Y house price of unit area": 51.7,
         "_deepnote_index_column": 371
        },
        {
         "X2 house age": 33.9,
         "X3 distance to the nearest MRT station": 157.6052,
         "X4 number of convenience stores": 7,
         "X5 latitude": 24.96628,
         "X6 longitude": 121.54196,
         "Y house price of unit area": 41.5,
         "_deepnote_index_column": 372
        },
        {
         "X2 house age": 0,
         "X3 distance to the nearest MRT station": 274.0144,
         "X4 number of convenience stores": 1,
         "X5 latitude": 24.9748,
         "X6 longitude": 121.53059,
         "Y house price of unit area": 52.2,
         "_deepnote_index_column": 373
        },
        {
         "X2 house age": 5.4,
         "X3 distance to the nearest MRT station": 390.5684,
         "X4 number of convenience stores": 5,
         "X5 latitude": 24.97937,
         "X6 longitude": 121.54245,
         "Y house price of unit area": 49.5,
         "_deepnote_index_column": 374
        },
        {
         "X2 house age": 21.7,
         "X3 distance to the nearest MRT station": 1157.988,
         "X4 number of convenience stores": 0,
         "X5 latitude": 24.96165,
         "X6 longitude": 121.55011,
         "Y house price of unit area": 23.8,
         "_deepnote_index_column": 375
        },
        {
         "X2 house age": 14.7,
         "X3 distance to the nearest MRT station": 1717.193,
         "X4 number of convenience stores": 2,
         "X5 latitude": 24.96447,
         "X6 longitude": 121.51649,
         "Y house price of unit area": 30.5,
         "_deepnote_index_column": 376
        },
        {
         "X2 house age": 3.9,
         "X3 distance to the nearest MRT station": 49.66105,
         "X4 number of convenience stores": 8,
         "X5 latitude": 24.95836,
         "X6 longitude": 121.53756,
         "Y house price of unit area": 56.8,
         "_deepnote_index_column": 377
        },
        {
         "X2 house age": 37.3,
         "X3 distance to the nearest MRT station": 587.8877,
         "X4 number of convenience stores": 8,
         "X5 latitude": 24.97077,
         "X6 longitude": 121.54634,
         "Y house price of unit area": 37.4,
         "_deepnote_index_column": 378
        },
        {
         "X2 house age": 0,
         "X3 distance to the nearest MRT station": 292.9978,
         "X4 number of convenience stores": 6,
         "X5 latitude": 24.97744,
         "X6 longitude": 121.54458,
         "Y house price of unit area": 69.7,
         "_deepnote_index_column": 379
        },
        {
         "X2 house age": 14.1,
         "X3 distance to the nearest MRT station": 289.3248,
         "X4 number of convenience stores": 5,
         "X5 latitude": 24.98203,
         "X6 longitude": 121.54348,
         "Y house price of unit area": 53.3,
         "_deepnote_index_column": 380
        },
        {
         "X2 house age": 8,
         "X3 distance to the nearest MRT station": 132.5469,
         "X4 number of convenience stores": 9,
         "X5 latitude": 24.98298,
         "X6 longitude": 121.53981,
         "Y house price of unit area": 47.3,
         "_deepnote_index_column": 381
        },
        {
         "X2 house age": 29.1,
         "X3 distance to the nearest MRT station": 506.1144,
         "X4 number of convenience stores": 4,
         "X5 latitude": 24.97845,
         "X6 longitude": 121.53889,
         "Y house price of unit area": 40.3,
         "_deepnote_index_column": 383
        },
        {
         "X2 house age": 18.3,
         "X3 distance to the nearest MRT station": 82.88643,
         "X4 number of convenience stores": 10,
         "X5 latitude": 24.983,
         "X6 longitude": 121.54026,
         "Y house price of unit area": 46.6,
         "_deepnote_index_column": 385
        },
        {
         "X2 house age": 0,
         "X3 distance to the nearest MRT station": 185.4296,
         "X4 number of convenience stores": 0,
         "X5 latitude": 24.9711,
         "X6 longitude": 121.5317,
         "Y house price of unit area": 55.3,
         "_deepnote_index_column": 386
        },
        {
         "X2 house age": 16.2,
         "X3 distance to the nearest MRT station": 2103.555,
         "X4 number of convenience stores": 3,
         "X5 latitude": 24.96042,
         "X6 longitude": 121.51462,
         "Y house price of unit area": 25.6,
         "_deepnote_index_column": 387
        },
        {
         "X2 house age": 10.4,
         "X3 distance to the nearest MRT station": 2251.938,
         "X4 number of convenience stores": 4,
         "X5 latitude": 24.95957,
         "X6 longitude": 121.51353,
         "Y house price of unit area": 27.3,
         "_deepnote_index_column": 388
        },
        {
         "X2 house age": 40.9,
         "X3 distance to the nearest MRT station": 122.3619,
         "X4 number of convenience stores": 8,
         "X5 latitude": 24.96756,
         "X6 longitude": 121.5423,
         "Y house price of unit area": 67.7,
         "_deepnote_index_column": 389
        },
        {
         "X2 house age": 32.8,
         "X3 distance to the nearest MRT station": 377.8302,
         "X4 number of convenience stores": 9,
         "X5 latitude": 24.97151,
         "X6 longitude": 121.5435,
         "Y house price of unit area": 38.6,
         "_deepnote_index_column": 390
        },
        {
         "X2 house age": 6.2,
         "X3 distance to the nearest MRT station": 1939.749,
         "X4 number of convenience stores": 1,
         "X5 latitude": 24.95155,
         "X6 longitude": 121.55387,
         "Y house price of unit area": 31.3,
         "_deepnote_index_column": 391
        },
        {
         "X2 house age": 42.7,
         "X3 distance to the nearest MRT station": 443.802,
         "X4 number of convenience stores": 6,
         "X5 latitude": 24.97927,
         "X6 longitude": 121.53874,
         "Y house price of unit area": 35.3,
         "_deepnote_index_column": 392
        },
        {
         "X2 house age": 16.9,
         "X3 distance to the nearest MRT station": 967.4,
         "X4 number of convenience stores": 4,
         "X5 latitude": 24.98872,
         "X6 longitude": 121.53408,
         "Y house price of unit area": 40.3,
         "_deepnote_index_column": 393
        },
        {
         "X2 house age": 21.2,
         "X3 distance to the nearest MRT station": 512.5487,
         "X4 number of convenience stores": 4,
         "X5 latitude": 24.974,
         "X6 longitude": 121.53842,
         "Y house price of unit area": 42.5,
         "_deepnote_index_column": 395
        },
        {
         "X2 house age": 37.1,
         "X3 distance to the nearest MRT station": 918.6357,
         "X4 number of convenience stores": 1,
         "X5 latitude": 24.97198,
         "X6 longitude": 121.55063,
         "Y house price of unit area": 31.9,
         "_deepnote_index_column": 396
        },
        {
         "X2 house age": 13.1,
         "X3 distance to the nearest MRT station": 1164.838,
         "X4 number of convenience stores": 4,
         "X5 latitude": 24.99156,
         "X6 longitude": 121.53406,
         "Y house price of unit area": 32.2,
         "_deepnote_index_column": 397
        },
        {
         "X2 house age": 14.7,
         "X3 distance to the nearest MRT station": 1717.193,
         "X4 number of convenience stores": 2,
         "X5 latitude": 24.96447,
         "X6 longitude": 121.51649,
         "Y house price of unit area": 23,
         "_deepnote_index_column": 398
        },
        {
         "X2 house age": 12.7,
         "X3 distance to the nearest MRT station": 170.1289,
         "X4 number of convenience stores": 1,
         "X5 latitude": 24.97371,
         "X6 longitude": 121.52984,
         "Y house price of unit area": 37.3,
         "_deepnote_index_column": 399
        },
        {
         "X2 house age": 26.8,
         "X3 distance to the nearest MRT station": 482.7581,
         "X4 number of convenience stores": 5,
         "X5 latitude": 24.97433,
         "X6 longitude": 121.53863,
         "Y house price of unit area": 35.5,
         "_deepnote_index_column": 400
        },
        {
         "X2 house age": 7.6,
         "X3 distance to the nearest MRT station": 2175.03,
         "X4 number of convenience stores": 3,
         "X5 latitude": 24.96305,
         "X6 longitude": 121.51254,
         "Y house price of unit area": 27.7,
         "_deepnote_index_column": 401
        },
        {
         "X2 house age": 12.7,
         "X3 distance to the nearest MRT station": 187.4823,
         "X4 number of convenience stores": 1,
         "X5 latitude": 24.97388,
         "X6 longitude": 121.52981,
         "Y house price of unit area": 28.5,
         "_deepnote_index_column": 402
        },
        {
         "X2 house age": 30.9,
         "X3 distance to the nearest MRT station": 161.942,
         "X4 number of convenience stores": 9,
         "X5 latitude": 24.98353,
         "X6 longitude": 121.53966,
         "Y house price of unit area": 39.7,
         "_deepnote_index_column": 403
        },
        {
         "X2 house age": 16.4,
         "X3 distance to the nearest MRT station": 289.3248,
         "X4 number of convenience stores": 5,
         "X5 latitude": 24.98203,
         "X6 longitude": 121.54348,
         "Y house price of unit area": 41.2,
         "_deepnote_index_column": 404
        },
        {
         "X2 house age": 23,
         "X3 distance to the nearest MRT station": 130.9945,
         "X4 number of convenience stores": 6,
         "X5 latitude": 24.95663,
         "X6 longitude": 121.53765,
         "Y house price of unit area": 37.2,
         "_deepnote_index_column": 405
        },
        {
         "X2 house age": 1.9,
         "X3 distance to the nearest MRT station": 372.1386,
         "X4 number of convenience stores": 7,
         "X5 latitude": 24.97293,
         "X6 longitude": 121.54026,
         "Y house price of unit area": 40.5,
         "_deepnote_index_column": 406
        },
        {
         "X2 house age": 5.2,
         "X3 distance to the nearest MRT station": 2408.993,
         "X4 number of convenience stores": 0,
         "X5 latitude": 24.95505,
         "X6 longitude": 121.55964,
         "Y house price of unit area": 22.3,
         "_deepnote_index_column": 407
        },
        {
         "X2 house age": 18.5,
         "X3 distance to the nearest MRT station": 2175.744,
         "X4 number of convenience stores": 3,
         "X5 latitude": 24.9633,
         "X6 longitude": 121.51243,
         "Y house price of unit area": 28.1,
         "_deepnote_index_column": 408
        },
        {
         "X2 house age": 5.6,
         "X3 distance to the nearest MRT station": 90.45606,
         "X4 number of convenience stores": 9,
         "X5 latitude": 24.97433,
         "X6 longitude": 121.5431,
         "Y house price of unit area": 50,
         "_deepnote_index_column": 410
        },
        {
         "X2 house age": 18.8,
         "X3 distance to the nearest MRT station": 390.9696,
         "X4 number of convenience stores": 7,
         "X5 latitude": 24.97923,
         "X6 longitude": 121.53986,
         "Y house price of unit area": 40.6,
         "_deepnote_index_column": 411
        },
        {
         "X2 house age": 8.1,
         "X3 distance to the nearest MRT station": 104.8101,
         "X4 number of convenience stores": 5,
         "X5 latitude": 24.96674,
         "X6 longitude": 121.54067,
         "Y house price of unit area": 52.5,
         "_deepnote_index_column": 412
        },
        {
         "X2 house age": 6.5,
         "X3 distance to the nearest MRT station": 90.45606,
         "X4 number of convenience stores": 9,
         "X5 latitude": 24.97433,
         "X6 longitude": 121.5431,
         "Y house price of unit area": 63.9,
         "_deepnote_index_column": 413
        }
       ]
      },
      "text/plain": "     X2 house age  X3 distance to the nearest MRT station  \\\n0            32.0                                84.87882   \n1            19.5                               306.59470   \n2            13.3                               561.98450   \n3            13.3                               561.98450   \n4             5.0                               390.56840   \n..            ...                                     ...   \n408          18.5                              2175.74400   \n410           5.6                                90.45606   \n411          18.8                               390.96960   \n412           8.1                               104.81010   \n413           6.5                                90.45606   \n\n     X4 number of convenience stores  X5 latitude  X6 longitude  \\\n0                                 10     24.98298     121.54024   \n1                                  9     24.98034     121.53951   \n2                                  5     24.98746     121.54391   \n3                                  5     24.98746     121.54391   \n4                                  5     24.97937     121.54245   \n..                               ...          ...           ...   \n408                                3     24.96330     121.51243   \n410                                9     24.97433     121.54310   \n411                                7     24.97923     121.53986   \n412                                5     24.96674     121.54067   \n413                                9     24.97433     121.54310   \n\n     Y house price of unit area  \n0                          37.9  \n1                          42.2  \n2                          47.3  \n3                          54.8  \n4                          43.1  \n..                          ...  \n408                        28.1  \n410                        50.0  \n411                        40.6  \n412                        52.5  \n413                        63.9  \n\n[314 rows x 6 columns]",
      "text/html": "<div>\n<style scoped>\n    .dataframe tbody tr th:only-of-type {\n        vertical-align: middle;\n    }\n\n    .dataframe tbody tr th {\n        vertical-align: top;\n    }\n\n    .dataframe thead th {\n        text-align: right;\n    }\n</style>\n<table border=\"1\" class=\"dataframe\">\n  <thead>\n    <tr style=\"text-align: right;\">\n      <th></th>\n      <th>X2 house age</th>\n      <th>X3 distance to the nearest MRT station</th>\n      <th>X4 number of convenience stores</th>\n      <th>X5 latitude</th>\n      <th>X6 longitude</th>\n      <th>Y house price of unit area</th>\n    </tr>\n  </thead>\n  <tbody>\n    <tr>\n      <th>0</th>\n      <td>32.0</td>\n      <td>84.87882</td>\n      <td>10</td>\n      <td>24.98298</td>\n      <td>121.54024</td>\n      <td>37.9</td>\n    </tr>\n    <tr>\n      <th>1</th>\n      <td>19.5</td>\n      <td>306.59470</td>\n      <td>9</td>\n      <td>24.98034</td>\n      <td>121.53951</td>\n      <td>42.2</td>\n    </tr>\n    <tr>\n      <th>2</th>\n      <td>13.3</td>\n      <td>561.98450</td>\n      <td>5</td>\n      <td>24.98746</td>\n      <td>121.54391</td>\n      <td>47.3</td>\n    </tr>\n    <tr>\n      <th>3</th>\n      <td>13.3</td>\n      <td>561.98450</td>\n      <td>5</td>\n      <td>24.98746</td>\n      <td>121.54391</td>\n      <td>54.8</td>\n    </tr>\n    <tr>\n      <th>4</th>\n      <td>5.0</td>\n      <td>390.56840</td>\n      <td>5</td>\n      <td>24.97937</td>\n      <td>121.54245</td>\n      <td>43.1</td>\n    </tr>\n    <tr>\n      <th>...</th>\n      <td>...</td>\n      <td>...</td>\n      <td>...</td>\n      <td>...</td>\n      <td>...</td>\n      <td>...</td>\n    </tr>\n    <tr>\n      <th>408</th>\n      <td>18.5</td>\n      <td>2175.74400</td>\n      <td>3</td>\n      <td>24.96330</td>\n      <td>121.51243</td>\n      <td>28.1</td>\n    </tr>\n    <tr>\n      <th>410</th>\n      <td>5.6</td>\n      <td>90.45606</td>\n      <td>9</td>\n      <td>24.97433</td>\n      <td>121.54310</td>\n      <td>50.0</td>\n    </tr>\n    <tr>\n      <th>411</th>\n      <td>18.8</td>\n      <td>390.96960</td>\n      <td>7</td>\n      <td>24.97923</td>\n      <td>121.53986</td>\n      <td>40.6</td>\n    </tr>\n    <tr>\n      <th>412</th>\n      <td>8.1</td>\n      <td>104.81010</td>\n      <td>5</td>\n      <td>24.96674</td>\n      <td>121.54067</td>\n      <td>52.5</td>\n    </tr>\n    <tr>\n      <th>413</th>\n      <td>6.5</td>\n      <td>90.45606</td>\n      <td>9</td>\n      <td>24.97433</td>\n      <td>121.54310</td>\n      <td>63.9</td>\n    </tr>\n  </tbody>\n</table>\n<p>314 rows × 6 columns</p>\n</div>"
     },
     "metadata": {}
    }
   ]
  },
  {
   "cell_type": "markdown",
   "source": "Check each column for null values",
   "metadata": {
    "tags": [],
    "is_collapsed": false,
    "cell_id": "00008-d3146e9d-f8ee-48a8-ae70-2f913a8abd0a",
    "deepnote_cell_type": "text-cell-p"
   }
  },
  {
   "cell_type": "code",
   "metadata": {
    "tags": [],
    "cell_id": "00008-a84a3a31-927a-4d1a-a9b1-10f9195f4bcd",
    "deepnote_to_be_reexecuted": false,
    "source_hash": "878de0e4",
    "execution_start": 1636796995415,
    "execution_millis": 214939,
    "deepnote_cell_type": "code",
    "deepnote_cell_height": 232,
    "deepnote_output_heights": [
     135
    ]
   },
   "source": "data.isnull().sum()",
   "execution_count": null,
   "outputs": [
    {
     "output_type": "execute_result",
     "execution_count": 8,
     "data": {
      "text/plain": "X2 house age                              0\nX3 distance to the nearest MRT station    0\nX4 number of convenience stores           0\nX5 latitude                               0\nX6 longitude                              0\nY house price of unit area                0\ndtype: int64"
     },
     "metadata": {}
    }
   ]
  },
  {
   "cell_type": "markdown",
   "source": "### Step 1. Preparing Dataset",
   "metadata": {
    "tags": [],
    "is_collapsed": false,
    "cell_id": "00005-b0ebcaa8-a9de-42c7-bd8f-c618e0ae906e",
    "deepnote_cell_type": "text-cell-h3"
   }
  },
  {
   "cell_type": "markdown",
   "source": "Split dataset on X and y matrices",
   "metadata": {
    "tags": [],
    "is_collapsed": false,
    "cell_id": "00006-e84285a7-121f-4413-9742-a6424992f64f",
    "deepnote_cell_type": "text-cell-p"
   }
  },
  {
   "cell_type": "code",
   "metadata": {
    "tags": [],
    "cell_id": "00005-dcecccc7-2e2e-4508-a709-d85bf86e3db9",
    "deepnote_to_be_reexecuted": false,
    "source_hash": "71021507",
    "execution_start": 1636797779551,
    "execution_millis": 11,
    "deepnote_cell_type": "code",
    "deepnote_cell_height": 310,
    "deepnote_output_heights": [
     177
    ]
   },
   "source": "X = data.iloc[:, :-1]\ny = data.iloc[:, -1]\nX.head()",
   "execution_count": null,
   "outputs": [
    {
     "output_type": "execute_result",
     "execution_count": 41,
     "data": {
      "application/vnd.deepnote.dataframe.v2+json": {
       "row_count": 5,
       "column_count": 5,
       "columns": [
        {
         "name": "X2 house age",
         "dtype": "float64",
         "stats": {
          "unique_count": 4,
          "nan_count": 0,
          "min": "5.0",
          "max": "32.0",
          "histogram": [
           {
            "bin_start": 5,
            "bin_end": 7.7,
            "count": 1
           },
           {
            "bin_start": 7.7,
            "bin_end": 10.4,
            "count": 0
           },
           {
            "bin_start": 10.4,
            "bin_end": 13.100000000000001,
            "count": 0
           },
           {
            "bin_start": 13.100000000000001,
            "bin_end": 15.8,
            "count": 2
           },
           {
            "bin_start": 15.8,
            "bin_end": 18.5,
            "count": 0
           },
           {
            "bin_start": 18.5,
            "bin_end": 21.200000000000003,
            "count": 1
           },
           {
            "bin_start": 21.200000000000003,
            "bin_end": 23.900000000000002,
            "count": 0
           },
           {
            "bin_start": 23.900000000000002,
            "bin_end": 26.6,
            "count": 0
           },
           {
            "bin_start": 26.6,
            "bin_end": 29.3,
            "count": 0
           },
           {
            "bin_start": 29.3,
            "bin_end": 32,
            "count": 1
           }
          ]
         }
        },
        {
         "name": "X3 distance to the nearest MRT station",
         "dtype": "float64",
         "stats": {
          "unique_count": 4,
          "nan_count": 0,
          "min": "84.87882",
          "max": "561.9845",
          "histogram": [
           {
            "bin_start": 84.87882,
            "bin_end": 132.589388,
            "count": 1
           },
           {
            "bin_start": 132.589388,
            "bin_end": 180.299956,
            "count": 0
           },
           {
            "bin_start": 180.299956,
            "bin_end": 228.01052400000003,
            "count": 0
           },
           {
            "bin_start": 228.01052400000003,
            "bin_end": 275.721092,
            "count": 0
           },
           {
            "bin_start": 275.721092,
            "bin_end": 323.43166,
            "count": 1
           },
           {
            "bin_start": 323.43166,
            "bin_end": 371.14222800000005,
            "count": 0
           },
           {
            "bin_start": 371.14222800000005,
            "bin_end": 418.852796,
            "count": 1
           },
           {
            "bin_start": 418.852796,
            "bin_end": 466.56336400000004,
            "count": 0
           },
           {
            "bin_start": 466.56336400000004,
            "bin_end": 514.2739320000001,
            "count": 0
           },
           {
            "bin_start": 514.2739320000001,
            "bin_end": 561.9845,
            "count": 2
           }
          ]
         }
        },
        {
         "name": "X4 number of convenience stores",
         "dtype": "int64",
         "stats": {
          "unique_count": 3,
          "nan_count": 0,
          "min": "5",
          "max": "10",
          "histogram": [
           {
            "bin_start": 5,
            "bin_end": 5.5,
            "count": 3
           },
           {
            "bin_start": 5.5,
            "bin_end": 6,
            "count": 0
           },
           {
            "bin_start": 6,
            "bin_end": 6.5,
            "count": 0
           },
           {
            "bin_start": 6.5,
            "bin_end": 7,
            "count": 0
           },
           {
            "bin_start": 7,
            "bin_end": 7.5,
            "count": 0
           },
           {
            "bin_start": 7.5,
            "bin_end": 8,
            "count": 0
           },
           {
            "bin_start": 8,
            "bin_end": 8.5,
            "count": 0
           },
           {
            "bin_start": 8.5,
            "bin_end": 9,
            "count": 0
           },
           {
            "bin_start": 9,
            "bin_end": 9.5,
            "count": 1
           },
           {
            "bin_start": 9.5,
            "bin_end": 10,
            "count": 1
           }
          ]
         }
        },
        {
         "name": "X5 latitude",
         "dtype": "float64",
         "stats": {
          "unique_count": 4,
          "nan_count": 0,
          "min": "24.97937",
          "max": "24.98746",
          "histogram": [
           {
            "bin_start": 24.97937,
            "bin_end": 24.980179,
            "count": 1
           },
           {
            "bin_start": 24.980179,
            "bin_end": 24.980988,
            "count": 1
           },
           {
            "bin_start": 24.980988,
            "bin_end": 24.981797,
            "count": 0
           },
           {
            "bin_start": 24.981797,
            "bin_end": 24.982606,
            "count": 0
           },
           {
            "bin_start": 24.982606,
            "bin_end": 24.983415,
            "count": 1
           },
           {
            "bin_start": 24.983415,
            "bin_end": 24.984223999999998,
            "count": 0
           },
           {
            "bin_start": 24.984223999999998,
            "bin_end": 24.985032999999998,
            "count": 0
           },
           {
            "bin_start": 24.985032999999998,
            "bin_end": 24.985841999999998,
            "count": 0
           },
           {
            "bin_start": 24.985841999999998,
            "bin_end": 24.986651,
            "count": 0
           },
           {
            "bin_start": 24.986651,
            "bin_end": 24.98746,
            "count": 2
           }
          ]
         }
        },
        {
         "name": "X6 longitude",
         "dtype": "float64",
         "stats": {
          "unique_count": 4,
          "nan_count": 0,
          "min": "121.53951",
          "max": "121.54391",
          "histogram": [
           {
            "bin_start": 121.53951,
            "bin_end": 121.53995,
            "count": 1
           },
           {
            "bin_start": 121.53995,
            "bin_end": 121.54039,
            "count": 1
           },
           {
            "bin_start": 121.54039,
            "bin_end": 121.54083,
            "count": 0
           },
           {
            "bin_start": 121.54083,
            "bin_end": 121.54127,
            "count": 0
           },
           {
            "bin_start": 121.54127,
            "bin_end": 121.54171,
            "count": 0
           },
           {
            "bin_start": 121.54171,
            "bin_end": 121.54215,
            "count": 0
           },
           {
            "bin_start": 121.54215,
            "bin_end": 121.54259,
            "count": 1
           },
           {
            "bin_start": 121.54259,
            "bin_end": 121.54303,
            "count": 0
           },
           {
            "bin_start": 121.54303,
            "bin_end": 121.54347,
            "count": 0
           },
           {
            "bin_start": 121.54347,
            "bin_end": 121.54391,
            "count": 2
           }
          ]
         }
        },
        {
         "name": "_deepnote_index_column",
         "dtype": "int64"
        }
       ],
       "rows_top": [
        {
         "X2 house age": 32,
         "X3 distance to the nearest MRT station": 84.87882,
         "X4 number of convenience stores": 10,
         "X5 latitude": 24.98298,
         "X6 longitude": 121.54024,
         "_deepnote_index_column": 0
        },
        {
         "X2 house age": 19.5,
         "X3 distance to the nearest MRT station": 306.5947,
         "X4 number of convenience stores": 9,
         "X5 latitude": 24.98034,
         "X6 longitude": 121.53951,
         "_deepnote_index_column": 1
        },
        {
         "X2 house age": 13.3,
         "X3 distance to the nearest MRT station": 561.9845,
         "X4 number of convenience stores": 5,
         "X5 latitude": 24.98746,
         "X6 longitude": 121.54391,
         "_deepnote_index_column": 2
        },
        {
         "X2 house age": 13.3,
         "X3 distance to the nearest MRT station": 561.9845,
         "X4 number of convenience stores": 5,
         "X5 latitude": 24.98746,
         "X6 longitude": 121.54391,
         "_deepnote_index_column": 3
        },
        {
         "X2 house age": 5,
         "X3 distance to the nearest MRT station": 390.5684,
         "X4 number of convenience stores": 5,
         "X5 latitude": 24.97937,
         "X6 longitude": 121.54245,
         "_deepnote_index_column": 4
        }
       ],
       "rows_bottom": null
      },
      "text/plain": "   X2 house age  X3 distance to the nearest MRT station  \\\n0          32.0                                84.87882   \n1          19.5                               306.59470   \n2          13.3                               561.98450   \n3          13.3                               561.98450   \n4           5.0                               390.56840   \n\n   X4 number of convenience stores  X5 latitude  X6 longitude  \n0                               10     24.98298     121.54024  \n1                                9     24.98034     121.53951  \n2                                5     24.98746     121.54391  \n3                                5     24.98746     121.54391  \n4                                5     24.97937     121.54245  ",
      "text/html": "<div>\n<style scoped>\n    .dataframe tbody tr th:only-of-type {\n        vertical-align: middle;\n    }\n\n    .dataframe tbody tr th {\n        vertical-align: top;\n    }\n\n    .dataframe thead th {\n        text-align: right;\n    }\n</style>\n<table border=\"1\" class=\"dataframe\">\n  <thead>\n    <tr style=\"text-align: right;\">\n      <th></th>\n      <th>X2 house age</th>\n      <th>X3 distance to the nearest MRT station</th>\n      <th>X4 number of convenience stores</th>\n      <th>X5 latitude</th>\n      <th>X6 longitude</th>\n    </tr>\n  </thead>\n  <tbody>\n    <tr>\n      <th>0</th>\n      <td>32.0</td>\n      <td>84.87882</td>\n      <td>10</td>\n      <td>24.98298</td>\n      <td>121.54024</td>\n    </tr>\n    <tr>\n      <th>1</th>\n      <td>19.5</td>\n      <td>306.59470</td>\n      <td>9</td>\n      <td>24.98034</td>\n      <td>121.53951</td>\n    </tr>\n    <tr>\n      <th>2</th>\n      <td>13.3</td>\n      <td>561.98450</td>\n      <td>5</td>\n      <td>24.98746</td>\n      <td>121.54391</td>\n    </tr>\n    <tr>\n      <th>3</th>\n      <td>13.3</td>\n      <td>561.98450</td>\n      <td>5</td>\n      <td>24.98746</td>\n      <td>121.54391</td>\n    </tr>\n    <tr>\n      <th>4</th>\n      <td>5.0</td>\n      <td>390.56840</td>\n      <td>5</td>\n      <td>24.97937</td>\n      <td>121.54245</td>\n    </tr>\n  </tbody>\n</table>\n</div>"
     },
     "metadata": {}
    }
   ]
  },
  {
   "cell_type": "code",
   "metadata": {
    "tags": [],
    "cell_id": "00012-afbcb674-1f24-40e4-8b48-d884218e200d",
    "deepnote_to_be_reexecuted": false,
    "source_hash": "8aefbd80",
    "execution_start": 1636797786183,
    "execution_millis": 21,
    "deepnote_cell_type": "code",
    "deepnote_cell_height": 213,
    "deepnote_output_heights": [
     116
    ]
   },
   "source": "y.head()",
   "execution_count": null,
   "outputs": [
    {
     "output_type": "execute_result",
     "execution_count": 42,
     "data": {
      "text/plain": "0    37.9\n1    42.2\n2    47.3\n3    54.8\n4    43.1\nName: Y house price of unit area, dtype: float64"
     },
     "metadata": {}
    }
   ]
  },
  {
   "cell_type": "code",
   "metadata": {
    "tags": [],
    "cell_id": "00023-9d2fbe79-bece-4634-ba7b-653603a38418",
    "deepnote_to_be_reexecuted": false,
    "source_hash": "d021f794",
    "execution_start": 1636797793862,
    "execution_millis": 1375,
    "deepnote_cell_type": "code",
    "deepnote_cell_height": 700,
    "deepnote_output_heights": [
     531
    ]
   },
   "source": "# correlation in matrix format\n# pandas.DataFrame.corr \ncorrelation = data.corr()\nsns.heatmap(correlation, annot=True, linecolor='black', square=True)\nplt.show()",
   "execution_count": null,
   "outputs": [
    {
     "data": {
      "text/plain": "<Figure size 432x288 with 2 Axes>",
      "image/png": "[encoded data removed]"
     },
     "metadata": {
      "image/png": {
       "width": 600,
       "height": 529
      }
     },
     "output_type": "display_data"
    }
   ]
  },
  {
   "cell_type": "markdown",
   "source": "Now, we plot the correlation. It accepts dataset that we read from file and shows correlation individually to analyze how each feature affects the price.",
   "metadata": {
    "tags": [],
    "is_collapsed": false,
    "cell_id": "00021-019fded3-c847-4cc4-bc9e-ba1e6762ffe7",
    "deepnote_cell_type": "text-cell-p"
   }
  },
  {
   "cell_type": "code",
   "metadata": {
    "tags": [],
    "cell_id": "00015-b93c764e-d016-45fe-9b27-fed85e731856",
    "deepnote_to_be_reexecuted": false,
    "source_hash": "d8b8a5c8",
    "execution_start": 1636796997490,
    "execution_millis": 8143,
    "deepnote_cell_type": "code",
    "deepnote_cell_height": 2237,
    "deepnote_output_heights": [
     null,
     354,
     354,
     354,
     354,
     354
    ]
   },
   "source": "def plotCorrelation(dataset):\n    sns.lmplot(x='X2 house age',y='Y house price of unit area',data=dataset,aspect=2,height=5)\n    sns.lmplot(x='X3 distance to the nearest MRT station',y='Y house price of unit area',data=dataset,aspect=2,height=5)\n    sns.lmplot(x='X4 number of convenience stores',y='Y house price of unit area',data=dataset,aspect=2,height=5)\n    sns.lmplot(x='X5 latitude',y='Y house price of unit area',data=dataset,aspect=2,height=5)\n    sns.lmplot(x='X6 longitude',y='Y house price of unit area',data=dataset,aspect=2,height=5)\n\n    #Check for correlation of features with one another: the highest correlation rate is 0.3, which is obviously low\n    print('\\n Checking correlation: ')\n\nplotCorrelation(data)",
   "execution_count": null,
   "outputs": [
    {
     "name": "stdout",
     "text": "\n Checking correlation: \n",
     "output_type": "stream"
    },
    {
     "data": {
      "text/plain": "<Figure size 720x360 with 1 Axes>",
      "image/png": "[encoded data removed]"
     },
     "metadata": {
      "needs_background": "light",
      "image/png": {
       "width": 712,
       "height": 352
      }
     },
     "output_type": "display_data"
    },
    {
     "data": {
      "text/plain": "<Figure size 720x360 with 1 Axes>",
      "image/png": "[encoded data removed]"
     },
     "metadata": {
      "needs_background": "light",
      "image/png": {
       "width": 712,
       "height": 352
      }
     },
     "output_type": "display_data"
    },
    {
     "data": {
      "text/plain": "<Figure size 720x360 with 1 Axes>",
      "image/png": "[encoded data removed]"
     },
     "metadata": {
      "needs_background": "light",
      "image/png": {
       "width": 712,
       "height": 352
      }
     },
     "output_type": "display_data"
    },
    {
     "data": {
      "text/plain": "<Figure size 720x360 with 1 Axes>",
      "image/png": "[encoded data removed]"
     },
     "metadata": {
      "needs_background": "light",
      "image/png": {
       "width": 712,
       "height": 352
      }
     },
     "output_type": "display_data"
    },
    {
     "data": {
      "text/plain": "<Figure size 720x360 with 1 Axes>",
      "image/png": "[encoded data removed]"
     },
     "metadata": {
      "needs_background": "light",
      "image/png": {
       "width": 712,
       "height": 352
      }
     },
     "output_type": "display_data"
    }
   ]
  },
  {
   "cell_type": "code",
   "metadata": {
    "tags": [],
    "cell_id": "00017-265484e6-c5fe-41c5-87b6-beef414522a5",
    "deepnote_to_be_reexecuted": false,
    "source_hash": "e6928a8f",
    "execution_start": 1636797005746,
    "execution_millis": 110,
    "deepnote_cell_type": "code",
    "deepnote_cell_height": 479,
    "deepnote_output_heights": [
     382
    ]
   },
   "source": "data",
   "execution_count": null,
   "outputs": [
    {
     "output_type": "execute_result",
     "execution_count": 13,
     "data": {
      "application/vnd.deepnote.dataframe.v2+json": {
       "row_count": 314,
       "column_count": 6,
       "columns": [
        {
         "name": "X2 house age",
         "dtype": "float64",
         "stats": {
          "unique_count": 196,
          "nan_count": 0,
          "min": "0.0",
          "max": "43.8",
          "histogram": [
           {
            "bin_start": 0,
            "bin_end": 4.38,
            "count": 46
           },
           {
            "bin_start": 4.38,
            "bin_end": 8.76,
            "count": 38
           },
           {
            "bin_start": 8.76,
            "bin_end": 13.14,
            "count": 41
           },
           {
            "bin_start": 13.14,
            "bin_end": 17.52,
            "count": 63
           },
           {
            "bin_start": 17.52,
            "bin_end": 21.9,
            "count": 35
           },
           {
            "bin_start": 21.9,
            "bin_end": 26.28,
            "count": 5
           },
           {
            "bin_start": 26.28,
            "bin_end": 30.66,
            "count": 19
           },
           {
            "bin_start": 30.66,
            "bin_end": 35.04,
            "count": 38
           },
           {
            "bin_start": 35.04,
            "bin_end": 39.42,
            "count": 19
           },
           {
            "bin_start": 39.42,
            "bin_end": 43.8,
            "count": 10
           }
          ]
         }
        },
        {
         "name": "X3 distance to the nearest MRT station",
         "dtype": "float64",
         "stats": {
          "unique_count": 201,
          "nan_count": 0,
          "min": "23.38284",
          "max": "3085.17",
          "histogram": [
           {
            "bin_start": 23.38284,
            "bin_end": 329.561556,
            "count": 102
           },
           {
            "bin_start": 329.561556,
            "bin_end": 635.740272,
            "count": 104
           },
           {
            "bin_start": 635.740272,
            "bin_end": 941.918988,
            "count": 21
           },
           {
            "bin_start": 941.918988,
            "bin_end": 1248.097704,
            "count": 17
           },
           {
            "bin_start": 1248.097704,
            "bin_end": 1554.27642,
            "count": 21
           },
           {
            "bin_start": 1554.27642,
            "bin_end": 1860.455136,
            "count": 16
           },
           {
            "bin_start": 1860.455136,
            "bin_end": 2166.6338520000004,
            "count": 12
           },
           {
            "bin_start": 2166.6338520000004,
            "bin_end": 2472.8125680000003,
            "count": 17
           },
           {
            "bin_start": 2472.8125680000003,
            "bin_end": 2778.991284,
            "count": 3
           },
           {
            "bin_start": 2778.991284,
            "bin_end": 3085.17,
            "count": 1
           }
          ]
         }
        },
        {
         "name": "X4 number of convenience stores",
         "dtype": "int64",
         "stats": {
          "unique_count": 11,
          "nan_count": 0,
          "min": "0",
          "max": "10",
          "histogram": [
           {
            "bin_start": 0,
            "bin_end": 1,
            "count": 26
           },
           {
            "bin_start": 1,
            "bin_end": 2,
            "count": 32
           },
           {
            "bin_start": 2,
            "bin_end": 3,
            "count": 22
           },
           {
            "bin_start": 3,
            "bin_end": 4,
            "count": 37
           },
           {
            "bin_start": 4,
            "bin_end": 5,
            "count": 28
           },
           {
            "bin_start": 5,
            "bin_end": 6,
            "count": 60
           },
           {
            "bin_start": 6,
            "bin_end": 7,
            "count": 29
           },
           {
            "bin_start": 7,
            "bin_end": 8,
            "count": 25
           },
           {
            "bin_start": 8,
            "bin_end": 9,
            "count": 28
           },
           {
            "bin_start": 9,
            "bin_end": 10,
            "count": 27
           }
          ]
         }
        },
        {
         "name": "X5 latitude",
         "dtype": "float64",
         "stats": {
          "unique_count": 183,
          "nan_count": 0,
          "min": "24.94883",
          "max": "24.998",
          "histogram": [
           {
            "bin_start": 24.94883,
            "bin_end": 24.953747,
            "count": 18
           },
           {
            "bin_start": 24.953747,
            "bin_end": 24.958664000000002,
            "count": 18
           },
           {
            "bin_start": 24.958664000000002,
            "bin_end": 24.963581,
            "count": 33
           },
           {
            "bin_start": 24.963581,
            "bin_end": 24.968498,
            "count": 51
           },
           {
            "bin_start": 24.968498,
            "bin_end": 24.973415000000003,
            "count": 36
           },
           {
            "bin_start": 24.973415000000003,
            "bin_end": 24.978332,
            "count": 74
           },
           {
            "bin_start": 24.978332,
            "bin_end": 24.983249,
            "count": 58
           },
           {
            "bin_start": 24.983249,
            "bin_end": 24.988166,
            "count": 17
           },
           {
            "bin_start": 24.988166,
            "bin_end": 24.993083000000002,
            "count": 8
           },
           {
            "bin_start": 24.993083000000002,
            "bin_end": 24.998,
            "count": 1
           }
          ]
         }
        },
        {
         "name": "X6 longitude",
         "dtype": "float64",
         "stats": {
          "unique_count": 182,
          "nan_count": 0,
          "min": "121.50827",
          "max": "121.56174",
          "histogram": [
           {
            "bin_start": 121.50827,
            "bin_end": 121.513617,
            "count": 22
           },
           {
            "bin_start": 121.513617,
            "bin_end": 121.518964,
            "count": 24
           },
           {
            "bin_start": 121.518964,
            "bin_end": 121.524311,
            "count": 2
           },
           {
            "bin_start": 121.524311,
            "bin_end": 121.529658,
            "count": 7
           },
           {
            "bin_start": 121.529658,
            "bin_end": 121.535005,
            "count": 40
           },
           {
            "bin_start": 121.535005,
            "bin_end": 121.540352,
            "count": 67
           },
           {
            "bin_start": 121.540352,
            "bin_end": 121.545699,
            "count": 109
           },
           {
            "bin_start": 121.545699,
            "bin_end": 121.551046,
            "count": 34
           },
           {
            "bin_start": 121.551046,
            "bin_end": 121.556393,
            "count": 6
           },
           {
            "bin_start": 121.556393,
            "bin_end": 121.56174,
            "count": 3
           }
          ]
         }
        },
        {
         "name": "Y house price of unit area",
         "dtype": "float64",
         "stats": {
          "unique_count": 219,
          "nan_count": 0,
          "min": "7.6",
          "max": "73.6",
          "histogram": [
           {
            "bin_start": 7.6,
            "bin_end": 14.2,
            "count": 3
           },
           {
            "bin_start": 14.2,
            "bin_end": 20.799999999999997,
            "count": 5
           },
           {
            "bin_start": 20.799999999999997,
            "bin_end": 27.4,
            "count": 47
           },
           {
            "bin_start": 27.4,
            "bin_end": 34,
            "count": 41
           },
           {
            "bin_start": 34,
            "bin_end": 40.6,
            "count": 68
           },
           {
            "bin_start": 40.6,
            "bin_end": 47.199999999999996,
            "count": 70
           },
           {
            "bin_start": 47.199999999999996,
            "bin_end": 53.8,
            "count": 41
           },
           {
            "bin_start": 53.8,
            "bin_end": 60.4,
            "count": 24
           },
           {
            "bin_start": 60.4,
            "bin_end": 67,
            "count": 10
           },
           {
            "bin_start": 67,
            "bin_end": 73.6,
            "count": 5
           }
          ]
         }
        },
        {
         "name": "_deepnote_index_column",
         "dtype": "int64"
        }
       ],
       "rows_top": [
        {
         "X2 house age": 32,
         "X3 distance to the nearest MRT station": 84.87882,
         "X4 number of convenience stores": 10,
         "X5 latitude": 24.98298,
         "X6 longitude": 121.54024,
         "Y house price of unit area": 37.9,
         "_deepnote_index_column": 0
        },
        {
         "X2 house age": 19.5,
         "X3 distance to the nearest MRT station": 306.5947,
         "X4 number of convenience stores": 9,
         "X5 latitude": 24.98034,
         "X6 longitude": 121.53951,
         "Y house price of unit area": 42.2,
         "_deepnote_index_column": 1
        },
        {
         "X2 house age": 13.3,
         "X3 distance to the nearest MRT station": 561.9845,
         "X4 number of convenience stores": 5,
         "X5 latitude": 24.98746,
         "X6 longitude": 121.54391,
         "Y house price of unit area": 47.3,
         "_deepnote_index_column": 2
        },
        {
         "X2 house age": 13.3,
         "X3 distance to the nearest MRT station": 561.9845,
         "X4 number of convenience stores": 5,
         "X5 latitude": 24.98746,
         "X6 longitude": 121.54391,
         "Y house price of unit area": 54.8,
         "_deepnote_index_column": 3
        },
        {
         "X2 house age": 5,
         "X3 distance to the nearest MRT station": 390.5684,
         "X4 number of convenience stores": 5,
         "X5 latitude": 24.97937,
         "X6 longitude": 121.54245,
         "Y house price of unit area": 43.1,
         "_deepnote_index_column": 4
        },
        {
         "X2 house age": 7.1,
         "X3 distance to the nearest MRT station": 2175.03,
         "X4 number of convenience stores": 3,
         "X5 latitude": 24.96305,
         "X6 longitude": 121.51254,
         "Y house price of unit area": 32.1,
         "_deepnote_index_column": 5
        },
        {
         "X2 house age": 34.5,
         "X3 distance to the nearest MRT station": 623.4731,
         "X4 number of convenience stores": 7,
         "X5 latitude": 24.97933,
         "X6 longitude": 121.53642,
         "Y house price of unit area": 40.3,
         "_deepnote_index_column": 6
        },
        {
         "X2 house age": 20.3,
         "X3 distance to the nearest MRT station": 287.6025,
         "X4 number of convenience stores": 6,
         "X5 latitude": 24.98042,
         "X6 longitude": 121.54228,
         "Y house price of unit area": 46.7,
         "_deepnote_index_column": 7
        },
        {
         "X2 house age": 17.9,
         "X3 distance to the nearest MRT station": 1783.18,
         "X4 number of convenience stores": 3,
         "X5 latitude": 24.96731,
         "X6 longitude": 121.51486,
         "Y house price of unit area": 22.1,
         "_deepnote_index_column": 9
        },
        {
         "X2 house age": 34.8,
         "X3 distance to the nearest MRT station": 405.2134,
         "X4 number of convenience stores": 1,
         "X5 latitude": 24.97349,
         "X6 longitude": 121.53372,
         "Y house price of unit area": 41.4,
         "_deepnote_index_column": 10
        },
        {
         "X2 house age": 6.3,
         "X3 distance to the nearest MRT station": 90.45606,
         "X4 number of convenience stores": 9,
         "X5 latitude": 24.97433,
         "X6 longitude": 121.5431,
         "Y house price of unit area": 58.1,
         "_deepnote_index_column": 11
        },
        {
         "X2 house age": 13,
         "X3 distance to the nearest MRT station": 492.2313,
         "X4 number of convenience stores": 5,
         "X5 latitude": 24.96515,
         "X6 longitude": 121.53737,
         "Y house price of unit area": 39.3,
         "_deepnote_index_column": 12
        },
        {
         "X2 house age": 20.4,
         "X3 distance to the nearest MRT station": 2469.645,
         "X4 number of convenience stores": 4,
         "X5 latitude": 24.96108,
         "X6 longitude": 121.51046,
         "Y house price of unit area": 23.8,
         "_deepnote_index_column": 13
        },
        {
         "X2 house age": 13.2,
         "X3 distance to the nearest MRT station": 1164.838,
         "X4 number of convenience stores": 4,
         "X5 latitude": 24.99156,
         "X6 longitude": 121.53406,
         "Y house price of unit area": 34.3,
         "_deepnote_index_column": 14
        },
        {
         "X2 house age": 35.7,
         "X3 distance to the nearest MRT station": 579.2083,
         "X4 number of convenience stores": 2,
         "X5 latitude": 24.9824,
         "X6 longitude": 121.54619,
         "Y house price of unit area": 50.5,
         "_deepnote_index_column": 15
        },
        {
         "X2 house age": 0,
         "X3 distance to the nearest MRT station": 292.9978,
         "X4 number of convenience stores": 6,
         "X5 latitude": 24.97744,
         "X6 longitude": 121.54458,
         "Y house price of unit area": 70.1,
         "_deepnote_index_column": 16
        },
        {
         "X2 house age": 17.7,
         "X3 distance to the nearest MRT station": 350.8515,
         "X4 number of convenience stores": 1,
         "X5 latitude": 24.97544,
         "X6 longitude": 121.53119,
         "Y house price of unit area": 37.4,
         "_deepnote_index_column": 17
        },
        {
         "X2 house age": 16.9,
         "X3 distance to the nearest MRT station": 368.1363,
         "X4 number of convenience stores": 8,
         "X5 latitude": 24.9675,
         "X6 longitude": 121.54451,
         "Y house price of unit area": 42.3,
         "_deepnote_index_column": 18
        },
        {
         "X2 house age": 1.5,
         "X3 distance to the nearest MRT station": 23.38284,
         "X4 number of convenience stores": 7,
         "X5 latitude": 24.96772,
         "X6 longitude": 121.54102,
         "Y house price of unit area": 47.7,
         "_deepnote_index_column": 19
        },
        {
         "X2 house age": 4.5,
         "X3 distance to the nearest MRT station": 2275.877,
         "X4 number of convenience stores": 3,
         "X5 latitude": 24.96314,
         "X6 longitude": 121.51151,
         "Y house price of unit area": 29.3,
         "_deepnote_index_column": 20
        },
        {
         "X2 house age": 10.5,
         "X3 distance to the nearest MRT station": 279.1726,
         "X4 number of convenience stores": 7,
         "X5 latitude": 24.97528,
         "X6 longitude": 121.54541,
         "Y house price of unit area": 51.6,
         "_deepnote_index_column": 21
        },
        {
         "X2 house age": 14.7,
         "X3 distance to the nearest MRT station": 1360.139,
         "X4 number of convenience stores": 1,
         "X5 latitude": 24.95204,
         "X6 longitude": 121.54842,
         "Y house price of unit area": 24.6,
         "_deepnote_index_column": 22
        },
        {
         "X2 house age": 10.1,
         "X3 distance to the nearest MRT station": 279.1726,
         "X4 number of convenience stores": 7,
         "X5 latitude": 24.97528,
         "X6 longitude": 121.54541,
         "Y house price of unit area": 47.9,
         "_deepnote_index_column": 23
        },
        {
         "X2 house age": 39.6,
         "X3 distance to the nearest MRT station": 480.6977,
         "X4 number of convenience stores": 4,
         "X5 latitude": 24.97353,
         "X6 longitude": 121.53885,
         "Y house price of unit area": 38.8,
         "_deepnote_index_column": 24
        },
        {
         "X2 house age": 29.3,
         "X3 distance to the nearest MRT station": 1487.868,
         "X4 number of convenience stores": 2,
         "X5 latitude": 24.97542,
         "X6 longitude": 121.51726,
         "Y house price of unit area": 27,
         "_deepnote_index_column": 25
        },
        {
         "X2 house age": 3.1,
         "X3 distance to the nearest MRT station": 383.8624,
         "X4 number of convenience stores": 5,
         "X5 latitude": 24.98085,
         "X6 longitude": 121.54391,
         "Y house price of unit area": 56.2,
         "_deepnote_index_column": 26
        },
        {
         "X2 house age": 10.4,
         "X3 distance to the nearest MRT station": 276.449,
         "X4 number of convenience stores": 5,
         "X5 latitude": 24.95593,
         "X6 longitude": 121.53913,
         "Y house price of unit area": 33.6,
         "_deepnote_index_column": 27
        },
        {
         "X2 house age": 19.2,
         "X3 distance to the nearest MRT station": 557.478,
         "X4 number of convenience stores": 4,
         "X5 latitude": 24.97419,
         "X6 longitude": 121.53797,
         "Y house price of unit area": 47,
         "_deepnote_index_column": 28
        },
        {
         "X2 house age": 7.1,
         "X3 distance to the nearest MRT station": 451.2438,
         "X4 number of convenience stores": 5,
         "X5 latitude": 24.97563,
         "X6 longitude": 121.54694,
         "Y house price of unit area": 57.1,
         "_deepnote_index_column": 29
        },
        {
         "X2 house age": 29.6,
         "X3 distance to the nearest MRT station": 769.4034,
         "X4 number of convenience stores": 7,
         "X5 latitude": 24.98281,
         "X6 longitude": 121.53408,
         "Y house price of unit area": 25,
         "_deepnote_index_column": 31
        },
        {
         "X2 house age": 37.9,
         "X3 distance to the nearest MRT station": 488.5727,
         "X4 number of convenience stores": 1,
         "X5 latitude": 24.97349,
         "X6 longitude": 121.53451,
         "Y house price of unit area": 34.2,
         "_deepnote_index_column": 32
        },
        {
         "X2 house age": 16.5,
         "X3 distance to the nearest MRT station": 323.655,
         "X4 number of convenience stores": 6,
         "X5 latitude": 24.97841,
         "X6 longitude": 121.54281,
         "Y house price of unit area": 49.3,
         "_deepnote_index_column": 33
        },
        {
         "X2 house age": 15.4,
         "X3 distance to the nearest MRT station": 205.367,
         "X4 number of convenience stores": 7,
         "X5 latitude": 24.98419,
         "X6 longitude": 121.54243,
         "Y house price of unit area": 55.1,
         "_deepnote_index_column": 34
        },
        {
         "X2 house age": 14.7,
         "X3 distance to the nearest MRT station": 1935.009,
         "X4 number of convenience stores": 2,
         "X5 latitude": 24.96386,
         "X6 longitude": 121.51458,
         "Y house price of unit area": 22.9,
         "_deepnote_index_column": 36
        },
        {
         "X2 house age": 12,
         "X3 distance to the nearest MRT station": 1360.139,
         "X4 number of convenience stores": 1,
         "X5 latitude": 24.95204,
         "X6 longitude": 121.54842,
         "Y house price of unit area": 25.3,
         "_deepnote_index_column": 37
        },
        {
         "X2 house age": 3.1,
         "X3 distance to the nearest MRT station": 577.9615,
         "X4 number of convenience stores": 6,
         "X5 latitude": 24.97201,
         "X6 longitude": 121.54722,
         "Y house price of unit area": 47.7,
         "_deepnote_index_column": 38
        },
        {
         "X2 house age": 16.2,
         "X3 distance to the nearest MRT station": 289.3248,
         "X4 number of convenience stores": 5,
         "X5 latitude": 24.98203,
         "X6 longitude": 121.54348,
         "Y house price of unit area": 46.2,
         "_deepnote_index_column": 39
        },
        {
         "X2 house age": 36.1,
         "X3 distance to the nearest MRT station": 519.4617,
         "X4 number of convenience stores": 5,
         "X5 latitude": 24.96305,
         "X6 longitude": 121.53758,
         "Y house price of unit area": 34.7,
         "_deepnote_index_column": 42
        },
        {
         "X2 house age": 34.4,
         "X3 distance to the nearest MRT station": 512.7871,
         "X4 number of convenience stores": 6,
         "X5 latitude": 24.98748,
         "X6 longitude": 121.54301,
         "Y house price of unit area": 34.1,
         "_deepnote_index_column": 43
        },
        {
         "X2 house age": 2.7,
         "X3 distance to the nearest MRT station": 533.4762,
         "X4 number of convenience stores": 4,
         "X5 latitude": 24.97445,
         "X6 longitude": 121.54765,
         "Y house price of unit area": 53.9,
         "_deepnote_index_column": 44
        },
        {
         "X2 house age": 36.6,
         "X3 distance to the nearest MRT station": 488.8193,
         "X4 number of convenience stores": 8,
         "X5 latitude": 24.97015,
         "X6 longitude": 121.54494,
         "Y house price of unit area": 38.3,
         "_deepnote_index_column": 45
        },
        {
         "X2 house age": 21.7,
         "X3 distance to the nearest MRT station": 463.9623,
         "X4 number of convenience stores": 9,
         "X5 latitude": 24.9703,
         "X6 longitude": 121.54458,
         "Y house price of unit area": 42,
         "_deepnote_index_column": 46
        },
        {
         "X2 house age": 35.9,
         "X3 distance to the nearest MRT station": 640.7391,
         "X4 number of convenience stores": 3,
         "X5 latitude": 24.97563,
         "X6 longitude": 121.53715,
         "Y house price of unit area": 61.5,
         "_deepnote_index_column": 47
        },
        {
         "X2 house age": 21.7,
         "X3 distance to the nearest MRT station": 512.5487,
         "X4 number of convenience stores": 4,
         "X5 latitude": 24.974,
         "X6 longitude": 121.53842,
         "Y house price of unit area": 44.2,
         "_deepnote_index_column": 50
        },
        {
         "X2 house age": 31.3,
         "X3 distance to the nearest MRT station": 1758.406,
         "X4 number of convenience stores": 1,
         "X5 latitude": 24.95402,
         "X6 longitude": 121.55282,
         "Y house price of unit area": 20.7,
         "_deepnote_index_column": 51
        },
        {
         "X2 house age": 32.1,
         "X3 distance to the nearest MRT station": 1438.579,
         "X4 number of convenience stores": 3,
         "X5 latitude": 24.97419,
         "X6 longitude": 121.5175,
         "Y house price of unit area": 27,
         "_deepnote_index_column": 52
        },
        {
         "X2 house age": 13.3,
         "X3 distance to the nearest MRT station": 492.2313,
         "X4 number of convenience stores": 5,
         "X5 latitude": 24.96515,
         "X6 longitude": 121.53737,
         "Y house price of unit area": 38.9,
         "_deepnote_index_column": 53
        },
        {
         "X2 house age": 16.1,
         "X3 distance to the nearest MRT station": 289.3248,
         "X4 number of convenience stores": 5,
         "X5 latitude": 24.98203,
         "X6 longitude": 121.54348,
         "Y house price of unit area": 51.7,
         "_deepnote_index_column": 54
        },
        {
         "X2 house age": 31.7,
         "X3 distance to the nearest MRT station": 1160.632,
         "X4 number of convenience stores": 0,
         "X5 latitude": 24.94968,
         "X6 longitude": 121.53009,
         "Y house price of unit area": 13.7,
         "_deepnote_index_column": 55
        },
        {
         "X2 house age": 33.6,
         "X3 distance to the nearest MRT station": 371.2495,
         "X4 number of convenience stores": 8,
         "X5 latitude": 24.97254,
         "X6 longitude": 121.54059,
         "Y house price of unit area": 41.9,
         "_deepnote_index_column": 56
        },
        {
         "X2 house age": 3.5,
         "X3 distance to the nearest MRT station": 56.47425,
         "X4 number of convenience stores": 7,
         "X5 latitude": 24.95744,
         "X6 longitude": 121.53711,
         "Y house price of unit area": 53.5,
         "_deepnote_index_column": 57
        },
        {
         "X2 house age": 13.3,
         "X3 distance to the nearest MRT station": 336.0532,
         "X4 number of convenience stores": 5,
         "X5 latitude": 24.95776,
         "X6 longitude": 121.53438,
         "Y house price of unit area": 42.4,
         "_deepnote_index_column": 59
        },
        {
         "X2 house age": 11,
         "X3 distance to the nearest MRT station": 1931.207,
         "X4 number of convenience stores": 2,
         "X5 latitude": 24.96365,
         "X6 longitude": 121.51471,
         "Y house price of unit area": 21.3,
         "_deepnote_index_column": 60
        },
        {
         "X2 house age": 5.3,
         "X3 distance to the nearest MRT station": 259.6607,
         "X4 number of convenience stores": 6,
         "X5 latitude": 24.97585,
         "X6 longitude": 121.54516,
         "Y house price of unit area": 63.2,
         "_deepnote_index_column": 61
        },
        {
         "X2 house age": 17.2,
         "X3 distance to the nearest MRT station": 2175.877,
         "X4 number of convenience stores": 3,
         "X5 latitude": 24.96303,
         "X6 longitude": 121.51254,
         "Y house price of unit area": 27.7,
         "_deepnote_index_column": 62
        },
        {
         "X2 house age": 2.6,
         "X3 distance to the nearest MRT station": 533.4762,
         "X4 number of convenience stores": 4,
         "X5 latitude": 24.97445,
         "X6 longitude": 121.54765,
         "Y house price of unit area": 55,
         "_deepnote_index_column": 63
        },
        {
         "X2 house age": 17.5,
         "X3 distance to the nearest MRT station": 995.7554,
         "X4 number of convenience stores": 0,
         "X5 latitude": 24.96305,
         "X6 longitude": 121.54915,
         "Y house price of unit area": 25.3,
         "_deepnote_index_column": 64
        },
        {
         "X2 house age": 40.1,
         "X3 distance to the nearest MRT station": 123.7429,
         "X4 number of convenience stores": 8,
         "X5 latitude": 24.97635,
         "X6 longitude": 121.54329,
         "Y house price of unit area": 44.3,
         "_deepnote_index_column": 65
        },
        {
         "X2 house age": 1,
         "X3 distance to the nearest MRT station": 193.5845,
         "X4 number of convenience stores": 6,
         "X5 latitude": 24.96571,
         "X6 longitude": 121.54089,
         "Y house price of unit area": 50.7,
         "_deepnote_index_column": 66
        },
        {
         "X2 house age": 8.5,
         "X3 distance to the nearest MRT station": 104.8101,
         "X4 number of convenience stores": 5,
         "X5 latitude": 24.96674,
         "X6 longitude": 121.54067,
         "Y house price of unit area": 56.8,
         "_deepnote_index_column": 67
        },
        {
         "X2 house age": 30.4,
         "X3 distance to the nearest MRT station": 464.223,
         "X4 number of convenience stores": 6,
         "X5 latitude": 24.97964,
         "X6 longitude": 121.53805,
         "Y house price of unit area": 36.2,
         "_deepnote_index_column": 68
        },
        {
         "X2 house age": 12.5,
         "X3 distance to the nearest MRT station": 561.9845,
         "X4 number of convenience stores": 5,
         "X5 latitude": 24.98746,
         "X6 longitude": 121.54391,
         "Y house price of unit area": 42,
         "_deepnote_index_column": 69
        },
        {
         "X2 house age": 6.6,
         "X3 distance to the nearest MRT station": 90.45606,
         "X4 number of convenience stores": 9,
         "X5 latitude": 24.97433,
         "X6 longitude": 121.5431,
         "Y house price of unit area": 59,
         "_deepnote_index_column": 70
        },
        {
         "X2 house age": 35.5,
         "X3 distance to the nearest MRT station": 640.7391,
         "X4 number of convenience stores": 3,
         "X5 latitude": 24.97563,
         "X6 longitude": 121.53715,
         "Y house price of unit area": 40.8,
         "_deepnote_index_column": 71
        },
        {
         "X2 house age": 32.5,
         "X3 distance to the nearest MRT station": 424.5442,
         "X4 number of convenience stores": 8,
         "X5 latitude": 24.97587,
         "X6 longitude": 121.53913,
         "Y house price of unit area": 36.3,
         "_deepnote_index_column": 72
        },
        {
         "X2 house age": 6.8,
         "X3 distance to the nearest MRT station": 379.5575,
         "X4 number of convenience stores": 10,
         "X5 latitude": 24.98343,
         "X6 longitude": 121.53762,
         "Y house price of unit area": 54.4,
         "_deepnote_index_column": 74
        },
        {
         "X2 house age": 12.3,
         "X3 distance to the nearest MRT station": 1360.139,
         "X4 number of convenience stores": 1,
         "X5 latitude": 24.95204,
         "X6 longitude": 121.54842,
         "Y house price of unit area": 29.5,
         "_deepnote_index_column": 75
        },
        {
         "X2 house age": 35.9,
         "X3 distance to the nearest MRT station": 616.4004,
         "X4 number of convenience stores": 3,
         "X5 latitude": 24.97723,
         "X6 longitude": 121.53767,
         "Y house price of unit area": 36.8,
         "_deepnote_index_column": 76
        },
        {
         "X2 house age": 20.5,
         "X3 distance to the nearest MRT station": 2185.128,
         "X4 number of convenience stores": 3,
         "X5 latitude": 24.96322,
         "X6 longitude": 121.51237,
         "Y house price of unit area": 25.6,
         "_deepnote_index_column": 77
        },
        {
         "X2 house age": 38.2,
         "X3 distance to the nearest MRT station": 552.4371,
         "X4 number of convenience stores": 2,
         "X5 latitude": 24.97598,
         "X6 longitude": 121.53381,
         "Y house price of unit area": 29.8,
         "_deepnote_index_column": 78
        },
        {
         "X2 house age": 18,
         "X3 distance to the nearest MRT station": 1414.837,
         "X4 number of convenience stores": 1,
         "X5 latitude": 24.95182,
         "X6 longitude": 121.54887,
         "Y house price of unit area": 26.5,
         "_deepnote_index_column": 79
        },
        {
         "X2 house age": 11.8,
         "X3 distance to the nearest MRT station": 533.4762,
         "X4 number of convenience stores": 4,
         "X5 latitude": 24.97445,
         "X6 longitude": 121.54765,
         "Y house price of unit area": 40.3,
         "_deepnote_index_column": 80
        },
        {
         "X2 house age": 30.8,
         "X3 distance to the nearest MRT station": 377.7956,
         "X4 number of convenience stores": 6,
         "X5 latitude": 24.96427,
         "X6 longitude": 121.53964,
         "Y house price of unit area": 36.8,
         "_deepnote_index_column": 81
        },
        {
         "X2 house age": 13.2,
         "X3 distance to the nearest MRT station": 150.9347,
         "X4 number of convenience stores": 7,
         "X5 latitude": 24.96725,
         "X6 longitude": 121.54252,
         "Y house price of unit area": 48.1,
         "_deepnote_index_column": 82
        },
        {
         "X2 house age": 25.3,
         "X3 distance to the nearest MRT station": 2707.392,
         "X4 number of convenience stores": 3,
         "X5 latitude": 24.96056,
         "X6 longitude": 121.50831,
         "Y house price of unit area": 17.7,
         "_deepnote_index_column": 83
        },
        {
         "X2 house age": 15.1,
         "X3 distance to the nearest MRT station": 383.2805,
         "X4 number of convenience stores": 7,
         "X5 latitude": 24.96735,
         "X6 longitude": 121.54464,
         "Y house price of unit area": 43.7,
         "_deepnote_index_column": 84
        },
        {
         "X2 house age": 0,
         "X3 distance to the nearest MRT station": 338.9679,
         "X4 number of convenience stores": 9,
         "X5 latitude": 24.96853,
         "X6 longitude": 121.54413,
         "Y house price of unit area": 50.8,
         "_deepnote_index_column": 85
        },
        {
         "X2 house age": 1.8,
         "X3 distance to the nearest MRT station": 1455.798,
         "X4 number of convenience stores": 1,
         "X5 latitude": 24.9512,
         "X6 longitude": 121.549,
         "Y house price of unit area": 27,
         "_deepnote_index_column": 86
        },
        {
         "X2 house age": 8.9,
         "X3 distance to the nearest MRT station": 1406.43,
         "X4 number of convenience stores": 0,
         "X5 latitude": 24.98573,
         "X6 longitude": 121.52758,
         "Y house price of unit area": 48,
         "_deepnote_index_column": 88
        },
        {
         "X2 house age": 0,
         "X3 distance to the nearest MRT station": 274.0144,
         "X4 number of convenience stores": 1,
         "X5 latitude": 24.9748,
         "X6 longitude": 121.53059,
         "Y house price of unit area": 45.4,
         "_deepnote_index_column": 90
        },
        {
         "X2 house age": 9.1,
         "X3 distance to the nearest MRT station": 1402.016,
         "X4 number of convenience stores": 0,
         "X5 latitude": 24.98569,
         "X6 longitude": 121.5276,
         "Y house price of unit area": 43.2,
         "_deepnote_index_column": 91
        },
        {
         "X2 house age": 20.6,
         "X3 distance to the nearest MRT station": 2469.645,
         "X4 number of convenience stores": 4,
         "X5 latitude": 24.96108,
         "X6 longitude": 121.51046,
         "Y house price of unit area": 21.8,
         "_deepnote_index_column": 92
        },
        {
         "X2 house age": 31.9,
         "X3 distance to the nearest MRT station": 1146.329,
         "X4 number of convenience stores": 0,
         "X5 latitude": 24.9492,
         "X6 longitude": 121.53076,
         "Y house price of unit area": 16.1,
         "_deepnote_index_column": 93
        }
       ],
       "rows_bottom": [
        {
         "X2 house age": 12.4,
         "X3 distance to the nearest MRT station": 1712.632,
         "X4 number of convenience stores": 2,
         "X5 latitude": 24.96412,
         "X6 longitude": 121.5167,
         "Y house price of unit area": 31.3,
         "_deepnote_index_column": 324
        },
        {
         "X2 house age": 36.6,
         "X3 distance to the nearest MRT station": 488.8193,
         "X4 number of convenience stores": 8,
         "X5 latitude": 24.97015,
         "X6 longitude": 121.54494,
         "Y house price of unit area": 38.1,
         "_deepnote_index_column": 325
        },
        {
         "X2 house age": 4.1,
         "X3 distance to the nearest MRT station": 56.47425,
         "X4 number of convenience stores": 7,
         "X5 latitude": 24.95744,
         "X6 longitude": 121.53711,
         "Y house price of unit area": 62.1,
         "_deepnote_index_column": 326
        },
        {
         "X2 house age": 3.5,
         "X3 distance to the nearest MRT station": 757.3377,
         "X4 number of convenience stores": 3,
         "X5 latitude": 24.97538,
         "X6 longitude": 121.54971,
         "Y house price of unit area": 36.7,
         "_deepnote_index_column": 327
        },
        {
         "X2 house age": 15.9,
         "X3 distance to the nearest MRT station": 1497.713,
         "X4 number of convenience stores": 3,
         "X5 latitude": 24.97003,
         "X6 longitude": 121.51696,
         "Y house price of unit area": 23.6,
         "_deepnote_index_column": 328
        },
        {
         "X2 house age": 32,
         "X3 distance to the nearest MRT station": 1156.777,
         "X4 number of convenience stores": 0,
         "X5 latitude": 24.94935,
         "X6 longitude": 121.53046,
         "Y house price of unit area": 12.8,
         "_deepnote_index_column": 330
        },
        {
         "X2 house age": 39.8,
         "X3 distance to the nearest MRT station": 617.7134,
         "X4 number of convenience stores": 2,
         "X5 latitude": 24.97577,
         "X6 longitude": 121.53475,
         "Y house price of unit area": 39.6,
         "_deepnote_index_column": 332
        },
        {
         "X2 house age": 7.8,
         "X3 distance to the nearest MRT station": 104.8101,
         "X4 number of convenience stores": 5,
         "X5 latitude": 24.96674,
         "X6 longitude": 121.54067,
         "Y house price of unit area": 38.4,
         "_deepnote_index_column": 333
        },
        {
         "X2 house age": 30,
         "X3 distance to the nearest MRT station": 1013.341,
         "X4 number of convenience stores": 5,
         "X5 latitude": 24.99006,
         "X6 longitude": 121.5346,
         "Y house price of unit area": 22.8,
         "_deepnote_index_column": 334
        },
        {
         "X2 house age": 27.3,
         "X3 distance to the nearest MRT station": 337.6016,
         "X4 number of convenience stores": 6,
         "X5 latitude": 24.96431,
         "X6 longitude": 121.54063,
         "Y house price of unit area": 36.5,
         "_deepnote_index_column": 335
        },
        {
         "X2 house age": 5.1,
         "X3 distance to the nearest MRT station": 1867.233,
         "X4 number of convenience stores": 2,
         "X5 latitude": 24.98407,
         "X6 longitude": 121.51748,
         "Y house price of unit area": 35.6,
         "_deepnote_index_column": 336
        },
        {
         "X2 house age": 31.3,
         "X3 distance to the nearest MRT station": 600.8604,
         "X4 number of convenience stores": 5,
         "X5 latitude": 24.96871,
         "X6 longitude": 121.54651,
         "Y house price of unit area": 30.9,
         "_deepnote_index_column": 337
        },
        {
         "X2 house age": 31.5,
         "X3 distance to the nearest MRT station": 258.186,
         "X4 number of convenience stores": 9,
         "X5 latitude": 24.96867,
         "X6 longitude": 121.54331,
         "Y house price of unit area": 36.3,
         "_deepnote_index_column": 338
        },
        {
         "X2 house age": 1.7,
         "X3 distance to the nearest MRT station": 329.9747,
         "X4 number of convenience stores": 5,
         "X5 latitude": 24.98254,
         "X6 longitude": 121.54395,
         "Y house price of unit area": 50.4,
         "_deepnote_index_column": 339
        },
        {
         "X2 house age": 33.6,
         "X3 distance to the nearest MRT station": 270.8895,
         "X4 number of convenience stores": 0,
         "X5 latitude": 24.97281,
         "X6 longitude": 121.53265,
         "Y house price of unit area": 42.9,
         "_deepnote_index_column": 340
        },
        {
         "X2 house age": 13,
         "X3 distance to the nearest MRT station": 750.0704,
         "X4 number of convenience stores": 2,
         "X5 latitude": 24.97371,
         "X6 longitude": 121.54951,
         "Y house price of unit area": 37,
         "_deepnote_index_column": 341
        },
        {
         "X2 house age": 5.7,
         "X3 distance to the nearest MRT station": 90.45606,
         "X4 number of convenience stores": 9,
         "X5 latitude": 24.97433,
         "X6 longitude": 121.5431,
         "Y house price of unit area": 53.5,
         "_deepnote_index_column": 342
        },
        {
         "X2 house age": 33.5,
         "X3 distance to the nearest MRT station": 563.2854,
         "X4 number of convenience stores": 8,
         "X5 latitude": 24.98223,
         "X6 longitude": 121.53597,
         "Y house price of unit area": 46.6,
         "_deepnote_index_column": 343
        },
        {
         "X2 house age": 34.6,
         "X3 distance to the nearest MRT station": 3085.17,
         "X4 number of convenience stores": 0,
         "X5 latitude": 24.998,
         "X6 longitude": 121.5155,
         "Y house price of unit area": 41.2,
         "_deepnote_index_column": 344
        },
        {
         "X2 house age": 0,
         "X3 distance to the nearest MRT station": 185.4296,
         "X4 number of convenience stores": 0,
         "X5 latitude": 24.9711,
         "X6 longitude": 121.5317,
         "Y house price of unit area": 37.9,
         "_deepnote_index_column": 345
        },
        {
         "X2 house age": 13.2,
         "X3 distance to the nearest MRT station": 1712.632,
         "X4 number of convenience stores": 2,
         "X5 latitude": 24.96412,
         "X6 longitude": 121.5167,
         "Y house price of unit area": 30.8,
         "_deepnote_index_column": 346
        },
        {
         "X2 house age": 4.6,
         "X3 distance to the nearest MRT station": 259.6607,
         "X4 number of convenience stores": 6,
         "X5 latitude": 24.97585,
         "X6 longitude": 121.54516,
         "Y house price of unit area": 53.7,
         "_deepnote_index_column": 348
        },
        {
         "X2 house age": 7.8,
         "X3 distance to the nearest MRT station": 104.8101,
         "X4 number of convenience stores": 5,
         "X5 latitude": 24.96674,
         "X6 longitude": 121.54067,
         "Y house price of unit area": 47,
         "_deepnote_index_column": 349
        },
        {
         "X2 house age": 13.2,
         "X3 distance to the nearest MRT station": 492.2313,
         "X4 number of convenience stores": 5,
         "X5 latitude": 24.96515,
         "X6 longitude": 121.53737,
         "Y house price of unit area": 42.3,
         "_deepnote_index_column": 350
        },
        {
         "X2 house age": 4,
         "X3 distance to the nearest MRT station": 2180.245,
         "X4 number of convenience stores": 3,
         "X5 latitude": 24.96324,
         "X6 longitude": 121.51241,
         "Y house price of unit area": 28.6,
         "_deepnote_index_column": 351
        },
        {
         "X2 house age": 18.4,
         "X3 distance to the nearest MRT station": 2674.961,
         "X4 number of convenience stores": 3,
         "X5 latitude": 24.96143,
         "X6 longitude": 121.50827,
         "Y house price of unit area": 25.7,
         "_deepnote_index_column": 352
        },
        {
         "X2 house age": 4.1,
         "X3 distance to the nearest MRT station": 2147.376,
         "X4 number of convenience stores": 3,
         "X5 latitude": 24.96299,
         "X6 longitude": 121.51284,
         "Y house price of unit area": 31.3,
         "_deepnote_index_column": 353
        },
        {
         "X2 house age": 12.2,
         "X3 distance to the nearest MRT station": 1360.139,
         "X4 number of convenience stores": 1,
         "X5 latitude": 24.95204,
         "X6 longitude": 121.54842,
         "Y house price of unit area": 30.1,
         "_deepnote_index_column": 354
        },
        {
         "X2 house age": 3.8,
         "X3 distance to the nearest MRT station": 383.8624,
         "X4 number of convenience stores": 5,
         "X5 latitude": 24.98085,
         "X6 longitude": 121.54391,
         "Y house price of unit area": 60.7,
         "_deepnote_index_column": 355
        },
        {
         "X2 house age": 10.3,
         "X3 distance to the nearest MRT station": 211.4473,
         "X4 number of convenience stores": 1,
         "X5 latitude": 24.97417,
         "X6 longitude": 121.52999,
         "Y house price of unit area": 45.3,
         "_deepnote_index_column": 356
        },
        {
         "X2 house age": 0,
         "X3 distance to the nearest MRT station": 338.9679,
         "X4 number of convenience stores": 9,
         "X5 latitude": 24.96853,
         "X6 longitude": 121.54413,
         "Y house price of unit area": 44.9,
         "_deepnote_index_column": 357
        },
        {
         "X2 house age": 1.1,
         "X3 distance to the nearest MRT station": 193.5845,
         "X4 number of convenience stores": 6,
         "X5 latitude": 24.96571,
         "X6 longitude": 121.54089,
         "Y house price of unit area": 45.1,
         "_deepnote_index_column": 358
        },
        {
         "X2 house age": 5.6,
         "X3 distance to the nearest MRT station": 2408.993,
         "X4 number of convenience stores": 0,
         "X5 latitude": 24.95505,
         "X6 longitude": 121.55964,
         "Y house price of unit area": 24.7,
         "_deepnote_index_column": 359
        },
        {
         "X2 house age": 32.9,
         "X3 distance to the nearest MRT station": 87.30222,
         "X4 number of convenience stores": 10,
         "X5 latitude": 24.983,
         "X6 longitude": 121.54022,
         "Y house price of unit area": 47.1,
         "_deepnote_index_column": 360
        },
        {
         "X2 house age": 41.4,
         "X3 distance to the nearest MRT station": 281.205,
         "X4 number of convenience stores": 8,
         "X5 latitude": 24.97345,
         "X6 longitude": 121.54093,
         "Y house price of unit area": 63.3,
         "_deepnote_index_column": 361
        },
        {
         "X2 house age": 17.1,
         "X3 distance to the nearest MRT station": 967.4,
         "X4 number of convenience stores": 4,
         "X5 latitude": 24.98872,
         "X6 longitude": 121.53408,
         "Y house price of unit area": 40,
         "_deepnote_index_column": 362
        },
        {
         "X2 house age": 32.3,
         "X3 distance to the nearest MRT station": 109.9455,
         "X4 number of convenience stores": 10,
         "X5 latitude": 24.98182,
         "X6 longitude": 121.54086,
         "Y house price of unit area": 48,
         "_deepnote_index_column": 363
        },
        {
         "X2 house age": 35.3,
         "X3 distance to the nearest MRT station": 614.1394,
         "X4 number of convenience stores": 7,
         "X5 latitude": 24.97913,
         "X6 longitude": 121.53666,
         "Y house price of unit area": 33.1,
         "_deepnote_index_column": 364
        },
        {
         "X2 house age": 17.3,
         "X3 distance to the nearest MRT station": 2261.432,
         "X4 number of convenience stores": 4,
         "X5 latitude": 24.96182,
         "X6 longitude": 121.51222,
         "Y house price of unit area": 29.5,
         "_deepnote_index_column": 365
        },
        {
         "X2 house age": 14.2,
         "X3 distance to the nearest MRT station": 1801.544,
         "X4 number of convenience stores": 1,
         "X5 latitude": 24.95153,
         "X6 longitude": 121.55254,
         "Y house price of unit area": 24.8,
         "_deepnote_index_column": 366
        },
        {
         "X2 house age": 15,
         "X3 distance to the nearest MRT station": 1828.319,
         "X4 number of convenience stores": 2,
         "X5 latitude": 24.96464,
         "X6 longitude": 121.51531,
         "Y house price of unit area": 20.9,
         "_deepnote_index_column": 367
        },
        {
         "X2 house age": 18.2,
         "X3 distance to the nearest MRT station": 350.8515,
         "X4 number of convenience stores": 1,
         "X5 latitude": 24.97544,
         "X6 longitude": 121.53119,
         "Y house price of unit area": 43.1,
         "_deepnote_index_column": 368
        },
        {
         "X2 house age": 20.2,
         "X3 distance to the nearest MRT station": 2185.128,
         "X4 number of convenience stores": 3,
         "X5 latitude": 24.96322,
         "X6 longitude": 121.51237,
         "Y house price of unit area": 22.8,
         "_deepnote_index_column": 369
        },
        {
         "X2 house age": 15.9,
         "X3 distance to the nearest MRT station": 289.3248,
         "X4 number of convenience stores": 5,
         "X5 latitude": 24.98203,
         "X6 longitude": 121.54348,
         "Y house price of unit area": 42.1,
         "_deepnote_index_column": 370
        },
        {
         "X2 house age": 4.1,
         "X3 distance to the nearest MRT station": 312.8963,
         "X4 number of convenience stores": 5,
         "X5 latitude": 24.95591,
         "X6 longitude": 121.53956,
         "Y house price of unit area": 51.7,
         "_deepnote_index_column": 371
        },
        {
         "X2 house age": 33.9,
         "X3 distance to the nearest MRT station": 157.6052,
         "X4 number of convenience stores": 7,
         "X5 latitude": 24.96628,
         "X6 longitude": 121.54196,
         "Y house price of unit area": 41.5,
         "_deepnote_index_column": 372
        },
        {
         "X2 house age": 0,
         "X3 distance to the nearest MRT station": 274.0144,
         "X4 number of convenience stores": 1,
         "X5 latitude": 24.9748,
         "X6 longitude": 121.53059,
         "Y house price of unit area": 52.2,
         "_deepnote_index_column": 373
        },
        {
         "X2 house age": 5.4,
         "X3 distance to the nearest MRT station": 390.5684,
         "X4 number of convenience stores": 5,
         "X5 latitude": 24.97937,
         "X6 longitude": 121.54245,
         "Y house price of unit area": 49.5,
         "_deepnote_index_column": 374
        },
        {
         "X2 house age": 21.7,
         "X3 distance to the nearest MRT station": 1157.988,
         "X4 number of convenience stores": 0,
         "X5 latitude": 24.96165,
         "X6 longitude": 121.55011,
         "Y house price of unit area": 23.8,
         "_deepnote_index_column": 375
        },
        {
         "X2 house age": 14.7,
         "X3 distance to the nearest MRT station": 1717.193,
         "X4 number of convenience stores": 2,
         "X5 latitude": 24.96447,
         "X6 longitude": 121.51649,
         "Y house price of unit area": 30.5,
         "_deepnote_index_column": 376
        },
        {
         "X2 house age": 3.9,
         "X3 distance to the nearest MRT station": 49.66105,
         "X4 number of convenience stores": 8,
         "X5 latitude": 24.95836,
         "X6 longitude": 121.53756,
         "Y house price of unit area": 56.8,
         "_deepnote_index_column": 377
        },
        {
         "X2 house age": 37.3,
         "X3 distance to the nearest MRT station": 587.8877,
         "X4 number of convenience stores": 8,
         "X5 latitude": 24.97077,
         "X6 longitude": 121.54634,
         "Y house price of unit area": 37.4,
         "_deepnote_index_column": 378
        },
        {
         "X2 house age": 0,
         "X3 distance to the nearest MRT station": 292.9978,
         "X4 number of convenience stores": 6,
         "X5 latitude": 24.97744,
         "X6 longitude": 121.54458,
         "Y house price of unit area": 69.7,
         "_deepnote_index_column": 379
        },
        {
         "X2 house age": 14.1,
         "X3 distance to the nearest MRT station": 289.3248,
         "X4 number of convenience stores": 5,
         "X5 latitude": 24.98203,
         "X6 longitude": 121.54348,
         "Y house price of unit area": 53.3,
         "_deepnote_index_column": 380
        },
        {
         "X2 house age": 8,
         "X3 distance to the nearest MRT station": 132.5469,
         "X4 number of convenience stores": 9,
         "X5 latitude": 24.98298,
         "X6 longitude": 121.53981,
         "Y house price of unit area": 47.3,
         "_deepnote_index_column": 381
        },
        {
         "X2 house age": 29.1,
         "X3 distance to the nearest MRT station": 506.1144,
         "X4 number of convenience stores": 4,
         "X5 latitude": 24.97845,
         "X6 longitude": 121.53889,
         "Y house price of unit area": 40.3,
         "_deepnote_index_column": 383
        },
        {
         "X2 house age": 18.3,
         "X3 distance to the nearest MRT station": 82.88643,
         "X4 number of convenience stores": 10,
         "X5 latitude": 24.983,
         "X6 longitude": 121.54026,
         "Y house price of unit area": 46.6,
         "_deepnote_index_column": 385
        },
        {
         "X2 house age": 0,
         "X3 distance to the nearest MRT station": 185.4296,
         "X4 number of convenience stores": 0,
         "X5 latitude": 24.9711,
         "X6 longitude": 121.5317,
         "Y house price of unit area": 55.3,
         "_deepnote_index_column": 386
        },
        {
         "X2 house age": 16.2,
         "X3 distance to the nearest MRT station": 2103.555,
         "X4 number of convenience stores": 3,
         "X5 latitude": 24.96042,
         "X6 longitude": 121.51462,
         "Y house price of unit area": 25.6,
         "_deepnote_index_column": 387
        },
        {
         "X2 house age": 10.4,
         "X3 distance to the nearest MRT station": 2251.938,
         "X4 number of convenience stores": 4,
         "X5 latitude": 24.95957,
         "X6 longitude": 121.51353,
         "Y house price of unit area": 27.3,
         "_deepnote_index_column": 388
        },
        {
         "X2 house age": 40.9,
         "X3 distance to the nearest MRT station": 122.3619,
         "X4 number of convenience stores": 8,
         "X5 latitude": 24.96756,
         "X6 longitude": 121.5423,
         "Y house price of unit area": 67.7,
         "_deepnote_index_column": 389
        },
        {
         "X2 house age": 32.8,
         "X3 distance to the nearest MRT station": 377.8302,
         "X4 number of convenience stores": 9,
         "X5 latitude": 24.97151,
         "X6 longitude": 121.5435,
         "Y house price of unit area": 38.6,
         "_deepnote_index_column": 390
        },
        {
         "X2 house age": 6.2,
         "X3 distance to the nearest MRT station": 1939.749,
         "X4 number of convenience stores": 1,
         "X5 latitude": 24.95155,
         "X6 longitude": 121.55387,
         "Y house price of unit area": 31.3,
         "_deepnote_index_column": 391
        },
        {
         "X2 house age": 42.7,
         "X3 distance to the nearest MRT station": 443.802,
         "X4 number of convenience stores": 6,
         "X5 latitude": 24.97927,
         "X6 longitude": 121.53874,
         "Y house price of unit area": 35.3,
         "_deepnote_index_column": 392
        },
        {
         "X2 house age": 16.9,
         "X3 distance to the nearest MRT station": 967.4,
         "X4 number of convenience stores": 4,
         "X5 latitude": 24.98872,
         "X6 longitude": 121.53408,
         "Y house price of unit area": 40.3,
         "_deepnote_index_column": 393
        },
        {
         "X2 house age": 21.2,
         "X3 distance to the nearest MRT station": 512.5487,
         "X4 number of convenience stores": 4,
         "X5 latitude": 24.974,
         "X6 longitude": 121.53842,
         "Y house price of unit area": 42.5,
         "_deepnote_index_column": 395
        },
        {
         "X2 house age": 37.1,
         "X3 distance to the nearest MRT station": 918.6357,
         "X4 number of convenience stores": 1,
         "X5 latitude": 24.97198,
         "X6 longitude": 121.55063,
         "Y house price of unit area": 31.9,
         "_deepnote_index_column": 396
        },
        {
         "X2 house age": 13.1,
         "X3 distance to the nearest MRT station": 1164.838,
         "X4 number of convenience stores": 4,
         "X5 latitude": 24.99156,
         "X6 longitude": 121.53406,
         "Y house price of unit area": 32.2,
         "_deepnote_index_column": 397
        },
        {
         "X2 house age": 14.7,
         "X3 distance to the nearest MRT station": 1717.193,
         "X4 number of convenience stores": 2,
         "X5 latitude": 24.96447,
         "X6 longitude": 121.51649,
         "Y house price of unit area": 23,
         "_deepnote_index_column": 398
        },
        {
         "X2 house age": 12.7,
         "X3 distance to the nearest MRT station": 170.1289,
         "X4 number of convenience stores": 1,
         "X5 latitude": 24.97371,
         "X6 longitude": 121.52984,
         "Y house price of unit area": 37.3,
         "_deepnote_index_column": 399
        },
        {
         "X2 house age": 26.8,
         "X3 distance to the nearest MRT station": 482.7581,
         "X4 number of convenience stores": 5,
         "X5 latitude": 24.97433,
         "X6 longitude": 121.53863,
         "Y house price of unit area": 35.5,
         "_deepnote_index_column": 400
        },
        {
         "X2 house age": 7.6,
         "X3 distance to the nearest MRT station": 2175.03,
         "X4 number of convenience stores": 3,
         "X5 latitude": 24.96305,
         "X6 longitude": 121.51254,
         "Y house price of unit area": 27.7,
         "_deepnote_index_column": 401
        },
        {
         "X2 house age": 12.7,
         "X3 distance to the nearest MRT station": 187.4823,
         "X4 number of convenience stores": 1,
         "X5 latitude": 24.97388,
         "X6 longitude": 121.52981,
         "Y house price of unit area": 28.5,
         "_deepnote_index_column": 402
        },
        {
         "X2 house age": 30.9,
         "X3 distance to the nearest MRT station": 161.942,
         "X4 number of convenience stores": 9,
         "X5 latitude": 24.98353,
         "X6 longitude": 121.53966,
         "Y house price of unit area": 39.7,
         "_deepnote_index_column": 403
        },
        {
         "X2 house age": 16.4,
         "X3 distance to the nearest MRT station": 289.3248,
         "X4 number of convenience stores": 5,
         "X5 latitude": 24.98203,
         "X6 longitude": 121.54348,
         "Y house price of unit area": 41.2,
         "_deepnote_index_column": 404
        },
        {
         "X2 house age": 23,
         "X3 distance to the nearest MRT station": 130.9945,
         "X4 number of convenience stores": 6,
         "X5 latitude": 24.95663,
         "X6 longitude": 121.53765,
         "Y house price of unit area": 37.2,
         "_deepnote_index_column": 405
        },
        {
         "X2 house age": 1.9,
         "X3 distance to the nearest MRT station": 372.1386,
         "X4 number of convenience stores": 7,
         "X5 latitude": 24.97293,
         "X6 longitude": 121.54026,
         "Y house price of unit area": 40.5,
         "_deepnote_index_column": 406
        },
        {
         "X2 house age": 5.2,
         "X3 distance to the nearest MRT station": 2408.993,
         "X4 number of convenience stores": 0,
         "X5 latitude": 24.95505,
         "X6 longitude": 121.55964,
         "Y house price of unit area": 22.3,
         "_deepnote_index_column": 407
        },
        {
         "X2 house age": 18.5,
         "X3 distance to the nearest MRT station": 2175.744,
         "X4 number of convenience stores": 3,
         "X5 latitude": 24.9633,
         "X6 longitude": 121.51243,
         "Y house price of unit area": 28.1,
         "_deepnote_index_column": 408
        },
        {
         "X2 house age": 5.6,
         "X3 distance to the nearest MRT station": 90.45606,
         "X4 number of convenience stores": 9,
         "X5 latitude": 24.97433,
         "X6 longitude": 121.5431,
         "Y house price of unit area": 50,
         "_deepnote_index_column": 410
        },
        {
         "X2 house age": 18.8,
         "X3 distance to the nearest MRT station": 390.9696,
         "X4 number of convenience stores": 7,
         "X5 latitude": 24.97923,
         "X6 longitude": 121.53986,
         "Y house price of unit area": 40.6,
         "_deepnote_index_column": 411
        },
        {
         "X2 house age": 8.1,
         "X3 distance to the nearest MRT station": 104.8101,
         "X4 number of convenience stores": 5,
         "X5 latitude": 24.96674,
         "X6 longitude": 121.54067,
         "Y house price of unit area": 52.5,
         "_deepnote_index_column": 412
        },
        {
         "X2 house age": 6.5,
         "X3 distance to the nearest MRT station": 90.45606,
         "X4 number of convenience stores": 9,
         "X5 latitude": 24.97433,
         "X6 longitude": 121.5431,
         "Y house price of unit area": 63.9,
         "_deepnote_index_column": 413
        }
       ]
      },
      "text/plain": "     X2 house age  X3 distance to the nearest MRT station  \\\n0            32.0                                84.87882   \n1            19.5                               306.59470   \n2            13.3                               561.98450   \n3            13.3                               561.98450   \n4             5.0                               390.56840   \n..            ...                                     ...   \n408          18.5                              2175.74400   \n410           5.6                                90.45606   \n411          18.8                               390.96960   \n412           8.1                               104.81010   \n413           6.5                                90.45606   \n\n     X4 number of convenience stores  X5 latitude  X6 longitude  \\\n0                                 10     24.98298     121.54024   \n1                                  9     24.98034     121.53951   \n2                                  5     24.98746     121.54391   \n3                                  5     24.98746     121.54391   \n4                                  5     24.97937     121.54245   \n..                               ...          ...           ...   \n408                                3     24.96330     121.51243   \n410                                9     24.97433     121.54310   \n411                                7     24.97923     121.53986   \n412                                5     24.96674     121.54067   \n413                                9     24.97433     121.54310   \n\n     Y house price of unit area  \n0                          37.9  \n1                          42.2  \n2                          47.3  \n3                          54.8  \n4                          43.1  \n..                          ...  \n408                        28.1  \n410                        50.0  \n411                        40.6  \n412                        52.5  \n413                        63.9  \n\n[314 rows x 6 columns]",
      "text/html": "<div>\n<style scoped>\n    .dataframe tbody tr th:only-of-type {\n        vertical-align: middle;\n    }\n\n    .dataframe tbody tr th {\n        vertical-align: top;\n    }\n\n    .dataframe thead th {\n        text-align: right;\n    }\n</style>\n<table border=\"1\" class=\"dataframe\">\n  <thead>\n    <tr style=\"text-align: right;\">\n      <th></th>\n      <th>X2 house age</th>\n      <th>X3 distance to the nearest MRT station</th>\n      <th>X4 number of convenience stores</th>\n      <th>X5 latitude</th>\n      <th>X6 longitude</th>\n      <th>Y house price of unit area</th>\n    </tr>\n  </thead>\n  <tbody>\n    <tr>\n      <th>0</th>\n      <td>32.0</td>\n      <td>84.87882</td>\n      <td>10</td>\n      <td>24.98298</td>\n      <td>121.54024</td>\n      <td>37.9</td>\n    </tr>\n    <tr>\n      <th>1</th>\n      <td>19.5</td>\n      <td>306.59470</td>\n      <td>9</td>\n      <td>24.98034</td>\n      <td>121.53951</td>\n      <td>42.2</td>\n    </tr>\n    <tr>\n      <th>2</th>\n      <td>13.3</td>\n      <td>561.98450</td>\n      <td>5</td>\n      <td>24.98746</td>\n      <td>121.54391</td>\n      <td>47.3</td>\n    </tr>\n    <tr>\n      <th>3</th>\n      <td>13.3</td>\n      <td>561.98450</td>\n      <td>5</td>\n      <td>24.98746</td>\n      <td>121.54391</td>\n      <td>54.8</td>\n    </tr>\n    <tr>\n      <th>4</th>\n      <td>5.0</td>\n      <td>390.56840</td>\n      <td>5</td>\n      <td>24.97937</td>\n      <td>121.54245</td>\n      <td>43.1</td>\n    </tr>\n    <tr>\n      <th>...</th>\n      <td>...</td>\n      <td>...</td>\n      <td>...</td>\n      <td>...</td>\n      <td>...</td>\n      <td>...</td>\n    </tr>\n    <tr>\n      <th>408</th>\n      <td>18.5</td>\n      <td>2175.74400</td>\n      <td>3</td>\n      <td>24.96330</td>\n      <td>121.51243</td>\n      <td>28.1</td>\n    </tr>\n    <tr>\n      <th>410</th>\n      <td>5.6</td>\n      <td>90.45606</td>\n      <td>9</td>\n      <td>24.97433</td>\n      <td>121.54310</td>\n      <td>50.0</td>\n    </tr>\n    <tr>\n      <th>411</th>\n      <td>18.8</td>\n      <td>390.96960</td>\n      <td>7</td>\n      <td>24.97923</td>\n      <td>121.53986</td>\n      <td>40.6</td>\n    </tr>\n    <tr>\n      <th>412</th>\n      <td>8.1</td>\n      <td>104.81010</td>\n      <td>5</td>\n      <td>24.96674</td>\n      <td>121.54067</td>\n      <td>52.5</td>\n    </tr>\n    <tr>\n      <th>413</th>\n      <td>6.5</td>\n      <td>90.45606</td>\n      <td>9</td>\n      <td>24.97433</td>\n      <td>121.54310</td>\n      <td>63.9</td>\n    </tr>\n  </tbody>\n</table>\n<p>314 rows × 6 columns</p>\n</div>"
     },
     "metadata": {}
    }
   ]
  },
  {
   "cell_type": "markdown",
   "source": "### Implementing Cost Function and Gradient Descent w&amp;w/o Regularisation",
   "metadata": {
    "tags": [],
    "is_collapsed": false,
    "cell_id": "00018-08dec0fb-a498-4021-b7a6-ae701627aa9d",
    "deepnote_cell_type": "text-cell-h3"
   }
  },
  {
   "cell_type": "markdown",
   "source": "We will use Linear regression to predict the price of houses. ",
   "metadata": {
    "tags": [],
    "is_collapsed": false,
    "cell_id": "00032-667bd572-53bf-473b-94a7-e85f4ab77229",
    "deepnote_cell_type": "text-cell-p"
   }
  },
  {
   "cell_type": "code",
   "metadata": {
    "tags": [],
    "cell_id": "00019-b1356f50-c742-4149-b5b0-ec7fcfa8107c",
    "deepnote_to_be_reexecuted": false,
    "source_hash": "366e3e5a",
    "execution_start": 1636797005863,
    "execution_millis": 36,
    "deepnote_cell_type": "code",
    "deepnote_cell_height": 513
   },
   "source": "def CostGrad(X, y, theta):\n    m = y.size\n    error = np.dot(X, theta) - y\n    cost = 1/(2*m) * np.dot(error.T, error)\n    return cost, error\n\n\ndef LinearGradReg(X, y, theta, alpha, epoch):\n    cost_array = np.zeros(epoch)\n    m = y.size\n    for i in range(epoch):\n        cost, error = CostGrad(X, y, theta)\n        theta = theta - (alpha * (1/m) * np.dot(X.T, error))\n        cost_array[i] = cost\n    return theta, cost_array\n\n\ndef plotChart(epoch, cost_num):\n    fig, ax = plt.subplots()\n    ax.plot(np.arange(epoch), cost_num, 'r')\n    ax.set_xlabel('Iterations')\n    ax.set_ylabel('Cost')\n    ax.set_title('Error vs Iterations')\n    plt.style.use('fivethirtyeight')\n    plt.show()",
   "execution_count": null,
   "outputs": []
  },
  {
   "cell_type": "markdown",
   "source": "### Fitting linear regression",
   "metadata": {
    "tags": [],
    "is_collapsed": false,
    "cell_id": "00034-d64e0e47-c709-4480-8c21-7915894949cb",
    "deepnote_cell_type": "text-cell-h3"
   }
  },
  {
   "cell_type": "code",
   "metadata": {
    "tags": [],
    "cell_id": "00035-dfef0a29-213f-4f45-908e-f96c9ac528e5",
    "deepnote_to_be_reexecuted": false,
    "source_hash": "4f4499cc",
    "execution_start": 1636798285721,
    "execution_millis": 492,
    "deepnote_cell_type": "code",
    "deepnote_cell_height": 813,
    "deepnote_output_heights": [
     null,
     116,
     267
    ]
   },
   "source": "# Split data set to train, cross validation, test \nimport matplotlib.pyplot as pyplot\ndata_train,data_cval = train_test_split(data, train_size=0.7, test_size=0.30,random_state=100)\ndata_cval,data_test = train_test_split(data_cval, train_size=0.5, test_size=0.5, random_state=100)\n\nprint(data_train.shape)\nprint(data_cval.shape)\nprint(data_test.shape)\n\n# y = np.array(data.pop('Y house price of unit area'))\n# X = np.array(data)\n\npyplot.plot(X, y, 'ro', ms=10, mec='k', mew=1)",
   "execution_count": null,
   "outputs": [
    {
     "name": "stdout",
     "text": "(219, 6)\n(47, 6)\n(48, 6)\n",
     "output_type": "stream"
    },
    {
     "output_type": "execute_result",
     "execution_count": 57,
     "data": {
      "text/plain": "[<matplotlib.lines.Line2D at 0x7fbf048bef50>,\n <matplotlib.lines.Line2D at 0x7fbf048b8090>,\n <matplotlib.lines.Line2D at 0x7fbf048bef90>,\n <matplotlib.lines.Line2D at 0x7fbf048c30d0>,\n <matplotlib.lines.Line2D at 0x7fbf048c31d0>,\n <matplotlib.lines.Line2D at 0x7fbf048c3350>]"
     },
     "metadata": {}
    },
    {
     "data": {
      "text/plain": "<Figure size 432x288 with 1 Axes>",
      "image/png": "[encoded data removed]"
     },
     "metadata": {
      "image/png": {
       "width": 411,
       "height": 265
      }
     },
     "output_type": "display_data"
    }
   ]
  },
  {
   "cell_type": "code",
   "metadata": {
    "tags": [],
    "cell_id": "00035-bf6a6e73-b0c8-4eeb-84ed-f4b15e67085c",
    "deepnote_to_be_reexecuted": false,
    "source_hash": "e6928a8f",
    "execution_start": 1636797006660,
    "execution_millis": 155,
    "deepnote_cell_type": "code",
    "deepnote_cell_height": 479,
    "deepnote_output_heights": [
     382
    ]
   },
   "source": "data",
   "execution_count": null,
   "outputs": [
    {
     "output_type": "execute_result",
     "execution_count": 16,
     "data": {
      "application/vnd.deepnote.dataframe.v2+json": {
       "row_count": 314,
       "column_count": 6,
       "columns": [
        {
         "name": "X2 house age",
         "dtype": "float64",
         "stats": {
          "unique_count": 196,
          "nan_count": 0,
          "min": "0.0",
          "max": "43.8",
          "histogram": [
           {
            "bin_start": 0,
            "bin_end": 4.38,
            "count": 46
           },
           {
            "bin_start": 4.38,
            "bin_end": 8.76,
            "count": 38
           },
           {
            "bin_start": 8.76,
            "bin_end": 13.14,
            "count": 41
           },
           {
            "bin_start": 13.14,
            "bin_end": 17.52,
            "count": 63
           },
           {
            "bin_start": 17.52,
            "bin_end": 21.9,
            "count": 35
           },
           {
            "bin_start": 21.9,
            "bin_end": 26.28,
            "count": 5
           },
           {
            "bin_start": 26.28,
            "bin_end": 30.66,
            "count": 19
           },
           {
            "bin_start": 30.66,
            "bin_end": 35.04,
            "count": 38
           },
           {
            "bin_start": 35.04,
            "bin_end": 39.42,
            "count": 19
           },
           {
            "bin_start": 39.42,
            "bin_end": 43.8,
            "count": 10
           }
          ]
         }
        },
        {
         "name": "X3 distance to the nearest MRT station",
         "dtype": "float64",
         "stats": {
          "unique_count": 201,
          "nan_count": 0,
          "min": "23.38284",
          "max": "3085.17",
          "histogram": [
           {
            "bin_start": 23.38284,
            "bin_end": 329.561556,
            "count": 102
           },
           {
            "bin_start": 329.561556,
            "bin_end": 635.740272,
            "count": 104
           },
           {
            "bin_start": 635.740272,
            "bin_end": 941.918988,
            "count": 21
           },
           {
            "bin_start": 941.918988,
            "bin_end": 1248.097704,
            "count": 17
           },
           {
            "bin_start": 1248.097704,
            "bin_end": 1554.27642,
            "count": 21
           },
           {
            "bin_start": 1554.27642,
            "bin_end": 1860.455136,
            "count": 16
           },
           {
            "bin_start": 1860.455136,
            "bin_end": 2166.6338520000004,
            "count": 12
           },
           {
            "bin_start": 2166.6338520000004,
            "bin_end": 2472.8125680000003,
            "count": 17
           },
           {
            "bin_start": 2472.8125680000003,
            "bin_end": 2778.991284,
            "count": 3
           },
           {
            "bin_start": 2778.991284,
            "bin_end": 3085.17,
            "count": 1
           }
          ]
         }
        },
        {
         "name": "X4 number of convenience stores",
         "dtype": "int64",
         "stats": {
          "unique_count": 11,
          "nan_count": 0,
          "min": "0",
          "max": "10",
          "histogram": [
           {
            "bin_start": 0,
            "bin_end": 1,
            "count": 26
           },
           {
            "bin_start": 1,
            "bin_end": 2,
            "count": 32
           },
           {
            "bin_start": 2,
            "bin_end": 3,
            "count": 22
           },
           {
            "bin_start": 3,
            "bin_end": 4,
            "count": 37
           },
           {
            "bin_start": 4,
            "bin_end": 5,
            "count": 28
           },
           {
            "bin_start": 5,
            "bin_end": 6,
            "count": 60
           },
           {
            "bin_start": 6,
            "bin_end": 7,
            "count": 29
           },
           {
            "bin_start": 7,
            "bin_end": 8,
            "count": 25
           },
           {
            "bin_start": 8,
            "bin_end": 9,
            "count": 28
           },
           {
            "bin_start": 9,
            "bin_end": 10,
            "count": 27
           }
          ]
         }
        },
        {
         "name": "X5 latitude",
         "dtype": "float64",
         "stats": {
          "unique_count": 183,
          "nan_count": 0,
          "min": "24.94883",
          "max": "24.998",
          "histogram": [
           {
            "bin_start": 24.94883,
            "bin_end": 24.953747,
            "count": 18
           },
           {
            "bin_start": 24.953747,
            "bin_end": 24.958664000000002,
            "count": 18
           },
           {
            "bin_start": 24.958664000000002,
            "bin_end": 24.963581,
            "count": 33
           },
           {
            "bin_start": 24.963581,
            "bin_end": 24.968498,
            "count": 51
           },
           {
            "bin_start": 24.968498,
            "bin_end": 24.973415000000003,
            "count": 36
           },
           {
            "bin_start": 24.973415000000003,
            "bin_end": 24.978332,
            "count": 74
           },
           {
            "bin_start": 24.978332,
            "bin_end": 24.983249,
            "count": 58
           },
           {
            "bin_start": 24.983249,
            "bin_end": 24.988166,
            "count": 17
           },
           {
            "bin_start": 24.988166,
            "bin_end": 24.993083000000002,
            "count": 8
           },
           {
            "bin_start": 24.993083000000002,
            "bin_end": 24.998,
            "count": 1
           }
          ]
         }
        },
        {
         "name": "X6 longitude",
         "dtype": "float64",
         "stats": {
          "unique_count": 182,
          "nan_count": 0,
          "min": "121.50827",
          "max": "121.56174",
          "histogram": [
           {
            "bin_start": 121.50827,
            "bin_end": 121.513617,
            "count": 22
           },
           {
            "bin_start": 121.513617,
            "bin_end": 121.518964,
            "count": 24
           },
           {
            "bin_start": 121.518964,
            "bin_end": 121.524311,
            "count": 2
           },
           {
            "bin_start": 121.524311,
            "bin_end": 121.529658,
            "count": 7
           },
           {
            "bin_start": 121.529658,
            "bin_end": 121.535005,
            "count": 40
           },
           {
            "bin_start": 121.535005,
            "bin_end": 121.540352,
            "count": 67
           },
           {
            "bin_start": 121.540352,
            "bin_end": 121.545699,
            "count": 109
           },
           {
            "bin_start": 121.545699,
            "bin_end": 121.551046,
            "count": 34
           },
           {
            "bin_start": 121.551046,
            "bin_end": 121.556393,
            "count": 6
           },
           {
            "bin_start": 121.556393,
            "bin_end": 121.56174,
            "count": 3
           }
          ]
         }
        },
        {
         "name": "Y house price of unit area",
         "dtype": "float64",
         "stats": {
          "unique_count": 219,
          "nan_count": 0,
          "min": "7.6",
          "max": "73.6",
          "histogram": [
           {
            "bin_start": 7.6,
            "bin_end": 14.2,
            "count": 3
           },
           {
            "bin_start": 14.2,
            "bin_end": 20.799999999999997,
            "count": 5
           },
           {
            "bin_start": 20.799999999999997,
            "bin_end": 27.4,
            "count": 47
           },
           {
            "bin_start": 27.4,
            "bin_end": 34,
            "count": 41
           },
           {
            "bin_start": 34,
            "bin_end": 40.6,
            "count": 68
           },
           {
            "bin_start": 40.6,
            "bin_end": 47.199999999999996,
            "count": 70
           },
           {
            "bin_start": 47.199999999999996,
            "bin_end": 53.8,
            "count": 41
           },
           {
            "bin_start": 53.8,
            "bin_end": 60.4,
            "count": 24
           },
           {
            "bin_start": 60.4,
            "bin_end": 67,
            "count": 10
           },
           {
            "bin_start": 67,
            "bin_end": 73.6,
            "count": 5
           }
          ]
         }
        },
        {
         "name": "_deepnote_index_column",
         "dtype": "int64"
        }
       ],
       "rows_top": [
        {
         "X2 house age": 32,
         "X3 distance to the nearest MRT station": 84.87882,
         "X4 number of convenience stores": 10,
         "X5 latitude": 24.98298,
         "X6 longitude": 121.54024,
         "Y house price of unit area": 37.9,
         "_deepnote_index_column": 0
        },
        {
         "X2 house age": 19.5,
         "X3 distance to the nearest MRT station": 306.5947,
         "X4 number of convenience stores": 9,
         "X5 latitude": 24.98034,
         "X6 longitude": 121.53951,
         "Y house price of unit area": 42.2,
         "_deepnote_index_column": 1
        },
        {
         "X2 house age": 13.3,
         "X3 distance to the nearest MRT station": 561.9845,
         "X4 number of convenience stores": 5,
         "X5 latitude": 24.98746,
         "X6 longitude": 121.54391,
         "Y house price of unit area": 47.3,
         "_deepnote_index_column": 2
        },
        {
         "X2 house age": 13.3,
         "X3 distance to the nearest MRT station": 561.9845,
         "X4 number of convenience stores": 5,
         "X5 latitude": 24.98746,
         "X6 longitude": 121.54391,
         "Y house price of unit area": 54.8,
         "_deepnote_index_column": 3
        },
        {
         "X2 house age": 5,
         "X3 distance to the nearest MRT station": 390.5684,
         "X4 number of convenience stores": 5,
         "X5 latitude": 24.97937,
         "X6 longitude": 121.54245,
         "Y house price of unit area": 43.1,
         "_deepnote_index_column": 4
        },
        {
         "X2 house age": 7.1,
         "X3 distance to the nearest MRT station": 2175.03,
         "X4 number of convenience stores": 3,
         "X5 latitude": 24.96305,
         "X6 longitude": 121.51254,
         "Y house price of unit area": 32.1,
         "_deepnote_index_column": 5
        },
        {
         "X2 house age": 34.5,
         "X3 distance to the nearest MRT station": 623.4731,
         "X4 number of convenience stores": 7,
         "X5 latitude": 24.97933,
         "X6 longitude": 121.53642,
         "Y house price of unit area": 40.3,
         "_deepnote_index_column": 6
        },
        {
         "X2 house age": 20.3,
         "X3 distance to the nearest MRT station": 287.6025,
         "X4 number of convenience stores": 6,
         "X5 latitude": 24.98042,
         "X6 longitude": 121.54228,
         "Y house price of unit area": 46.7,
         "_deepnote_index_column": 7
        },
        {
         "X2 house age": 17.9,
         "X3 distance to the nearest MRT station": 1783.18,
         "X4 number of convenience stores": 3,
         "X5 latitude": 24.96731,
         "X6 longitude": 121.51486,
         "Y house price of unit area": 22.1,
         "_deepnote_index_column": 9
        },
        {
         "X2 house age": 34.8,
         "X3 distance to the nearest MRT station": 405.2134,
         "X4 number of convenience stores": 1,
         "X5 latitude": 24.97349,
         "X6 longitude": 121.53372,
         "Y house price of unit area": 41.4,
         "_deepnote_index_column": 10
        },
        {
         "X2 house age": 6.3,
         "X3 distance to the nearest MRT station": 90.45606,
         "X4 number of convenience stores": 9,
         "X5 latitude": 24.97433,
         "X6 longitude": 121.5431,
         "Y house price of unit area": 58.1,
         "_deepnote_index_column": 11
        },
        {
         "X2 house age": 13,
         "X3 distance to the nearest MRT station": 492.2313,
         "X4 number of convenience stores": 5,
         "X5 latitude": 24.96515,
         "X6 longitude": 121.53737,
         "Y house price of unit area": 39.3,
         "_deepnote_index_column": 12
        },
        {
         "X2 house age": 20.4,
         "X3 distance to the nearest MRT station": 2469.645,
         "X4 number of convenience stores": 4,
         "X5 latitude": 24.96108,
         "X6 longitude": 121.51046,
         "Y house price of unit area": 23.8,
         "_deepnote_index_column": 13
        },
        {
         "X2 house age": 13.2,
         "X3 distance to the nearest MRT station": 1164.838,
         "X4 number of convenience stores": 4,
         "X5 latitude": 24.99156,
         "X6 longitude": 121.53406,
         "Y house price of unit area": 34.3,
         "_deepnote_index_column": 14
        },
        {
         "X2 house age": 35.7,
         "X3 distance to the nearest MRT station": 579.2083,
         "X4 number of convenience stores": 2,
         "X5 latitude": 24.9824,
         "X6 longitude": 121.54619,
         "Y house price of unit area": 50.5,
         "_deepnote_index_column": 15
        },
        {
         "X2 house age": 0,
         "X3 distance to the nearest MRT station": 292.9978,
         "X4 number of convenience stores": 6,
         "X5 latitude": 24.97744,
         "X6 longitude": 121.54458,
         "Y house price of unit area": 70.1,
         "_deepnote_index_column": 16
        },
        {
         "X2 house age": 17.7,
         "X3 distance to the nearest MRT station": 350.8515,
         "X4 number of convenience stores": 1,
         "X5 latitude": 24.97544,
         "X6 longitude": 121.53119,
         "Y house price of unit area": 37.4,
         "_deepnote_index_column": 17
        },
        {
         "X2 house age": 16.9,
         "X3 distance to the nearest MRT station": 368.1363,
         "X4 number of convenience stores": 8,
         "X5 latitude": 24.9675,
         "X6 longitude": 121.54451,
         "Y house price of unit area": 42.3,
         "_deepnote_index_column": 18
        },
        {
         "X2 house age": 1.5,
         "X3 distance to the nearest MRT station": 23.38284,
         "X4 number of convenience stores": 7,
         "X5 latitude": 24.96772,
         "X6 longitude": 121.54102,
         "Y house price of unit area": 47.7,
         "_deepnote_index_column": 19
        },
        {
         "X2 house age": 4.5,
         "X3 distance to the nearest MRT station": 2275.877,
         "X4 number of convenience stores": 3,
         "X5 latitude": 24.96314,
         "X6 longitude": 121.51151,
         "Y house price of unit area": 29.3,
         "_deepnote_index_column": 20
        },
        {
         "X2 house age": 10.5,
         "X3 distance to the nearest MRT station": 279.1726,
         "X4 number of convenience stores": 7,
         "X5 latitude": 24.97528,
         "X6 longitude": 121.54541,
         "Y house price of unit area": 51.6,
         "_deepnote_index_column": 21
        },
        {
         "X2 house age": 14.7,
         "X3 distance to the nearest MRT station": 1360.139,
         "X4 number of convenience stores": 1,
         "X5 latitude": 24.95204,
         "X6 longitude": 121.54842,
         "Y house price of unit area": 24.6,
         "_deepnote_index_column": 22
        },
        {
         "X2 house age": 10.1,
         "X3 distance to the nearest MRT station": 279.1726,
         "X4 number of convenience stores": 7,
         "X5 latitude": 24.97528,
         "X6 longitude": 121.54541,
         "Y house price of unit area": 47.9,
         "_deepnote_index_column": 23
        },
        {
         "X2 house age": 39.6,
         "X3 distance to the nearest MRT station": 480.6977,
         "X4 number of convenience stores": 4,
         "X5 latitude": 24.97353,
         "X6 longitude": 121.53885,
         "Y house price of unit area": 38.8,
         "_deepnote_index_column": 24
        },
        {
         "X2 house age": 29.3,
         "X3 distance to the nearest MRT station": 1487.868,
         "X4 number of convenience stores": 2,
         "X5 latitude": 24.97542,
         "X6 longitude": 121.51726,
         "Y house price of unit area": 27,
         "_deepnote_index_column": 25
        },
        {
         "X2 house age": 3.1,
         "X3 distance to the nearest MRT station": 383.8624,
         "X4 number of convenience stores": 5,
         "X5 latitude": 24.98085,
         "X6 longitude": 121.54391,
         "Y house price of unit area": 56.2,
         "_deepnote_index_column": 26
        },
        {
         "X2 house age": 10.4,
         "X3 distance to the nearest MRT station": 276.449,
         "X4 number of convenience stores": 5,
         "X5 latitude": 24.95593,
         "X6 longitude": 121.53913,
         "Y house price of unit area": 33.6,
         "_deepnote_index_column": 27
        },
        {
         "X2 house age": 19.2,
         "X3 distance to the nearest MRT station": 557.478,
         "X4 number of convenience stores": 4,
         "X5 latitude": 24.97419,
         "X6 longitude": 121.53797,
         "Y house price of unit area": 47,
         "_deepnote_index_column": 28
        },
        {
         "X2 house age": 7.1,
         "X3 distance to the nearest MRT station": 451.2438,
         "X4 number of convenience stores": 5,
         "X5 latitude": 24.97563,
         "X6 longitude": 121.54694,
         "Y house price of unit area": 57.1,
         "_deepnote_index_column": 29
        },
        {
         "X2 house age": 29.6,
         "X3 distance to the nearest MRT station": 769.4034,
         "X4 number of convenience stores": 7,
         "X5 latitude": 24.98281,
         "X6 longitude": 121.53408,
         "Y house price of unit area": 25,
         "_deepnote_index_column": 31
        },
        {
         "X2 house age": 37.9,
         "X3 distance to the nearest MRT station": 488.5727,
         "X4 number of convenience stores": 1,
         "X5 latitude": 24.97349,
         "X6 longitude": 121.53451,
         "Y house price of unit area": 34.2,
         "_deepnote_index_column": 32
        },
        {
         "X2 house age": 16.5,
         "X3 distance to the nearest MRT station": 323.655,
         "X4 number of convenience stores": 6,
         "X5 latitude": 24.97841,
         "X6 longitude": 121.54281,
         "Y house price of unit area": 49.3,
         "_deepnote_index_column": 33
        },
        {
         "X2 house age": 15.4,
         "X3 distance to the nearest MRT station": 205.367,
         "X4 number of convenience stores": 7,
         "X5 latitude": 24.98419,
         "X6 longitude": 121.54243,
         "Y house price of unit area": 55.1,
         "_deepnote_index_column": 34
        },
        {
         "X2 house age": 14.7,
         "X3 distance to the nearest MRT station": 1935.009,
         "X4 number of convenience stores": 2,
         "X5 latitude": 24.96386,
         "X6 longitude": 121.51458,
         "Y house price of unit area": 22.9,
         "_deepnote_index_column": 36
        },
        {
         "X2 house age": 12,
         "X3 distance to the nearest MRT station": 1360.139,
         "X4 number of convenience stores": 1,
         "X5 latitude": 24.95204,
         "X6 longitude": 121.54842,
         "Y house price of unit area": 25.3,
         "_deepnote_index_column": 37
        },
        {
         "X2 house age": 3.1,
         "X3 distance to the nearest MRT station": 577.9615,
         "X4 number of convenience stores": 6,
         "X5 latitude": 24.97201,
         "X6 longitude": 121.54722,
         "Y house price of unit area": 47.7,
         "_deepnote_index_column": 38
        },
        {
         "X2 house age": 16.2,
         "X3 distance to the nearest MRT station": 289.3248,
         "X4 number of convenience stores": 5,
         "X5 latitude": 24.98203,
         "X6 longitude": 121.54348,
         "Y house price of unit area": 46.2,
         "_deepnote_index_column": 39
        },
        {
         "X2 house age": 36.1,
         "X3 distance to the nearest MRT station": 519.4617,
         "X4 number of convenience stores": 5,
         "X5 latitude": 24.96305,
         "X6 longitude": 121.53758,
         "Y house price of unit area": 34.7,
         "_deepnote_index_column": 42
        },
        {
         "X2 house age": 34.4,
         "X3 distance to the nearest MRT station": 512.7871,
         "X4 number of convenience stores": 6,
         "X5 latitude": 24.98748,
         "X6 longitude": 121.54301,
         "Y house price of unit area": 34.1,
         "_deepnote_index_column": 43
        },
        {
         "X2 house age": 2.7,
         "X3 distance to the nearest MRT station": 533.4762,
         "X4 number of convenience stores": 4,
         "X5 latitude": 24.97445,
         "X6 longitude": 121.54765,
         "Y house price of unit area": 53.9,
         "_deepnote_index_column": 44
        },
        {
         "X2 house age": 36.6,
         "X3 distance to the nearest MRT station": 488.8193,
         "X4 number of convenience stores": 8,
         "X5 latitude": 24.97015,
         "X6 longitude": 121.54494,
         "Y house price of unit area": 38.3,
         "_deepnote_index_column": 45
        },
        {
         "X2 house age": 21.7,
         "X3 distance to the nearest MRT station": 463.9623,
         "X4 number of convenience stores": 9,
         "X5 latitude": 24.9703,
         "X6 longitude": 121.54458,
         "Y house price of unit area": 42,
         "_deepnote_index_column": 46
        },
        {
         "X2 house age": 35.9,
         "X3 distance to the nearest MRT station": 640.7391,
         "X4 number of convenience stores": 3,
         "X5 latitude": 24.97563,
         "X6 longitude": 121.53715,
         "Y house price of unit area": 61.5,
         "_deepnote_index_column": 47
        },
        {
         "X2 house age": 21.7,
         "X3 distance to the nearest MRT station": 512.5487,
         "X4 number of convenience stores": 4,
         "X5 latitude": 24.974,
         "X6 longitude": 121.53842,
         "Y house price of unit area": 44.2,
         "_deepnote_index_column": 50
        },
        {
         "X2 house age": 31.3,
         "X3 distance to the nearest MRT station": 1758.406,
         "X4 number of convenience stores": 1,
         "X5 latitude": 24.95402,
         "X6 longitude": 121.55282,
         "Y house price of unit area": 20.7,
         "_deepnote_index_column": 51
        },
        {
         "X2 house age": 32.1,
         "X3 distance to the nearest MRT station": 1438.579,
         "X4 number of convenience stores": 3,
         "X5 latitude": 24.97419,
         "X6 longitude": 121.5175,
         "Y house price of unit area": 27,
         "_deepnote_index_column": 52
        },
        {
         "X2 house age": 13.3,
         "X3 distance to the nearest MRT station": 492.2313,
         "X4 number of convenience stores": 5,
         "X5 latitude": 24.96515,
         "X6 longitude": 121.53737,
         "Y house price of unit area": 38.9,
         "_deepnote_index_column": 53
        },
        {
         "X2 house age": 16.1,
         "X3 distance to the nearest MRT station": 289.3248,
         "X4 number of convenience stores": 5,
         "X5 latitude": 24.98203,
         "X6 longitude": 121.54348,
         "Y house price of unit area": 51.7,
         "_deepnote_index_column": 54
        },
        {
         "X2 house age": 31.7,
         "X3 distance to the nearest MRT station": 1160.632,
         "X4 number of convenience stores": 0,
         "X5 latitude": 24.94968,
         "X6 longitude": 121.53009,
         "Y house price of unit area": 13.7,
         "_deepnote_index_column": 55
        },
        {
         "X2 house age": 33.6,
         "X3 distance to the nearest MRT station": 371.2495,
         "X4 number of convenience stores": 8,
         "X5 latitude": 24.97254,
         "X6 longitude": 121.54059,
         "Y house price of unit area": 41.9,
         "_deepnote_index_column": 56
        },
        {
         "X2 house age": 3.5,
         "X3 distance to the nearest MRT station": 56.47425,
         "X4 number of convenience stores": 7,
         "X5 latitude": 24.95744,
         "X6 longitude": 121.53711,
         "Y house price of unit area": 53.5,
         "_deepnote_index_column": 57
        },
        {
         "X2 house age": 13.3,
         "X3 distance to the nearest MRT station": 336.0532,
         "X4 number of convenience stores": 5,
         "X5 latitude": 24.95776,
         "X6 longitude": 121.53438,
         "Y house price of unit area": 42.4,
         "_deepnote_index_column": 59
        },
        {
         "X2 house age": 11,
         "X3 distance to the nearest MRT station": 1931.207,
         "X4 number of convenience stores": 2,
         "X5 latitude": 24.96365,
         "X6 longitude": 121.51471,
         "Y house price of unit area": 21.3,
         "_deepnote_index_column": 60
        },
        {
         "X2 house age": 5.3,
         "X3 distance to the nearest MRT station": 259.6607,
         "X4 number of convenience stores": 6,
         "X5 latitude": 24.97585,
         "X6 longitude": 121.54516,
         "Y house price of unit area": 63.2,
         "_deepnote_index_column": 61
        },
        {
         "X2 house age": 17.2,
         "X3 distance to the nearest MRT station": 2175.877,
         "X4 number of convenience stores": 3,
         "X5 latitude": 24.96303,
         "X6 longitude": 121.51254,
         "Y house price of unit area": 27.7,
         "_deepnote_index_column": 62
        },
        {
         "X2 house age": 2.6,
         "X3 distance to the nearest MRT station": 533.4762,
         "X4 number of convenience stores": 4,
         "X5 latitude": 24.97445,
         "X6 longitude": 121.54765,
         "Y house price of unit area": 55,
         "_deepnote_index_column": 63
        },
        {
         "X2 house age": 17.5,
         "X3 distance to the nearest MRT station": 995.7554,
         "X4 number of convenience stores": 0,
         "X5 latitude": 24.96305,
         "X6 longitude": 121.54915,
         "Y house price of unit area": 25.3,
         "_deepnote_index_column": 64
        },
        {
         "X2 house age": 40.1,
         "X3 distance to the nearest MRT station": 123.7429,
         "X4 number of convenience stores": 8,
         "X5 latitude": 24.97635,
         "X6 longitude": 121.54329,
         "Y house price of unit area": 44.3,
         "_deepnote_index_column": 65
        },
        {
         "X2 house age": 1,
         "X3 distance to the nearest MRT station": 193.5845,
         "X4 number of convenience stores": 6,
         "X5 latitude": 24.96571,
         "X6 longitude": 121.54089,
         "Y house price of unit area": 50.7,
         "_deepnote_index_column": 66
        },
        {
         "X2 house age": 8.5,
         "X3 distance to the nearest MRT station": 104.8101,
         "X4 number of convenience stores": 5,
         "X5 latitude": 24.96674,
         "X6 longitude": 121.54067,
         "Y house price of unit area": 56.8,
         "_deepnote_index_column": 67
        },
        {
         "X2 house age": 30.4,
         "X3 distance to the nearest MRT station": 464.223,
         "X4 number of convenience stores": 6,
         "X5 latitude": 24.97964,
         "X6 longitude": 121.53805,
         "Y house price of unit area": 36.2,
         "_deepnote_index_column": 68
        },
        {
         "X2 house age": 12.5,
         "X3 distance to the nearest MRT station": 561.9845,
         "X4 number of convenience stores": 5,
         "X5 latitude": 24.98746,
         "X6 longitude": 121.54391,
         "Y house price of unit area": 42,
         "_deepnote_index_column": 69
        },
        {
         "X2 house age": 6.6,
         "X3 distance to the nearest MRT station": 90.45606,
         "X4 number of convenience stores": 9,
         "X5 latitude": 24.97433,
         "X6 longitude": 121.5431,
         "Y house price of unit area": 59,
         "_deepnote_index_column": 70
        },
        {
         "X2 house age": 35.5,
         "X3 distance to the nearest MRT station": 640.7391,
         "X4 number of convenience stores": 3,
         "X5 latitude": 24.97563,
         "X6 longitude": 121.53715,
         "Y house price of unit area": 40.8,
         "_deepnote_index_column": 71
        },
        {
         "X2 house age": 32.5,
         "X3 distance to the nearest MRT station": 424.5442,
         "X4 number of convenience stores": 8,
         "X5 latitude": 24.97587,
         "X6 longitude": 121.53913,
         "Y house price of unit area": 36.3,
         "_deepnote_index_column": 72
        },
        {
         "X2 house age": 6.8,
         "X3 distance to the nearest MRT station": 379.5575,
         "X4 number of convenience stores": 10,
         "X5 latitude": 24.98343,
         "X6 longitude": 121.53762,
         "Y house price of unit area": 54.4,
         "_deepnote_index_column": 74
        },
        {
         "X2 house age": 12.3,
         "X3 distance to the nearest MRT station": 1360.139,
         "X4 number of convenience stores": 1,
         "X5 latitude": 24.95204,
         "X6 longitude": 121.54842,
         "Y house price of unit area": 29.5,
         "_deepnote_index_column": 75
        },
        {
         "X2 house age": 35.9,
         "X3 distance to the nearest MRT station": 616.4004,
         "X4 number of convenience stores": 3,
         "X5 latitude": 24.97723,
         "X6 longitude": 121.53767,
         "Y house price of unit area": 36.8,
         "_deepnote_index_column": 76
        },
        {
         "X2 house age": 20.5,
         "X3 distance to the nearest MRT station": 2185.128,
         "X4 number of convenience stores": 3,
         "X5 latitude": 24.96322,
         "X6 longitude": 121.51237,
         "Y house price of unit area": 25.6,
         "_deepnote_index_column": 77
        },
        {
         "X2 house age": 38.2,
         "X3 distance to the nearest MRT station": 552.4371,
         "X4 number of convenience stores": 2,
         "X5 latitude": 24.97598,
         "X6 longitude": 121.53381,
         "Y house price of unit area": 29.8,
         "_deepnote_index_column": 78
        },
        {
         "X2 house age": 18,
         "X3 distance to the nearest MRT station": 1414.837,
         "X4 number of convenience stores": 1,
         "X5 latitude": 24.95182,
         "X6 longitude": 121.54887,
         "Y house price of unit area": 26.5,
         "_deepnote_index_column": 79
        },
        {
         "X2 house age": 11.8,
         "X3 distance to the nearest MRT station": 533.4762,
         "X4 number of convenience stores": 4,
         "X5 latitude": 24.97445,
         "X6 longitude": 121.54765,
         "Y house price of unit area": 40.3,
         "_deepnote_index_column": 80
        },
        {
         "X2 house age": 30.8,
         "X3 distance to the nearest MRT station": 377.7956,
         "X4 number of convenience stores": 6,
         "X5 latitude": 24.96427,
         "X6 longitude": 121.53964,
         "Y house price of unit area": 36.8,
         "_deepnote_index_column": 81
        },
        {
         "X2 house age": 13.2,
         "X3 distance to the nearest MRT station": 150.9347,
         "X4 number of convenience stores": 7,
         "X5 latitude": 24.96725,
         "X6 longitude": 121.54252,
         "Y house price of unit area": 48.1,
         "_deepnote_index_column": 82
        },
        {
         "X2 house age": 25.3,
         "X3 distance to the nearest MRT station": 2707.392,
         "X4 number of convenience stores": 3,
         "X5 latitude": 24.96056,
         "X6 longitude": 121.50831,
         "Y house price of unit area": 17.7,
         "_deepnote_index_column": 83
        },
        {
         "X2 house age": 15.1,
         "X3 distance to the nearest MRT station": 383.2805,
         "X4 number of convenience stores": 7,
         "X5 latitude": 24.96735,
         "X6 longitude": 121.54464,
         "Y house price of unit area": 43.7,
         "_deepnote_index_column": 84
        },
        {
         "X2 house age": 0,
         "X3 distance to the nearest MRT station": 338.9679,
         "X4 number of convenience stores": 9,
         "X5 latitude": 24.96853,
         "X6 longitude": 121.54413,
         "Y house price of unit area": 50.8,
         "_deepnote_index_column": 85
        },
        {
         "X2 house age": 1.8,
         "X3 distance to the nearest MRT station": 1455.798,
         "X4 number of convenience stores": 1,
         "X5 latitude": 24.9512,
         "X6 longitude": 121.549,
         "Y house price of unit area": 27,
         "_deepnote_index_column": 86
        },
        {
         "X2 house age": 8.9,
         "X3 distance to the nearest MRT station": 1406.43,
         "X4 number of convenience stores": 0,
         "X5 latitude": 24.98573,
         "X6 longitude": 121.52758,
         "Y house price of unit area": 48,
         "_deepnote_index_column": 88
        },
        {
         "X2 house age": 0,
         "X3 distance to the nearest MRT station": 274.0144,
         "X4 number of convenience stores": 1,
         "X5 latitude": 24.9748,
         "X6 longitude": 121.53059,
         "Y house price of unit area": 45.4,
         "_deepnote_index_column": 90
        },
        {
         "X2 house age": 9.1,
         "X3 distance to the nearest MRT station": 1402.016,
         "X4 number of convenience stores": 0,
         "X5 latitude": 24.98569,
         "X6 longitude": 121.5276,
         "Y house price of unit area": 43.2,
         "_deepnote_index_column": 91
        },
        {
         "X2 house age": 20.6,
         "X3 distance to the nearest MRT station": 2469.645,
         "X4 number of convenience stores": 4,
         "X5 latitude": 24.96108,
         "X6 longitude": 121.51046,
         "Y house price of unit area": 21.8,
         "_deepnote_index_column": 92
        },
        {
         "X2 house age": 31.9,
         "X3 distance to the nearest MRT station": 1146.329,
         "X4 number of convenience stores": 0,
         "X5 latitude": 24.9492,
         "X6 longitude": 121.53076,
         "Y house price of unit area": 16.1,
         "_deepnote_index_column": 93
        }
       ],
       "rows_bottom": [
        {
         "X2 house age": 12.4,
         "X3 distance to the nearest MRT station": 1712.632,
         "X4 number of convenience stores": 2,
         "X5 latitude": 24.96412,
         "X6 longitude": 121.5167,
         "Y house price of unit area": 31.3,
         "_deepnote_index_column": 324
        },
        {
         "X2 house age": 36.6,
         "X3 distance to the nearest MRT station": 488.8193,
         "X4 number of convenience stores": 8,
         "X5 latitude": 24.97015,
         "X6 longitude": 121.54494,
         "Y house price of unit area": 38.1,
         "_deepnote_index_column": 325
        },
        {
         "X2 house age": 4.1,
         "X3 distance to the nearest MRT station": 56.47425,
         "X4 number of convenience stores": 7,
         "X5 latitude": 24.95744,
         "X6 longitude": 121.53711,
         "Y house price of unit area": 62.1,
         "_deepnote_index_column": 326
        },
        {
         "X2 house age": 3.5,
         "X3 distance to the nearest MRT station": 757.3377,
         "X4 number of convenience stores": 3,
         "X5 latitude": 24.97538,
         "X6 longitude": 121.54971,
         "Y house price of unit area": 36.7,
         "_deepnote_index_column": 327
        },
        {
         "X2 house age": 15.9,
         "X3 distance to the nearest MRT station": 1497.713,
         "X4 number of convenience stores": 3,
         "X5 latitude": 24.97003,
         "X6 longitude": 121.51696,
         "Y house price of unit area": 23.6,
         "_deepnote_index_column": 328
        },
        {
         "X2 house age": 32,
         "X3 distance to the nearest MRT station": 1156.777,
         "X4 number of convenience stores": 0,
         "X5 latitude": 24.94935,
         "X6 longitude": 121.53046,
         "Y house price of unit area": 12.8,
         "_deepnote_index_column": 330
        },
        {
         "X2 house age": 39.8,
         "X3 distance to the nearest MRT station": 617.7134,
         "X4 number of convenience stores": 2,
         "X5 latitude": 24.97577,
         "X6 longitude": 121.53475,
         "Y house price of unit area": 39.6,
         "_deepnote_index_column": 332
        },
        {
         "X2 house age": 7.8,
         "X3 distance to the nearest MRT station": 104.8101,
         "X4 number of convenience stores": 5,
         "X5 latitude": 24.96674,
         "X6 longitude": 121.54067,
         "Y house price of unit area": 38.4,
         "_deepnote_index_column": 333
        },
        {
         "X2 house age": 30,
         "X3 distance to the nearest MRT station": 1013.341,
         "X4 number of convenience stores": 5,
         "X5 latitude": 24.99006,
         "X6 longitude": 121.5346,
         "Y house price of unit area": 22.8,
         "_deepnote_index_column": 334
        },
        {
         "X2 house age": 27.3,
         "X3 distance to the nearest MRT station": 337.6016,
         "X4 number of convenience stores": 6,
         "X5 latitude": 24.96431,
         "X6 longitude": 121.54063,
         "Y house price of unit area": 36.5,
         "_deepnote_index_column": 335
        },
        {
         "X2 house age": 5.1,
         "X3 distance to the nearest MRT station": 1867.233,
         "X4 number of convenience stores": 2,
         "X5 latitude": 24.98407,
         "X6 longitude": 121.51748,
         "Y house price of unit area": 35.6,
         "_deepnote_index_column": 336
        },
        {
         "X2 house age": 31.3,
         "X3 distance to the nearest MRT station": 600.8604,
         "X4 number of convenience stores": 5,
         "X5 latitude": 24.96871,
         "X6 longitude": 121.54651,
         "Y house price of unit area": 30.9,
         "_deepnote_index_column": 337
        },
        {
         "X2 house age": 31.5,
         "X3 distance to the nearest MRT station": 258.186,
         "X4 number of convenience stores": 9,
         "X5 latitude": 24.96867,
         "X6 longitude": 121.54331,
         "Y house price of unit area": 36.3,
         "_deepnote_index_column": 338
        },
        {
         "X2 house age": 1.7,
         "X3 distance to the nearest MRT station": 329.9747,
         "X4 number of convenience stores": 5,
         "X5 latitude": 24.98254,
         "X6 longitude": 121.54395,
         "Y house price of unit area": 50.4,
         "_deepnote_index_column": 339
        },
        {
         "X2 house age": 33.6,
         "X3 distance to the nearest MRT station": 270.8895,
         "X4 number of convenience stores": 0,
         "X5 latitude": 24.97281,
         "X6 longitude": 121.53265,
         "Y house price of unit area": 42.9,
         "_deepnote_index_column": 340
        },
        {
         "X2 house age": 13,
         "X3 distance to the nearest MRT station": 750.0704,
         "X4 number of convenience stores": 2,
         "X5 latitude": 24.97371,
         "X6 longitude": 121.54951,
         "Y house price of unit area": 37,
         "_deepnote_index_column": 341
        },
        {
         "X2 house age": 5.7,
         "X3 distance to the nearest MRT station": 90.45606,
         "X4 number of convenience stores": 9,
         "X5 latitude": 24.97433,
         "X6 longitude": 121.5431,
         "Y house price of unit area": 53.5,
         "_deepnote_index_column": 342
        },
        {
         "X2 house age": 33.5,
         "X3 distance to the nearest MRT station": 563.2854,
         "X4 number of convenience stores": 8,
         "X5 latitude": 24.98223,
         "X6 longitude": 121.53597,
         "Y house price of unit area": 46.6,
         "_deepnote_index_column": 343
        },
        {
         "X2 house age": 34.6,
         "X3 distance to the nearest MRT station": 3085.17,
         "X4 number of convenience stores": 0,
         "X5 latitude": 24.998,
         "X6 longitude": 121.5155,
         "Y house price of unit area": 41.2,
         "_deepnote_index_column": 344
        },
        {
         "X2 house age": 0,
         "X3 distance to the nearest MRT station": 185.4296,
         "X4 number of convenience stores": 0,
         "X5 latitude": 24.9711,
         "X6 longitude": 121.5317,
         "Y house price of unit area": 37.9,
         "_deepnote_index_column": 345
        },
        {
         "X2 house age": 13.2,
         "X3 distance to the nearest MRT station": 1712.632,
         "X4 number of convenience stores": 2,
         "X5 latitude": 24.96412,
         "X6 longitude": 121.5167,
         "Y house price of unit area": 30.8,
         "_deepnote_index_column": 346
        },
        {
         "X2 house age": 4.6,
         "X3 distance to the nearest MRT station": 259.6607,
         "X4 number of convenience stores": 6,
         "X5 latitude": 24.97585,
         "X6 longitude": 121.54516,
         "Y house price of unit area": 53.7,
         "_deepnote_index_column": 348
        },
        {
         "X2 house age": 7.8,
         "X3 distance to the nearest MRT station": 104.8101,
         "X4 number of convenience stores": 5,
         "X5 latitude": 24.96674,
         "X6 longitude": 121.54067,
         "Y house price of unit area": 47,
         "_deepnote_index_column": 349
        },
        {
         "X2 house age": 13.2,
         "X3 distance to the nearest MRT station": 492.2313,
         "X4 number of convenience stores": 5,
         "X5 latitude": 24.96515,
         "X6 longitude": 121.53737,
         "Y house price of unit area": 42.3,
         "_deepnote_index_column": 350
        },
        {
         "X2 house age": 4,
         "X3 distance to the nearest MRT station": 2180.245,
         "X4 number of convenience stores": 3,
         "X5 latitude": 24.96324,
         "X6 longitude": 121.51241,
         "Y house price of unit area": 28.6,
         "_deepnote_index_column": 351
        },
        {
         "X2 house age": 18.4,
         "X3 distance to the nearest MRT station": 2674.961,
         "X4 number of convenience stores": 3,
         "X5 latitude": 24.96143,
         "X6 longitude": 121.50827,
         "Y house price of unit area": 25.7,
         "_deepnote_index_column": 352
        },
        {
         "X2 house age": 4.1,
         "X3 distance to the nearest MRT station": 2147.376,
         "X4 number of convenience stores": 3,
         "X5 latitude": 24.96299,
         "X6 longitude": 121.51284,
         "Y house price of unit area": 31.3,
         "_deepnote_index_column": 353
        },
        {
         "X2 house age": 12.2,
         "X3 distance to the nearest MRT station": 1360.139,
         "X4 number of convenience stores": 1,
         "X5 latitude": 24.95204,
         "X6 longitude": 121.54842,
         "Y house price of unit area": 30.1,
         "_deepnote_index_column": 354
        },
        {
         "X2 house age": 3.8,
         "X3 distance to the nearest MRT station": 383.8624,
         "X4 number of convenience stores": 5,
         "X5 latitude": 24.98085,
         "X6 longitude": 121.54391,
         "Y house price of unit area": 60.7,
         "_deepnote_index_column": 355
        },
        {
         "X2 house age": 10.3,
         "X3 distance to the nearest MRT station": 211.4473,
         "X4 number of convenience stores": 1,
         "X5 latitude": 24.97417,
         "X6 longitude": 121.52999,
         "Y house price of unit area": 45.3,
         "_deepnote_index_column": 356
        },
        {
         "X2 house age": 0,
         "X3 distance to the nearest MRT station": 338.9679,
         "X4 number of convenience stores": 9,
         "X5 latitude": 24.96853,
         "X6 longitude": 121.54413,
         "Y house price of unit area": 44.9,
         "_deepnote_index_column": 357
        },
        {
         "X2 house age": 1.1,
         "X3 distance to the nearest MRT station": 193.5845,
         "X4 number of convenience stores": 6,
         "X5 latitude": 24.96571,
         "X6 longitude": 121.54089,
         "Y house price of unit area": 45.1,
         "_deepnote_index_column": 358
        },
        {
         "X2 house age": 5.6,
         "X3 distance to the nearest MRT station": 2408.993,
         "X4 number of convenience stores": 0,
         "X5 latitude": 24.95505,
         "X6 longitude": 121.55964,
         "Y house price of unit area": 24.7,
         "_deepnote_index_column": 359
        },
        {
         "X2 house age": 32.9,
         "X3 distance to the nearest MRT station": 87.30222,
         "X4 number of convenience stores": 10,
         "X5 latitude": 24.983,
         "X6 longitude": 121.54022,
         "Y house price of unit area": 47.1,
         "_deepnote_index_column": 360
        },
        {
         "X2 house age": 41.4,
         "X3 distance to the nearest MRT station": 281.205,
         "X4 number of convenience stores": 8,
         "X5 latitude": 24.97345,
         "X6 longitude": 121.54093,
         "Y house price of unit area": 63.3,
         "_deepnote_index_column": 361
        },
        {
         "X2 house age": 17.1,
         "X3 distance to the nearest MRT station": 967.4,
         "X4 number of convenience stores": 4,
         "X5 latitude": 24.98872,
         "X6 longitude": 121.53408,
         "Y house price of unit area": 40,
         "_deepnote_index_column": 362
        },
        {
         "X2 house age": 32.3,
         "X3 distance to the nearest MRT station": 109.9455,
         "X4 number of convenience stores": 10,
         "X5 latitude": 24.98182,
         "X6 longitude": 121.54086,
         "Y house price of unit area": 48,
         "_deepnote_index_column": 363
        },
        {
         "X2 house age": 35.3,
         "X3 distance to the nearest MRT station": 614.1394,
         "X4 number of convenience stores": 7,
         "X5 latitude": 24.97913,
         "X6 longitude": 121.53666,
         "Y house price of unit area": 33.1,
         "_deepnote_index_column": 364
        },
        {
         "X2 house age": 17.3,
         "X3 distance to the nearest MRT station": 2261.432,
         "X4 number of convenience stores": 4,
         "X5 latitude": 24.96182,
         "X6 longitude": 121.51222,
         "Y house price of unit area": 29.5,
         "_deepnote_index_column": 365
        },
        {
         "X2 house age": 14.2,
         "X3 distance to the nearest MRT station": 1801.544,
         "X4 number of convenience stores": 1,
         "X5 latitude": 24.95153,
         "X6 longitude": 121.55254,
         "Y house price of unit area": 24.8,
         "_deepnote_index_column": 366
        },
        {
         "X2 house age": 15,
         "X3 distance to the nearest MRT station": 1828.319,
         "X4 number of convenience stores": 2,
         "X5 latitude": 24.96464,
         "X6 longitude": 121.51531,
         "Y house price of unit area": 20.9,
         "_deepnote_index_column": 367
        },
        {
         "X2 house age": 18.2,
         "X3 distance to the nearest MRT station": 350.8515,
         "X4 number of convenience stores": 1,
         "X5 latitude": 24.97544,
         "X6 longitude": 121.53119,
         "Y house price of unit area": 43.1,
         "_deepnote_index_column": 368
        },
        {
         "X2 house age": 20.2,
         "X3 distance to the nearest MRT station": 2185.128,
         "X4 number of convenience stores": 3,
         "X5 latitude": 24.96322,
         "X6 longitude": 121.51237,
         "Y house price of unit area": 22.8,
         "_deepnote_index_column": 369
        },
        {
         "X2 house age": 15.9,
         "X3 distance to the nearest MRT station": 289.3248,
         "X4 number of convenience stores": 5,
         "X5 latitude": 24.98203,
         "X6 longitude": 121.54348,
         "Y house price of unit area": 42.1,
         "_deepnote_index_column": 370
        },
        {
         "X2 house age": 4.1,
         "X3 distance to the nearest MRT station": 312.8963,
         "X4 number of convenience stores": 5,
         "X5 latitude": 24.95591,
         "X6 longitude": 121.53956,
         "Y house price of unit area": 51.7,
         "_deepnote_index_column": 371
        },
        {
         "X2 house age": 33.9,
         "X3 distance to the nearest MRT station": 157.6052,
         "X4 number of convenience stores": 7,
         "X5 latitude": 24.96628,
         "X6 longitude": 121.54196,
         "Y house price of unit area": 41.5,
         "_deepnote_index_column": 372
        },
        {
         "X2 house age": 0,
         "X3 distance to the nearest MRT station": 274.0144,
         "X4 number of convenience stores": 1,
         "X5 latitude": 24.9748,
         "X6 longitude": 121.53059,
         "Y house price of unit area": 52.2,
         "_deepnote_index_column": 373
        },
        {
         "X2 house age": 5.4,
         "X3 distance to the nearest MRT station": 390.5684,
         "X4 number of convenience stores": 5,
         "X5 latitude": 24.97937,
         "X6 longitude": 121.54245,
         "Y house price of unit area": 49.5,
         "_deepnote_index_column": 374
        },
        {
         "X2 house age": 21.7,
         "X3 distance to the nearest MRT station": 1157.988,
         "X4 number of convenience stores": 0,
         "X5 latitude": 24.96165,
         "X6 longitude": 121.55011,
         "Y house price of unit area": 23.8,
         "_deepnote_index_column": 375
        },
        {
         "X2 house age": 14.7,
         "X3 distance to the nearest MRT station": 1717.193,
         "X4 number of convenience stores": 2,
         "X5 latitude": 24.96447,
         "X6 longitude": 121.51649,
         "Y house price of unit area": 30.5,
         "_deepnote_index_column": 376
        },
        {
         "X2 house age": 3.9,
         "X3 distance to the nearest MRT station": 49.66105,
         "X4 number of convenience stores": 8,
         "X5 latitude": 24.95836,
         "X6 longitude": 121.53756,
         "Y house price of unit area": 56.8,
         "_deepnote_index_column": 377
        },
        {
         "X2 house age": 37.3,
         "X3 distance to the nearest MRT station": 587.8877,
         "X4 number of convenience stores": 8,
         "X5 latitude": 24.97077,
         "X6 longitude": 121.54634,
         "Y house price of unit area": 37.4,
         "_deepnote_index_column": 378
        },
        {
         "X2 house age": 0,
         "X3 distance to the nearest MRT station": 292.9978,
         "X4 number of convenience stores": 6,
         "X5 latitude": 24.97744,
         "X6 longitude": 121.54458,
         "Y house price of unit area": 69.7,
         "_deepnote_index_column": 379
        },
        {
         "X2 house age": 14.1,
         "X3 distance to the nearest MRT station": 289.3248,
         "X4 number of convenience stores": 5,
         "X5 latitude": 24.98203,
         "X6 longitude": 121.54348,
         "Y house price of unit area": 53.3,
         "_deepnote_index_column": 380
        },
        {
         "X2 house age": 8,
         "X3 distance to the nearest MRT station": 132.5469,
         "X4 number of convenience stores": 9,
         "X5 latitude": 24.98298,
         "X6 longitude": 121.53981,
         "Y house price of unit area": 47.3,
         "_deepnote_index_column": 381
        },
        {
         "X2 house age": 29.1,
         "X3 distance to the nearest MRT station": 506.1144,
         "X4 number of convenience stores": 4,
         "X5 latitude": 24.97845,
         "X6 longitude": 121.53889,
         "Y house price of unit area": 40.3,
         "_deepnote_index_column": 383
        },
        {
         "X2 house age": 18.3,
         "X3 distance to the nearest MRT station": 82.88643,
         "X4 number of convenience stores": 10,
         "X5 latitude": 24.983,
         "X6 longitude": 121.54026,
         "Y house price of unit area": 46.6,
         "_deepnote_index_column": 385
        },
        {
         "X2 house age": 0,
         "X3 distance to the nearest MRT station": 185.4296,
         "X4 number of convenience stores": 0,
         "X5 latitude": 24.9711,
         "X6 longitude": 121.5317,
         "Y house price of unit area": 55.3,
         "_deepnote_index_column": 386
        },
        {
         "X2 house age": 16.2,
         "X3 distance to the nearest MRT station": 2103.555,
         "X4 number of convenience stores": 3,
         "X5 latitude": 24.96042,
         "X6 longitude": 121.51462,
         "Y house price of unit area": 25.6,
         "_deepnote_index_column": 387
        },
        {
         "X2 house age": 10.4,
         "X3 distance to the nearest MRT station": 2251.938,
         "X4 number of convenience stores": 4,
         "X5 latitude": 24.95957,
         "X6 longitude": 121.51353,
         "Y house price of unit area": 27.3,
         "_deepnote_index_column": 388
        },
        {
         "X2 house age": 40.9,
         "X3 distance to the nearest MRT station": 122.3619,
         "X4 number of convenience stores": 8,
         "X5 latitude": 24.96756,
         "X6 longitude": 121.5423,
         "Y house price of unit area": 67.7,
         "_deepnote_index_column": 389
        },
        {
         "X2 house age": 32.8,
         "X3 distance to the nearest MRT station": 377.8302,
         "X4 number of convenience stores": 9,
         "X5 latitude": 24.97151,
         "X6 longitude": 121.5435,
         "Y house price of unit area": 38.6,
         "_deepnote_index_column": 390
        },
        {
         "X2 house age": 6.2,
         "X3 distance to the nearest MRT station": 1939.749,
         "X4 number of convenience stores": 1,
         "X5 latitude": 24.95155,
         "X6 longitude": 121.55387,
         "Y house price of unit area": 31.3,
         "_deepnote_index_column": 391
        },
        {
         "X2 house age": 42.7,
         "X3 distance to the nearest MRT station": 443.802,
         "X4 number of convenience stores": 6,
         "X5 latitude": 24.97927,
         "X6 longitude": 121.53874,
         "Y house price of unit area": 35.3,
         "_deepnote_index_column": 392
        },
        {
         "X2 house age": 16.9,
         "X3 distance to the nearest MRT station": 967.4,
         "X4 number of convenience stores": 4,
         "X5 latitude": 24.98872,
         "X6 longitude": 121.53408,
         "Y house price of unit area": 40.3,
         "_deepnote_index_column": 393
        },
        {
         "X2 house age": 21.2,
         "X3 distance to the nearest MRT station": 512.5487,
         "X4 number of convenience stores": 4,
         "X5 latitude": 24.974,
         "X6 longitude": 121.53842,
         "Y house price of unit area": 42.5,
         "_deepnote_index_column": 395
        },
        {
         "X2 house age": 37.1,
         "X3 distance to the nearest MRT station": 918.6357,
         "X4 number of convenience stores": 1,
         "X5 latitude": 24.97198,
         "X6 longitude": 121.55063,
         "Y house price of unit area": 31.9,
         "_deepnote_index_column": 396
        },
        {
         "X2 house age": 13.1,
         "X3 distance to the nearest MRT station": 1164.838,
         "X4 number of convenience stores": 4,
         "X5 latitude": 24.99156,
         "X6 longitude": 121.53406,
         "Y house price of unit area": 32.2,
         "_deepnote_index_column": 397
        },
        {
         "X2 house age": 14.7,
         "X3 distance to the nearest MRT station": 1717.193,
         "X4 number of convenience stores": 2,
         "X5 latitude": 24.96447,
         "X6 longitude": 121.51649,
         "Y house price of unit area": 23,
         "_deepnote_index_column": 398
        },
        {
         "X2 house age": 12.7,
         "X3 distance to the nearest MRT station": 170.1289,
         "X4 number of convenience stores": 1,
         "X5 latitude": 24.97371,
         "X6 longitude": 121.52984,
         "Y house price of unit area": 37.3,
         "_deepnote_index_column": 399
        },
        {
         "X2 house age": 26.8,
         "X3 distance to the nearest MRT station": 482.7581,
         "X4 number of convenience stores": 5,
         "X5 latitude": 24.97433,
         "X6 longitude": 121.53863,
         "Y house price of unit area": 35.5,
         "_deepnote_index_column": 400
        },
        {
         "X2 house age": 7.6,
         "X3 distance to the nearest MRT station": 2175.03,
         "X4 number of convenience stores": 3,
         "X5 latitude": 24.96305,
         "X6 longitude": 121.51254,
         "Y house price of unit area": 27.7,
         "_deepnote_index_column": 401
        },
        {
         "X2 house age": 12.7,
         "X3 distance to the nearest MRT station": 187.4823,
         "X4 number of convenience stores": 1,
         "X5 latitude": 24.97388,
         "X6 longitude": 121.52981,
         "Y house price of unit area": 28.5,
         "_deepnote_index_column": 402
        },
        {
         "X2 house age": 30.9,
         "X3 distance to the nearest MRT station": 161.942,
         "X4 number of convenience stores": 9,
         "X5 latitude": 24.98353,
         "X6 longitude": 121.53966,
         "Y house price of unit area": 39.7,
         "_deepnote_index_column": 403
        },
        {
         "X2 house age": 16.4,
         "X3 distance to the nearest MRT station": 289.3248,
         "X4 number of convenience stores": 5,
         "X5 latitude": 24.98203,
         "X6 longitude": 121.54348,
         "Y house price of unit area": 41.2,
         "_deepnote_index_column": 404
        },
        {
         "X2 house age": 23,
         "X3 distance to the nearest MRT station": 130.9945,
         "X4 number of convenience stores": 6,
         "X5 latitude": 24.95663,
         "X6 longitude": 121.53765,
         "Y house price of unit area": 37.2,
         "_deepnote_index_column": 405
        },
        {
         "X2 house age": 1.9,
         "X3 distance to the nearest MRT station": 372.1386,
         "X4 number of convenience stores": 7,
         "X5 latitude": 24.97293,
         "X6 longitude": 121.54026,
         "Y house price of unit area": 40.5,
         "_deepnote_index_column": 406
        },
        {
         "X2 house age": 5.2,
         "X3 distance to the nearest MRT station": 2408.993,
         "X4 number of convenience stores": 0,
         "X5 latitude": 24.95505,
         "X6 longitude": 121.55964,
         "Y house price of unit area": 22.3,
         "_deepnote_index_column": 407
        },
        {
         "X2 house age": 18.5,
         "X3 distance to the nearest MRT station": 2175.744,
         "X4 number of convenience stores": 3,
         "X5 latitude": 24.9633,
         "X6 longitude": 121.51243,
         "Y house price of unit area": 28.1,
         "_deepnote_index_column": 408
        },
        {
         "X2 house age": 5.6,
         "X3 distance to the nearest MRT station": 90.45606,
         "X4 number of convenience stores": 9,
         "X5 latitude": 24.97433,
         "X6 longitude": 121.5431,
         "Y house price of unit area": 50,
         "_deepnote_index_column": 410
        },
        {
         "X2 house age": 18.8,
         "X3 distance to the nearest MRT station": 390.9696,
         "X4 number of convenience stores": 7,
         "X5 latitude": 24.97923,
         "X6 longitude": 121.53986,
         "Y house price of unit area": 40.6,
         "_deepnote_index_column": 411
        },
        {
         "X2 house age": 8.1,
         "X3 distance to the nearest MRT station": 104.8101,
         "X4 number of convenience stores": 5,
         "X5 latitude": 24.96674,
         "X6 longitude": 121.54067,
         "Y house price of unit area": 52.5,
         "_deepnote_index_column": 412
        },
        {
         "X2 house age": 6.5,
         "X3 distance to the nearest MRT station": 90.45606,
         "X4 number of convenience stores": 9,
         "X5 latitude": 24.97433,
         "X6 longitude": 121.5431,
         "Y house price of unit area": 63.9,
         "_deepnote_index_column": 413
        }
       ]
      },
      "text/plain": "     X2 house age  X3 distance to the nearest MRT station  \\\n0            32.0                                84.87882   \n1            19.5                               306.59470   \n2            13.3                               561.98450   \n3            13.3                               561.98450   \n4             5.0                               390.56840   \n..            ...                                     ...   \n408          18.5                              2175.74400   \n410           5.6                                90.45606   \n411          18.8                               390.96960   \n412           8.1                               104.81010   \n413           6.5                                90.45606   \n\n     X4 number of convenience stores  X5 latitude  X6 longitude  \\\n0                                 10     24.98298     121.54024   \n1                                  9     24.98034     121.53951   \n2                                  5     24.98746     121.54391   \n3                                  5     24.98746     121.54391   \n4                                  5     24.97937     121.54245   \n..                               ...          ...           ...   \n408                                3     24.96330     121.51243   \n410                                9     24.97433     121.54310   \n411                                7     24.97923     121.53986   \n412                                5     24.96674     121.54067   \n413                                9     24.97433     121.54310   \n\n     Y house price of unit area  \n0                          37.9  \n1                          42.2  \n2                          47.3  \n3                          54.8  \n4                          43.1  \n..                          ...  \n408                        28.1  \n410                        50.0  \n411                        40.6  \n412                        52.5  \n413                        63.9  \n\n[314 rows x 6 columns]",
      "text/html": "<div>\n<style scoped>\n    .dataframe tbody tr th:only-of-type {\n        vertical-align: middle;\n    }\n\n    .dataframe tbody tr th {\n        vertical-align: top;\n    }\n\n    .dataframe thead th {\n        text-align: right;\n    }\n</style>\n<table border=\"1\" class=\"dataframe\">\n  <thead>\n    <tr style=\"text-align: right;\">\n      <th></th>\n      <th>X2 house age</th>\n      <th>X3 distance to the nearest MRT station</th>\n      <th>X4 number of convenience stores</th>\n      <th>X5 latitude</th>\n      <th>X6 longitude</th>\n      <th>Y house price of unit area</th>\n    </tr>\n  </thead>\n  <tbody>\n    <tr>\n      <th>0</th>\n      <td>32.0</td>\n      <td>84.87882</td>\n      <td>10</td>\n      <td>24.98298</td>\n      <td>121.54024</td>\n      <td>37.9</td>\n    </tr>\n    <tr>\n      <th>1</th>\n      <td>19.5</td>\n      <td>306.59470</td>\n      <td>9</td>\n      <td>24.98034</td>\n      <td>121.53951</td>\n      <td>42.2</td>\n    </tr>\n    <tr>\n      <th>2</th>\n      <td>13.3</td>\n      <td>561.98450</td>\n      <td>5</td>\n      <td>24.98746</td>\n      <td>121.54391</td>\n      <td>47.3</td>\n    </tr>\n    <tr>\n      <th>3</th>\n      <td>13.3</td>\n      <td>561.98450</td>\n      <td>5</td>\n      <td>24.98746</td>\n      <td>121.54391</td>\n      <td>54.8</td>\n    </tr>\n    <tr>\n      <th>4</th>\n      <td>5.0</td>\n      <td>390.56840</td>\n      <td>5</td>\n      <td>24.97937</td>\n      <td>121.54245</td>\n      <td>43.1</td>\n    </tr>\n    <tr>\n      <th>...</th>\n      <td>...</td>\n      <td>...</td>\n      <td>...</td>\n      <td>...</td>\n      <td>...</td>\n      <td>...</td>\n    </tr>\n    <tr>\n      <th>408</th>\n      <td>18.5</td>\n      <td>2175.74400</td>\n      <td>3</td>\n      <td>24.96330</td>\n      <td>121.51243</td>\n      <td>28.1</td>\n    </tr>\n    <tr>\n      <th>410</th>\n      <td>5.6</td>\n      <td>90.45606</td>\n      <td>9</td>\n      <td>24.97433</td>\n      <td>121.54310</td>\n      <td>50.0</td>\n    </tr>\n    <tr>\n      <th>411</th>\n      <td>18.8</td>\n      <td>390.96960</td>\n      <td>7</td>\n      <td>24.97923</td>\n      <td>121.53986</td>\n      <td>40.6</td>\n    </tr>\n    <tr>\n      <th>412</th>\n      <td>8.1</td>\n      <td>104.81010</td>\n      <td>5</td>\n      <td>24.96674</td>\n      <td>121.54067</td>\n      <td>52.5</td>\n    </tr>\n    <tr>\n      <th>413</th>\n      <td>6.5</td>\n      <td>90.45606</td>\n      <td>9</td>\n      <td>24.97433</td>\n      <td>121.54310</td>\n      <td>63.9</td>\n    </tr>\n  </tbody>\n</table>\n<p>314 rows × 6 columns</p>\n</div>"
     },
     "metadata": {}
    }
   ]
  },
  {
   "cell_type": "markdown",
   "source": "### Analysing Dataset. Dividing X and y for building a model",
   "metadata": {
    "tags": [],
    "is_collapsed": false,
    "cell_id": "00020-aa8d0d1f-e3fd-49ea-8dba-a59edd7a0dcd",
    "deepnote_cell_type": "text-cell-h3"
   }
  },
  {
   "cell_type": "code",
   "metadata": {
    "tags": [],
    "cell_id": "00021-c019fecb-fd78-4876-be8d-a522fe969beb",
    "deepnote_to_be_reexecuted": false,
    "source_hash": "e08f5244",
    "execution_start": 1636797872344,
    "execution_millis": 24,
    "deepnote_cell_type": "code",
    "deepnote_cell_height": 464
   },
   "source": "y_train = np.array(data_train.pop('Y house price of unit area'))\nX_train = np.array(data_train)\n\ny_cval = np.array(data_cval.pop('Y house price of unit area'))\nX_cval = np.array(data_cval)\n\ny_test = np.array(data_test.pop('Y house price of unit area'))\nX_test = np.array(data_test)\n\nprint(\"y_train.shape:\", y_train.shape)\nprint(\"X_train.shape:\", X_train.shape)\nprint(\"y_cval.shape:\", y_cval.shape)\nprint(\"X_cval.shape:\", X_cval.shape)\nprint(\"y_test.shape:\", y_test.shape)\nprint(\"X_test.shape:\", X_test.shape)",
   "execution_count": null,
   "outputs": [
    {
     "name": "stdout",
     "text": "y_train.shape: (219,)\nX_train.shape: (219, 5)\ny_cval.shape: (47,)\nX_cval.shape: (47, 5)\ny_test.shape: (48,)\nX_test.shape: (48, 5)\n",
     "output_type": "stream"
    }
   ]
  },
  {
   "cell_type": "markdown",
   "source": "### Normalising datasets",
   "metadata": {
    "tags": [],
    "is_collapsed": false,
    "cell_id": "00022-553d9074-4ac2-4870-a986-fbb073c65735",
    "deepnote_cell_type": "text-cell-h3"
   }
  },
  {
   "cell_type": "code",
   "metadata": {
    "tags": [],
    "cell_id": "00023-aa3afdf3-749a-420b-af15-30376d9ef3a1",
    "deepnote_to_be_reexecuted": false,
    "source_hash": "796a6088",
    "execution_start": 1636797875812,
    "execution_millis": 16,
    "deepnote_cell_type": "code",
    "deepnote_cell_height": 153
   },
   "source": "# pandas.DataFrame.std - Return sample standard deviation over requested axis.\nX = (X - X.mean()) / X.std()\nX_train = (X_train - X_train.mean()) / X_train.std()\nX_cval = (X_cval - X_train.mean()) / X_train.std()\nX_test = (X_test - X_train.mean()) / X_train.std()",
   "execution_count": null,
   "outputs": []
  },
  {
   "cell_type": "markdown",
   "source": "### Working on dataset. Analysing theta and Cost Function from initial dataset with linear regression",
   "metadata": {
    "tags": [],
    "is_collapsed": false,
    "cell_id": "00024-062f16fc-22ac-4dac-bb5f-d5ca7f26668e",
    "deepnote_cell_type": "text-cell-h3"
   }
  },
  {
   "cell_type": "code",
   "metadata": {
    "tags": [],
    "cell_id": "00026-6c240a2d-f641-4114-84b7-5a53e77fe717",
    "deepnote_to_be_reexecuted": false,
    "source_hash": "39e47eef",
    "execution_start": 1636797880967,
    "execution_millis": 1572,
    "deepnote_cell_type": "code",
    "deepnote_cell_height": 901,
    "deepnote_output_heights": [
     null,
     310
    ]
   },
   "source": "# Add a 1 column to the start to allow vectorized gradient descent\nX_ones = np.c_[np.ones(X.shape[0]), X] \n\n# Set hyperparameters\nalpha = 0.01\nepoch = 2000\n\n# Initialize Theta Values to 0\ntheta = np.zeros(X_ones.shape[1])\ninitial_cost, _ = CostGrad(X_ones, y, theta)\nprint('With initial theta values of {0}, cost error is {1}'.format(theta, initial_cost))\n\n# Run Gradient Descent\ntheta, cost_num = LinearGradReg(X_ones, y, theta, alpha, epoch)\nprint(\"THETA:\", theta)\n\n# Display cost chart\nplotChart(epoch, cost_num)\n\nfinal_cost, _ = CostGrad(X_ones, y, theta)\n\nprint('With final theta values of {0}, cost error is {1}'.format(theta, final_cost))",
   "execution_count": null,
   "outputs": [
    {
     "name": "stdout",
     "text": "With initial theta values of [0. 0. 0. 0. 0. 0.], cost error is 862.2603343949042\nTHETA: [39.84490438 -3.70672152 -5.59481609  2.31209196  2.86405052  0.44349902]\n",
     "output_type": "stream"
    },
    {
     "data": {
      "text/plain": "<Figure size 432x288 with 1 Axes>",
      "image/png": "[encoded data removed]"
     },
     "metadata": {
      "image/png": {
       "width": 442,
       "height": 308
      }
     },
     "output_type": "display_data"
    },
    {
     "name": "stdout",
     "text": "With final theta values of [39.84490438 -3.70672152 -5.59481609  2.31209196  2.86405052  0.44349902], cost error is 25.376385466427863\n",
     "output_type": "stream"
    }
   ]
  },
  {
   "cell_type": "code",
   "metadata": {
    "tags": [],
    "cell_id": "00036-89d57ae9-b3ba-4057-9173-1a9ca62f4727",
    "deepnote_cell_type": "code",
    "deepnote_cell_height": 66
   },
   "source": "",
   "execution_count": null,
   "outputs": []
  },
  {
   "cell_type": "markdown",
   "source": "### Learning Curve",
   "metadata": {
    "tags": [],
    "is_collapsed": false,
    "cell_id": "00026-fbcbc893-88c6-430a-9d5f-2b6419b2823e",
    "deepnote_cell_type": "text-cell-h3"
   }
  },
  {
   "cell_type": "code",
   "metadata": {
    "tags": [],
    "cell_id": "00040-54fa48db-d688-41a7-bef0-ef838a57265e",
    "deepnote_to_be_reexecuted": false,
    "source_hash": "84667334",
    "execution_start": 1636797888433,
    "execution_millis": 5,
    "deepnote_cell_type": "code",
    "deepnote_cell_height": 261
   },
   "source": "m, n = X.shape\ndef linearRegressionCost(theta, X, y, lambda_=0.0):\n    m = X.shape[0]\n    h = X.dot(theta)\n    \n    cost = 1 / (2 * m) * (h - y).T.dot((h - y)) + lambda_ / (2 * m) * np.sum(theta[1:] * theta[1:])\n    grad = 1 / m * X.T.dot(h - y)\n    for i in range(1, len(grad)):\n        temp = 1 / m * X.T.dot(h - y) + lambda_ / m * theta[i]\n        grad[i] = temp[i]\n    return cost, grad",
   "execution_count": null,
   "outputs": []
  },
  {
   "cell_type": "code",
   "metadata": {
    "tags": [],
    "cell_id": "00041-6c5b4539-257e-433a-8ea1-498bf4b1023c",
    "deepnote_to_be_reexecuted": false,
    "source_hash": "50488866",
    "execution_start": 1636798508541,
    "execution_millis": 4,
    "deepnote_cell_type": "code",
    "deepnote_cell_height": 261
   },
   "source": "def learningCurve(X_val, y_val, X_train, y_train, initial_theta, lambda_=0.0):\n    error_train = []\n    error_val = []\n    for i in range(1, m):\n        optimized = optimize.minimize(linearRegressionCost, initial_theta, (X_train[:i, :], y_train[:i], lambda_), method='TNC', jac=True)\n        theta = optimized.x\n        cost_train = linearRegressionCost(theta, X_train[:i, :], y_train[:i], lambda_)[0]\n        error_train.append(cost_train)\n        cost_test = linearRegressionCost(theta, X_val, y_val, lambda_)[0]\n        error_val.append(cost_test)\n    return error_train, error_val",
   "execution_count": null,
   "outputs": []
  },
  {
   "cell_type": "code",
   "metadata": {
    "tags": [],
    "cell_id": "00042-645210b8-02da-4cfb-a65c-10b12cfc0ac2",
    "deepnote_to_be_reexecuted": false,
    "source_hash": "ee0484d1",
    "execution_start": 1636798483996,
    "execution_millis": 8147,
    "deepnote_cell_type": "code",
    "deepnote_cell_height": 580,
    "deepnote_output_heights": [
     303
    ]
   },
   "source": "X_train_ones = np.concatenate([np.ones((X_train.shape[0], 1)), X_train], axis=1)\nX_test_ones = np.concatenate([np.ones((X_test.shape[0], 1)), X_test], axis=1)\ntheta = np.zeros(n + 1)\n\nerror_train, error_val =  learningCurve(X_test_ones, y_test, X_train_ones, y_train, theta)\nplt.plot(error_train)\nplt.plot(error_val)\nplt.legend(['Train', 'Cross Validation'])\nplt.xlabel('Number of training examples')\nplt.ylabel('Error')\nplt.show()",
   "execution_count": null,
   "outputs": [
    {
     "data": {
      "text/plain": "<Figure size 432x288 with 1 Axes>",
      "image/png": "[encoded data removed]"
     },
     "metadata": {
      "image/png": {
       "width": 424,
       "height": 301
      }
     },
     "output_type": "display_data"
    }
   ]
  },
  {
   "cell_type": "markdown",
   "source": "We see that our graph is \"just-right\" model. ",
   "metadata": {
    "tags": [],
    "is_collapsed": false,
    "cell_id": "00040-9ea69bee-5573-4f48-85ce-8d2fa266166b",
    "deepnote_cell_type": "text-cell-p"
   }
  },
  {
   "cell_type": "code",
   "metadata": {
    "tags": [],
    "cell_id": "00037-6218dbfe-8a98-4500-bb7a-fb910a3b8199",
    "deepnote_to_be_reexecuted": true,
    "source_hash": "855c6d79",
    "execution_start": 1636759748960,
    "execution_millis": 112,
    "deepnote_cell_type": "code",
    "deepnote_cell_height": 356,
    "deepnote_output_heights": [
     61
    ]
   },
   "source": "#dropping columns\nX = data.loc[:,'X2 house age' : 'X6 longitude']\ny = data.loc[:,'Y house price of unit area']\n\n#Train-test split\nX_train, X_test, y_train, y_test = train_test_split(X, y, test_size=0.33, random_state=42)\nreg = LinearRegression().fit(X_train, y_train)    #fit train set\nprice_predict = reg.predict(X_test)\n\n#regression coefficients\nindex_reg = ['Intercept', 'X2 house age', 'X3 distance to the nearest MRT station', 'X4 number of convenience stores', 'X4 number of convenience stores', 'X6 longitude']\npd.DataFrame(data=np.append(reg.intercept_, reg.coef_), index=index_reg, columns=['values']).transpose()",
   "execution_count": null,
   "outputs": [
    {
     "output_type": "execute_result",
     "execution_count": 28,
     "data": {
      "application/vnd.deepnote.dataframe.v2+json": {
       "row_count": 1,
       "column_count": 6,
       "columns": [
        {
         "name": "Intercept",
         "dtype": "float64",
         "stats": {
          "unique_count": 1,
          "nan_count": 0,
          "min": "-14768.554820901336",
          "max": "-14768.554820901336",
          "histogram": [
           {
            "bin_start": -14769.054820901336,
            "bin_end": -14768.954820901336,
            "count": 0
           },
           {
            "bin_start": -14768.954820901336,
            "bin_end": -14768.854820901335,
            "count": 0
           },
           {
            "bin_start": -14768.854820901335,
            "bin_end": -14768.754820901337,
            "count": 0
           },
           {
            "bin_start": -14768.754820901337,
            "bin_end": -14768.654820901336,
            "count": 0
           },
           {
            "bin_start": -14768.654820901336,
            "bin_end": -14768.554820901336,
            "count": 0
           },
           {
            "bin_start": -14768.554820901336,
            "bin_end": -14768.454820901336,
            "count": 1
           },
           {
            "bin_start": -14768.454820901336,
            "bin_end": -14768.354820901335,
            "count": 0
           },
           {
            "bin_start": -14768.354820901335,
            "bin_end": -14768.254820901337,
            "count": 0
           },
           {
            "bin_start": -14768.254820901337,
            "bin_end": -14768.154820901336,
            "count": 0
           },
           {
            "bin_start": -14768.154820901336,
            "bin_end": -14768.054820901336,
            "count": 0
           }
          ]
         }
        },
        {
         "name": "X2 house age",
         "dtype": "float64",
         "stats": {
          "unique_count": 1,
          "nan_count": 0,
          "min": "-0.35840588447622973",
          "max": "-0.35840588447622973",
          "histogram": [
           {
            "bin_start": -0.8584058844762297,
            "bin_end": -0.7584058844762297,
            "count": 0
           },
           {
            "bin_start": -0.7584058844762297,
            "bin_end": -0.6584058844762297,
            "count": 0
           },
           {
            "bin_start": -0.6584058844762297,
            "bin_end": -0.5584058844762296,
            "count": 0
           },
           {
            "bin_start": -0.5584058844762296,
            "bin_end": -0.45840588447622965,
            "count": 0
           },
           {
            "bin_start": -0.45840588447622965,
            "bin_end": -0.3584058844762297,
            "count": 1
           },
           {
            "bin_start": -0.3584058844762297,
            "bin_end": -0.2584058844762296,
            "count": 0
           },
           {
            "bin_start": -0.2584058844762296,
            "bin_end": -0.1584058844762296,
            "count": 0
           },
           {
            "bin_start": -0.1584058844762296,
            "bin_end": -0.05840588447622963,
            "count": 0
           },
           {
            "bin_start": -0.05840588447622963,
            "bin_end": 0.04159411552377035,
            "count": 0
           },
           {
            "bin_start": 0.04159411552377035,
            "bin_end": 0.14159411552377027,
            "count": 0
           }
          ]
         }
        },
        {
         "name": "X3 distance to the nearest MRT station",
         "dtype": "float64",
         "stats": {
          "unique_count": 1,
          "nan_count": 0,
          "min": "-0.008496569209800187",
          "max": "-0.008496569209800187",
          "histogram": [
           {
            "bin_start": -0.5084965692098002,
            "bin_end": -0.40849656920980026,
            "count": 0
           },
           {
            "bin_start": -0.40849656920980026,
            "bin_end": -0.30849656920980023,
            "count": 0
           },
           {
            "bin_start": -0.30849656920980023,
            "bin_end": -0.2084965692098002,
            "count": 0
           },
           {
            "bin_start": -0.2084965692098002,
            "bin_end": -0.10849656920980022,
            "count": 0
           },
           {
            "bin_start": -0.10849656920980022,
            "bin_end": -0.008496569209800242,
            "count": 0
           },
           {
            "bin_start": -0.008496569209800242,
            "bin_end": 0.09150343079019985,
            "count": 1
           },
           {
            "bin_start": 0.09150343079019985,
            "bin_end": 0.19150343079019982,
            "count": 0
           },
           {
            "bin_start": 0.19150343079019982,
            "bin_end": 0.2915034307901998,
            "count": 0
           },
           {
            "bin_start": 0.2915034307901998,
            "bin_end": 0.3915034307901998,
            "count": 0
           },
           {
            "bin_start": 0.3915034307901998,
            "bin_end": 0.4915034307901998,
            "count": 0
           }
          ]
         }
        },
        {
         "name": "X4 number of convenience stores",
         "dtype": "float64",
         "stats": {
          "unique_count": 1,
          "nan_count": 0,
          "min": "0.7715612061432954",
          "max": "0.7715612061432954",
          "histogram": [
           {
            "bin_start": 0.2715612061432954,
            "bin_end": 0.37156120614329535,
            "count": 0
           },
           {
            "bin_start": 0.37156120614329535,
            "bin_end": 0.4715612061432954,
            "count": 0
           },
           {
            "bin_start": 0.4715612061432954,
            "bin_end": 0.5715612061432954,
            "count": 0
           },
           {
            "bin_start": 0.5715612061432954,
            "bin_end": 0.6715612061432954,
            "count": 0
           },
           {
            "bin_start": 0.6715612061432954,
            "bin_end": 0.7715612061432954,
            "count": 0
           },
           {
            "bin_start": 0.7715612061432954,
            "bin_end": 0.8715612061432955,
            "count": 1
           },
           {
            "bin_start": 0.8715612061432955,
            "bin_end": 0.9715612061432954,
            "count": 0
           },
           {
            "bin_start": 0.9715612061432954,
            "bin_end": 1.0715612061432953,
            "count": 0
           },
           {
            "bin_start": 1.0715612061432953,
            "bin_end": 1.1715612061432954,
            "count": 0
           },
           {
            "bin_start": 1.1715612061432954,
            "bin_end": 1.2715612061432955,
            "count": 0
           }
          ]
         }
        },
        {
         "name": "X4 number of convenience stores.1",
         "dtype": "float64",
         "stats": {
          "unique_count": 1,
          "nan_count": 0,
          "min": "304.0811855128601",
          "max": "304.0811855128601",
          "histogram": [
           {
            "bin_start": 303.5811855128601,
            "bin_end": 303.6811855128601,
            "count": 0
           },
           {
            "bin_start": 303.6811855128601,
            "bin_end": 303.7811855128601,
            "count": 0
           },
           {
            "bin_start": 303.7811855128601,
            "bin_end": 303.8811855128601,
            "count": 0
           },
           {
            "bin_start": 303.8811855128601,
            "bin_end": 303.98118551286007,
            "count": 0
           },
           {
            "bin_start": 303.98118551286007,
            "bin_end": 304.0811855128601,
            "count": 0
           },
           {
            "bin_start": 304.0811855128601,
            "bin_end": 304.1811855128601,
            "count": 1
           },
           {
            "bin_start": 304.1811855128601,
            "bin_end": 304.2811855128601,
            "count": 0
           },
           {
            "bin_start": 304.2811855128601,
            "bin_end": 304.3811855128601,
            "count": 0
           },
           {
            "bin_start": 304.3811855128601,
            "bin_end": 304.48118551286007,
            "count": 0
           },
           {
            "bin_start": 304.48118551286007,
            "bin_end": 304.5811855128601,
            "count": 0
           }
          ]
         }
        },
        {
         "name": "X6 longitude",
         "dtype": "float64",
         "stats": {
          "unique_count": 1,
          "nan_count": 0,
          "min": "59.43981026003621",
          "max": "59.43981026003621",
          "histogram": [
           {
            "bin_start": 58.93981026003621,
            "bin_end": 59.03981026003621,
            "count": 0
           },
           {
            "bin_start": 59.03981026003621,
            "bin_end": 59.139810260036214,
            "count": 0
           },
           {
            "bin_start": 59.139810260036214,
            "bin_end": 59.23981026003621,
            "count": 0
           },
           {
            "bin_start": 59.23981026003621,
            "bin_end": 59.33981026003621,
            "count": 0
           },
           {
            "bin_start": 59.33981026003621,
            "bin_end": 59.43981026003621,
            "count": 0
           },
           {
            "bin_start": 59.43981026003621,
            "bin_end": 59.53981026003621,
            "count": 1
           },
           {
            "bin_start": 59.53981026003621,
            "bin_end": 59.639810260036214,
            "count": 0
           },
           {
            "bin_start": 59.639810260036214,
            "bin_end": 59.73981026003621,
            "count": 0
           },
           {
            "bin_start": 59.73981026003621,
            "bin_end": 59.83981026003621,
            "count": 0
           },
           {
            "bin_start": 59.83981026003621,
            "bin_end": 59.93981026003621,
            "count": 0
           }
          ]
         }
        },
        {
         "name": "_deepnote_index_column",
         "dtype": "object"
        }
       ],
       "rows_top": [
        {
         "Intercept": -14768.554820901336,
         "X2 house age": -0.35840588447622973,
         "X3 distance to the nearest MRT station": -0.008496569209800187,
         "X4 number of convenience stores": 0.7715612061432954,
         "X4 number of convenience stores.1": 304.0811855128601,
         "X6 longitude": 59.43981026003621,
         "_deepnote_index_column": "values"
        }
       ],
       "rows_bottom": null
      },
      "text/plain": "           Intercept  X2 house age  X3 distance to the nearest MRT station  \\\nvalues -14768.554821     -0.358406                               -0.008497   \n\n        X4 number of convenience stores  X4 number of convenience stores  \\\nvalues                         0.771561                       304.081186   \n\n        X6 longitude  \nvalues      59.43981  ",
      "text/html": "<div>\n<style scoped>\n    .dataframe tbody tr th:only-of-type {\n        vertical-align: middle;\n    }\n\n    .dataframe tbody tr th {\n        vertical-align: top;\n    }\n\n    .dataframe thead th {\n        text-align: right;\n    }\n</style>\n<table border=\"1\" class=\"dataframe\">\n  <thead>\n    <tr style=\"text-align: right;\">\n      <th></th>\n      <th>Intercept</th>\n      <th>X2 house age</th>\n      <th>X3 distance to the nearest MRT station</th>\n      <th>X4 number of convenience stores</th>\n      <th>X4 number of convenience stores</th>\n      <th>X6 longitude</th>\n    </tr>\n  </thead>\n  <tbody>\n    <tr>\n      <th>values</th>\n      <td>-14768.554821</td>\n      <td>-0.358406</td>\n      <td>-0.008497</td>\n      <td>0.771561</td>\n      <td>304.081186</td>\n      <td>59.43981</td>\n    </tr>\n  </tbody>\n</table>\n</div>"
     },
     "metadata": {}
    }
   ]
  },
  {
   "cell_type": "code",
   "metadata": {
    "tags": [],
    "cell_id": "00038-765fe1fe-9870-4d91-9f85-f8161e132268",
    "deepnote_to_be_reexecuted": true,
    "source_hash": "5c65c3a0",
    "execution_start": 1636760189708,
    "execution_millis": 279,
    "deepnote_cell_type": "code",
    "deepnote_cell_height": 539.8125,
    "deepnote_output_heights": [
     244.8125
    ]
   },
   "source": "#Predictions comparison plot\nplt.figure(figsize=(15,4))\n\nplt.plot(np.array(y_test), color='grey', label='Real')\nplt.plot(price_predict, color='cornflowerblue', label='Train-test split')\nplt.xlabel('House')\nplt.ylabel('Price')\nplt.title('Predictions Comparison (same split)')\nplt.legend(loc=4)\nplt.show()\n\n",
   "execution_count": null,
   "outputs": [
    {
     "data": {
      "text/plain": "<Figure size 1080x288 with 1 Axes>",
      "image/png": "[encoded data removed]"
     },
     "metadata": {
      "image/png": {
       "width": 997,
       "height": 308
      }
     },
     "output_type": "display_data"
    }
   ]
  },
  {
   "cell_type": "markdown",
   "source": "Regression Evaluation Metrics: mean of the absolute value, mean of the squared, square root of the mean",
   "metadata": {
    "tags": [],
    "is_collapsed": false,
    "cell_id": "00043-b0ed84ae-963e-451a-b36e-7ad626e3edee",
    "deepnote_cell_type": "text-cell-p"
   }
  },
  {
   "cell_type": "code",
   "metadata": {
    "tags": [],
    "cell_id": "00045-72c3ae0d-c355-4c1b-a20b-a55993c09952",
    "deepnote_to_be_reexecuted": true,
    "source_hash": "48e9f9f4",
    "execution_start": 1636760203193,
    "execution_millis": 12,
    "deepnote_cell_type": "code",
    "deepnote_cell_height": 189
   },
   "source": "def mean_absolute_error(y, h):\n    n = len(y)\n    return 1 / n * np.sum(np.abs(y - h))\n\ndef mean_squared_error(y, h):\n    n = len(y)\n    return 1 / n * np.sum((y - h).T.dot(y - h))",
   "execution_count": null,
   "outputs": []
  },
  {
   "cell_type": "code",
   "metadata": {
    "tags": [],
    "cell_id": "00046-9d14a929-1418-4240-9872-5ec5324f59be",
    "deepnote_to_be_reexecuted": true,
    "source_hash": "a86cbee5",
    "execution_start": 1636761751320,
    "execution_millis": 260,
    "deepnote_cell_type": "code",
    "deepnote_cell_height": 386
   },
   "source": "X_train_ones = np.concatenate([np.ones((X_train.shape[0], 1)), X_train], axis=1)\ntheta = np.zeros(n + 1)\noptimized = optimize.minimize(linearRegressionCost, theta, (X_train_ones, y_train), method='TNC', jac=True)\ntheta = optimized.x\n\nh = X_train_ones.dot(theta)\n\nMAE = mean_absolute_error(y_train, h)\nMSE = mean_squared_error(y_train, h)\nRMSE = np.sqrt(MSE)\n\nprint('MAE', MAE)\nprint('MSE', MSE)\nprint('RMSE', RMSE)",
   "execution_count": null,
   "outputs": [
    {
     "name": "stdout",
     "text": "MAE 5.152653486376866\nMSE 53.29934489838712\nRMSE 7.300640033475635\n",
     "output_type": "stream"
    }
   ]
  },
  {
   "cell_type": "code",
   "metadata": {
    "tags": [],
    "cell_id": "00047-6c93287c-7985-4820-95fa-f2e625f803c7",
    "deepnote_to_be_reexecuted": true,
    "source_hash": "b846a47d",
    "execution_start": 1636761788975,
    "execution_millis": 8,
    "deepnote_cell_type": "code",
    "deepnote_cell_height": 314
   },
   "source": "X_test_ones = np.concatenate([np.ones((X_test.shape[0], 1)), X_test], axis=1)\nh_test = X_test_ones.dot(theta)\n\nMAE_test = mean_absolute_error(y_test, h_test)\nMSE_test = mean_squared_error(y_test, h_test)\nRMSE_test = np.sqrt(MSE_test)\n\nprint('MAE-test', MAE_test)\nprint('MSE-test', MSE_test)\nprint('RMSE-test', RMSE_test)",
   "execution_count": null,
   "outputs": [
    {
     "name": "stdout",
     "text": "MAE-test 5.476824719499067\nMSE-test 60.63861975871325\nRMSE-test 7.78708031027761\n",
     "output_type": "stream"
    }
   ]
  },
  {
   "cell_type": "code",
   "metadata": {
    "tags": [],
    "cell_id": "00048-5d4842c8-e2c3-4d2f-af10-25df67aa1c55",
    "deepnote_to_be_reexecuted": true,
    "source_hash": "3ede4f93",
    "execution_start": 1636762782661,
    "execution_millis": 3,
    "deepnote_cell_type": "code",
    "deepnote_cell_height": 330
   },
   "source": "from sklearn.metrics import r2_score\nfrom sklearn.metrics import mean_squared_error\n\npred_train = model.predict(X_train)\npred_test = model.predict(X_test)\n\nRMSE_train = np.sqrt(mean_squared_error(y_train,pred_train))\nRMSE_test = np.sqrt(mean_squared_error(y_test,pred_test))\n\n\nprint(\"RMSE for traning set is: \", RMSE_train)\nprint(\"RMSE for testing set is: \", RMSE_test)",
   "execution_count": null,
   "outputs": [
    {
     "name": "stdout",
     "text": "RMSE for traning set is:  6.964729595470409\nRMSE for testing set is:  7.499054637859346\n",
     "output_type": "stream"
    }
   ]
  },
  {
   "cell_type": "code",
   "metadata": {
    "tags": [],
    "cell_id": "00048-9378f68e-42eb-40bc-9e6b-b35829187586",
    "deepnote_to_be_reexecuted": true,
    "source_hash": "fa9ae9c",
    "execution_start": 1636762820664,
    "execution_millis": 329,
    "deepnote_cell_type": "code",
    "deepnote_cell_height": 839,
    "deepnote_output_heights": [
     382
    ]
   },
   "source": "model = LinearRegression()\n\n# sklearn\nmodel.fit(X_train, y_train)\ny_pred = model.predict(X_train)\n\n# Trained Model \nX_train_ones = np.concatenate([np.ones((X_train.shape[0], 1)), X_train], axis=1)\ntheta = np.zeros(X_train_ones.shape[1])\noptimized = optimize.minimize(linearRegressionCost, theta, (X_train_ones, y_train), method='TNC', jac=True)\ntheta = optimized.x\n\nh = X_train_ones.dot(theta)\n\n# Normal Equation\nfrom numpy.linalg import inv\n\ntheta_ne = np.dot(inv((np.dot(X_train_ones.T, X_train_ones))), (np.dot(X_train_ones.T, y_train)))\nh_ne = X_train_ones.dot(theta_ne)\n\npd.DataFrame({'Train model':h, 'Sklearn model':y_pred})",
   "execution_count": null,
   "outputs": [
    {
     "output_type": "execute_result",
     "execution_count": 67,
     "data": {
      "application/vnd.deepnote.dataframe.v2+json": {
       "row_count": 210,
       "column_count": 2,
       "columns": [
        {
         "name": "Train model",
         "dtype": "float64",
         "stats": {
          "unique_count": 191,
          "nan_count": 0,
          "min": "11.775176716542205",
          "max": "54.4801599452569",
          "histogram": [
           {
            "bin_start": 11.775176716542205,
            "bin_end": 16.045675039413673,
            "count": 1
           },
           {
            "bin_start": 16.045675039413673,
            "bin_end": 20.316173362285145,
            "count": 1
           },
           {
            "bin_start": 20.316173362285145,
            "bin_end": 24.586671685156617,
            "count": 5
           },
           {
            "bin_start": 24.586671685156617,
            "bin_end": 28.857170008028085,
            "count": 16
           },
           {
            "bin_start": 28.857170008028085,
            "bin_end": 33.12766833089955,
            "count": 32
           },
           {
            "bin_start": 33.12766833089955,
            "bin_end": 37.39816665377103,
            "count": 17
           },
           {
            "bin_start": 37.39816665377103,
            "bin_end": 41.668664976642496,
            "count": 48
           },
           {
            "bin_start": 41.668664976642496,
            "bin_end": 45.939163299513964,
            "count": 37
           },
           {
            "bin_start": 45.939163299513964,
            "bin_end": 50.20966162238543,
            "count": 27
           },
           {
            "bin_start": 50.20966162238543,
            "bin_end": 54.4801599452569,
            "count": 26
           }
          ]
         }
        },
        {
         "name": "Sklearn model",
         "dtype": "float64",
         "stats": {
          "unique_count": 191,
          "nan_count": 0,
          "min": "14.156217616320646",
          "max": "55.553210453676",
          "histogram": [
           {
            "bin_start": 14.156217616320646,
            "bin_end": 18.29591690005618,
            "count": 2
           },
           {
            "bin_start": 18.29591690005618,
            "bin_end": 22.435616183791716,
            "count": 9
           },
           {
            "bin_start": 22.435616183791716,
            "bin_end": 26.575315467527254,
            "count": 14
           },
           {
            "bin_start": 26.575315467527254,
            "bin_end": 30.71501475126279,
            "count": 19
           },
           {
            "bin_start": 30.71501475126279,
            "bin_end": 34.854714034998324,
            "count": 15
           },
           {
            "bin_start": 34.854714034998324,
            "bin_end": 38.99441331873386,
            "count": 23
           },
           {
            "bin_start": 38.99441331873386,
            "bin_end": 43.1341126024694,
            "count": 46
           },
           {
            "bin_start": 43.1341126024694,
            "bin_end": 47.27381188620493,
            "count": 17
           },
           {
            "bin_start": 47.27381188620493,
            "bin_end": 51.41351116994047,
            "count": 47
           },
           {
            "bin_start": 51.41351116994047,
            "bin_end": 55.553210453676,
            "count": 18
           }
          ]
         }
        },
        {
         "name": "_deepnote_index_column",
         "dtype": "int64"
        }
       ],
       "rows_top": [
        {
         "Train model": 34.34692524450793,
         "Sklearn model": 36.958900528228696,
         "_deepnote_index_column": 0
        },
        {
         "Train model": 38.401211909941026,
         "Sklearn model": 37.28363636733411,
         "_deepnote_index_column": 1
        },
        {
         "Train model": 31.647005170375564,
         "Sklearn model": 28.54859973724524,
         "_deepnote_index_column": 2
        },
        {
         "Train model": 52.546453743136226,
         "Sklearn model": 53.34140986163038,
         "_deepnote_index_column": 3
        },
        {
         "Train model": 54.20147216171313,
         "Sklearn model": 54.08538291351215,
         "_deepnote_index_column": 4
        },
        {
         "Train model": 39.45754211150256,
         "Sklearn model": 42.841343300347944,
         "_deepnote_index_column": 5
        },
        {
         "Train model": 39.96194231734046,
         "Sklearn model": 40.73147655517823,
         "_deepnote_index_column": 6
        },
        {
         "Train model": 33.554132199550395,
         "Sklearn model": 34.45154595985878,
         "_deepnote_index_column": 7
        },
        {
         "Train model": 24.6020635617233,
         "Sklearn model": 21.36419966671383,
         "_deepnote_index_column": 8
        },
        {
         "Train model": 33.690895067966835,
         "Sklearn model": 34.740436782100005,
         "_deepnote_index_column": 9
        },
        {
         "Train model": 34.09332431019766,
         "Sklearn model": 32.915423094673315,
         "_deepnote_index_column": 10
        },
        {
         "Train model": 40.50013586644695,
         "Sklearn model": 41.24420027918313,
         "_deepnote_index_column": 11
        },
        {
         "Train model": 47.335073694203174,
         "Sklearn model": 48.096468253457715,
         "_deepnote_index_column": 12
        },
        {
         "Train model": 31.21424801577905,
         "Sklearn model": 27.32784472414278,
         "_deepnote_index_column": 13
        },
        {
         "Train model": 52.546453743136226,
         "Sklearn model": 53.34140986163038,
         "_deepnote_index_column": 14
        },
        {
         "Train model": 32.8600816624313,
         "Sklearn model": 34.937556279117416,
         "_deepnote_index_column": 15
        },
        {
         "Train model": 31.466589296108964,
         "Sklearn model": 27.556657279534193,
         "_deepnote_index_column": 16
        },
        {
         "Train model": 49.210622536674464,
         "Sklearn model": 47.88715423094982,
         "_deepnote_index_column": 17
        },
        {
         "Train model": 31.527857961811833,
         "Sklearn model": 33.275590994522645,
         "_deepnote_index_column": 18
        },
        {
         "Train model": 45.828802535389286,
         "Sklearn model": 47.35698203197899,
         "_deepnote_index_column": 19
        },
        {
         "Train model": 27.335108842875798,
         "Sklearn model": 29.570297378391842,
         "_deepnote_index_column": 20
        },
        {
         "Train model": 27.40613151793025,
         "Sklearn model": 26.948041225892666,
         "_deepnote_index_column": 21
        },
        {
         "Train model": 39.44794822636254,
         "Sklearn model": 40.871155001679654,
         "_deepnote_index_column": 22
        },
        {
         "Train model": 39.36832314535002,
         "Sklearn model": 40.79947382478349,
         "_deepnote_index_column": 23
        },
        {
         "Train model": 37.97577698814132,
         "Sklearn model": 38.69106433763591,
         "_deepnote_index_column": 24
        },
        {
         "Train model": 43.04756944576707,
         "Sklearn model": 44.52022532888623,
         "_deepnote_index_column": 25
        },
        {
         "Train model": 35.92115107874713,
         "Sklearn model": 37.40850734822379,
         "_deepnote_index_column": 26
        },
        {
         "Train model": 48.15318455027307,
         "Sklearn model": 48.01056032755696,
         "_deepnote_index_column": 27
        },
        {
         "Train model": 24.153399248509913,
         "Sklearn model": 19.85885461682483,
         "_deepnote_index_column": 28
        },
        {
         "Train model": 37.64240739249658,
         "Sklearn model": 38.7164877603318,
         "_deepnote_index_column": 29
        },
        {
         "Train model": 29.806240973794615,
         "Sklearn model": 26.031844898545387,
         "_deepnote_index_column": 30
        },
        {
         "Train model": 38.98450372368575,
         "Sklearn model": 40.31409577584236,
         "_deepnote_index_column": 31
        },
        {
         "Train model": 53.226854314251455,
         "Sklearn model": 54.555257646403334,
         "_deepnote_index_column": 32
        },
        {
         "Train model": 30.07756175540476,
         "Sklearn model": 27.27222820388488,
         "_deepnote_index_column": 33
        },
        {
         "Train model": 39.508775926976,
         "Sklearn model": 40.92293454987157,
         "_deepnote_index_column": 34
        },
        {
         "Train model": 38.39790784118202,
         "Sklearn model": 38.9312736567681,
         "_deepnote_index_column": 35
        },
        {
         "Train model": 40.08820423568193,
         "Sklearn model": 40.42159669014836,
         "_deepnote_index_column": 36
        },
        {
         "Train model": 37.92342829385382,
         "Sklearn model": 42.10444703706344,
         "_deepnote_index_column": 37
        },
        {
         "Train model": 45.19448901041687,
         "Sklearn model": 44.782229610344075,
         "_deepnote_index_column": 38
        },
        {
         "Train model": 41.151665299602314,
         "Sklearn model": 42.09088147611328,
         "_deepnote_index_column": 39
        },
        {
         "Train model": 47.21516069780682,
         "Sklearn model": 49.14332879081121,
         "_deepnote_index_column": 40
        },
        {
         "Train model": 51.919204713339695,
         "Sklearn model": 50.00563016660453,
         "_deepnote_index_column": 41
        },
        {
         "Train model": 31.925692953919338,
         "Sklearn model": 28.799483856377265,
         "_deepnote_index_column": 42
        },
        {
         "Train model": 40.91638883976589,
         "Sklearn model": 42.79476401321335,
         "_deepnote_index_column": 43
        },
        {
         "Train model": 28.59630076092742,
         "Sklearn model": 24.147058369941078,
         "_deepnote_index_column": 44
        },
        {
         "Train model": 46.50584369390856,
         "Sklearn model": 48.87788243329669,
         "_deepnote_index_column": 45
        },
        {
         "Train model": 36.906642988272665,
         "Sklearn model": 38.775775421472645,
         "_deepnote_index_column": 46
        },
        {
         "Train model": 40.850147943057436,
         "Sklearn model": 42.713829235368394,
         "_deepnote_index_column": 47
        },
        {
         "Train model": 41.09406056596856,
         "Sklearn model": 42.98273711661204,
         "_deepnote_index_column": 48
        },
        {
         "Train model": 44.98930681490015,
         "Sklearn model": 48.524655084849655,
         "_deepnote_index_column": 49
        },
        {
         "Train model": 36.60402200859653,
         "Sklearn model": 36.46400504738631,
         "_deepnote_index_column": 50
        },
        {
         "Train model": 35.69806689948962,
         "Sklearn model": 36.017242666923266,
         "_deepnote_index_column": 51
        },
        {
         "Train model": 43.48209127294558,
         "Sklearn model": 41.83700860302088,
         "_deepnote_index_column": 52
        },
        {
         "Train model": 47.39248813253016,
         "Sklearn model": 50.31202699752794,
         "_deepnote_index_column": 53
        },
        {
         "Train model": 41.87854000433333,
         "Sklearn model": 43.548828178451004,
         "_deepnote_index_column": 54
        },
        {
         "Train model": 29.03860142618646,
         "Sklearn model": 26.202071513962437,
         "_deepnote_index_column": 55
        },
        {
         "Train model": 45.669780343277125,
         "Sklearn model": 48.12523007589698,
         "_deepnote_index_column": 56
        },
        {
         "Train model": 18.02833533767796,
         "Sklearn model": 14.156217616320646,
         "_deepnote_index_column": 57
        },
        {
         "Train model": 38.22345791098655,
         "Sklearn model": 40.4651416934139,
         "_deepnote_index_column": 58
        },
        {
         "Train model": 35.459886901535356,
         "Sklearn model": 35.33226402615401,
         "_deepnote_index_column": 59
        },
        {
         "Train model": 51.919204713339695,
         "Sklearn model": 50.00563016660453,
         "_deepnote_index_column": 60
        },
        {
         "Train model": 43.60152889446431,
         "Sklearn model": 41.94453036836421,
         "_deepnote_index_column": 61
        },
        {
         "Train model": 37.81832787697704,
         "Sklearn model": 39.60969555340489,
         "_deepnote_index_column": 62
        },
        {
         "Train model": 41.3209608007935,
         "Sklearn model": 41.12453408235524,
         "_deepnote_index_column": 63
        },
        {
         "Train model": 47.65323462088202,
         "Sklearn model": 46.932543808541595,
         "_deepnote_index_column": 64
        },
        {
         "Train model": 40.28601780085853,
         "Sklearn model": 41.56913710797926,
         "_deepnote_index_column": 65
        },
        {
         "Train model": 40.12912395039814,
         "Sklearn model": 38.950576725397696,
         "_deepnote_index_column": 66
        },
        {
         "Train model": 26.721950726020395,
         "Sklearn model": 22.880747863760917,
         "_deepnote_index_column": 67
        },
        {
         "Train model": 53.34629193577018,
         "Sklearn model": 54.66277941174667,
         "_deepnote_index_column": 68
        },
        {
         "Train model": 44.53751499650605,
         "Sklearn model": 44.62335037982848,
         "_deepnote_index_column": 69
        },
        {
         "Train model": 54.16165962120681,
         "Sklearn model": 54.04954232506316,
         "_deepnote_index_column": 70
        },
        {
         "Train model": 52.08034757790506,
         "Sklearn model": 48.12750656084245,
         "_deepnote_index_column": 71
        },
        {
         "Train model": 39.70885663321053,
         "Sklearn model": 43.627722446273765,
         "_deepnote_index_column": 72
        },
        {
         "Train model": 22.93309287780255,
         "Sklearn model": 18.989919304847717,
         "_deepnote_index_column": 73
        },
        {
         "Train model": 48.333529036490745,
         "Sklearn model": 48.314898082173386,
         "_deepnote_index_column": 74
        },
        {
         "Train model": 47.266028906218594,
         "Sklearn model": 48.27050979096566,
         "_deepnote_index_column": 75
        },
        {
         "Train model": 47.14916315248672,
         "Sklearn model": 49.53944328333091,
         "_deepnote_index_column": 76
        },
        {
         "Train model": 46.401328296736665,
         "Sklearn model": 48.04359493200536,
         "_deepnote_index_column": 77
        },
        {
         "Train model": 29.46381468729635,
         "Sklearn model": 27.13877173183573,
         "_deepnote_index_column": 78
        },
        {
         "Train model": 31.766442791894406,
         "Sklearn model": 28.656121502586757,
         "_deepnote_index_column": 79
        },
        {
         "Train model": 48.94933088913706,
         "Sklearn model": 50.33739259265349,
         "_deepnote_index_column": 80
        },
        {
         "Train model": 44.29183198128521,
         "Sklearn model": 40.846623410448956,
         "_deepnote_index_column": 81
        },
        {
         "Train model": 48.36924991285696,
         "Sklearn model": 49.39750373975403,
         "_deepnote_index_column": 82
        },
        {
         "Train model": 36.09726752431095,
         "Sklearn model": 33.35828233465145,
         "_deepnote_index_column": 83
        },
        {
         "Train model": 31.534389676097817,
         "Sklearn model": 33.323147887856976,
         "_deepnote_index_column": 84
        },
        {
         "Train model": 45.78921796479597,
         "Sklearn model": 48.232751841238496,
         "_deepnote_index_column": 85
        },
        {
         "Train model": 44.47935962667077,
         "Sklearn model": 44.25493441569415,
         "_deepnote_index_column": 86
        },
        {
         "Train model": 39.21866686846511,
         "Sklearn model": 42.62629976966309,
         "_deepnote_index_column": 87
        },
        {
         "Train model": 30.30006557700142,
         "Sklearn model": 32.139533351339196,
         "_deepnote_index_column": 88
        },
        {
         "Train model": 39.3128014848495,
         "Sklearn model": 39.09171448922825,
         "_deepnote_index_column": 89
        },
        {
         "Train model": 45.722933813588384,
         "Sklearn model": 42.11830221517448,
         "_deepnote_index_column": 90
        },
        {
         "Train model": 51.65115943490264,
         "Sklearn model": 51.13138847576192,
         "_deepnote_index_column": 91
        },
        {
         "Train model": 40.126767638833485,
         "Sklearn model": 41.42577475418875,
         "_deepnote_index_column": 92
        },
        {
         "Train model": 28.58122611185513,
         "Sklearn model": 26.182362799836483,
         "_deepnote_index_column": 93
        },
        {
         "Train model": 45.75877105763243,
         "Sklearn model": 48.153604691618966,
         "_deepnote_index_column": 94
        },
        {
         "Train model": 53.1972970468903,
         "Sklearn model": 49.33514037451096,
         "_deepnote_index_column": 95
        },
        {
         "Train model": 54.01197400148385,
         "Sklearn model": 55.553210453676,
         "_deepnote_index_column": 96
        },
        {
         "Train model": 41.004768790625235,
         "Sklearn model": 42.72711548731604,
         "_deepnote_index_column": 97
        },
        {
         "Train model": 30.020875498884607,
         "Sklearn model": 31.07298293721942,
         "_deepnote_index_column": 98
        },
        {
         "Train model": 25.99452620558725,
         "Sklearn model": 22.199707854939334,
         "_deepnote_index_column": 99
        },
        {
         "Train model": 43.86372178971533,
         "Sklearn model": 46.24660009602849,
         "_deepnote_index_column": 100
        },
        {
         "Train model": 42.065135877708485,
         "Sklearn model": 38.36395263625673,
         "_deepnote_index_column": 101
        },
        {
         "Train model": 31.466589296108964,
         "Sklearn model": 27.556657279534193,
         "_deepnote_index_column": 102
        },
        {
         "Train model": 45.669780343277125,
         "Sklearn model": 48.12523007589698,
         "_deepnote_index_column": 103
        },
        {
         "Train model": 45.30780713895024,
         "Sklearn model": 48.81137979243067,
         "_deepnote_index_column": 104
        },
        {
         "Train model": 42.54880304601704,
         "Sklearn model": 43.17496023627609,
         "_deepnote_index_column": 105
        },
        {
         "Train model": 45.70959288378344,
         "Sklearn model": 48.16107066434415,
         "_deepnote_index_column": 106
        },
        {
         "Train model": 49.01155983414321,
         "Sklearn model": 47.70795128871214,
         "_deepnote_index_column": 107
        },
        {
         "Train model": 31.647005170375564,
         "Sklearn model": 28.54859973724524,
         "_deepnote_index_column": 108
        },
        {
         "Train model": 43.72096651598315,
         "Sklearn model": 42.05205213370573,
         "_deepnote_index_column": 109
        },
        {
         "Train model": 54.4801599452569,
         "Sklearn model": 54.33626703264417,
         "_deepnote_index_column": 110
        },
        {
         "Train model": 38.47753292219454,
         "Sklearn model": 39.00295483366426,
         "_deepnote_index_column": 111
        },
        {
         "Train model": 30.07756175540476,
         "Sklearn model": 27.27222820388488,
         "_deepnote_index_column": 112
        },
        {
         "Train model": 40.62626190746289,
         "Sklearn model": 41.28855914474116,
         "_deepnote_index_column": 113
        },
        {
         "Train model": 34.84369832933237,
         "Sklearn model": 38.94152152236711,
         "_deepnote_index_column": 114
        },
        {
         "Train model": 49.02895597014958,
         "Sklearn model": 50.40907376954783,
         "_deepnote_index_column": 115
        },
        {
         "Train model": 32.1397729239992,
         "Sklearn model": 31.928044689251692,
         "_deepnote_index_column": 116
        },
        {
         "Train model": 48.720732954042205,
         "Sklearn model": 51.26283401410183,
         "_deepnote_index_column": 117
        },
        {
         "Train model": 31.1015905754316,
         "Sklearn model": 32.40877195196481,
         "_deepnote_index_column": 118
        },
        {
         "Train model": 27.684397948014634,
         "Sklearn model": 24.151801377010997,
         "_deepnote_index_column": 119
        },
        {
         "Train model": 43.68297612952961,
         "Sklearn model": 43.79623265165901,
         "_deepnote_index_column": 120
        },
        {
         "Train model": 45.308732755730375,
         "Sklearn model": 47.51722065196191,
         "_deepnote_index_column": 121
        },
        {
         "Train model": 31.726630251388087,
         "Sklearn model": 28.620280914139585,
         "_deepnote_index_column": 122
        },
        {
         "Train model": 54.082034540194286,
         "Sklearn model": 53.977861148166994,
         "_deepnote_index_column": 123
        },
        {
         "Train model": 43.6958717057413,
         "Sklearn model": 43.78624464321183,
         "_deepnote_index_column": 124
        },
        {
         "Train model": 41.084460190475056,
         "Sklearn model": 42.01317388142343,
         "_deepnote_index_column": 125
        },
        {
         "Train model": 36.86051458205645,
         "Sklearn model": 35.13774213404031,
         "_deepnote_index_column": 126
        },
        {
         "Train model": 44.696410665695566,
         "Sklearn model": 47.254286878081984,
         "_deepnote_index_column": 127
        },
        {
         "Train model": 29.424002146790144,
         "Sklearn model": 27.10293114338856,
         "_deepnote_index_column": 128
        },
        {
         "Train model": 28.843258921687607,
         "Sklearn model": 25.964950318448246,
         "_deepnote_index_column": 129
        },
        {
         "Train model": 40.19088108023993,
         "Sklearn model": 40.92246477215667,
         "_deepnote_index_column": 130
        },
        {
         "Train model": 40.20779804797246,
         "Sklearn model": 41.31729350936439,
         "_deepnote_index_column": 131
        },
        {
         "Train model": 20.759064963536957,
         "Sklearn model": 19.18276012672868,
         "_deepnote_index_column": 132
        },
        {
         "Train model": 32.724581334252434,
         "Sklearn model": 36.63220841409384,
         "_deepnote_index_column": 133
        },
        {
         "Train model": 50.91937663576118,
         "Sklearn model": 51.91675455189761,
         "_deepnote_index_column": 134
        },
        {
         "Train model": 37.41620796364623,
         "Sklearn model": 37.907712463873395,
         "_deepnote_index_column": 135
        },
        {
         "Train model": 11.775176716542205,
         "Sklearn model": 17.110714170694337,
         "_deepnote_index_column": 136
        },
        {
         "Train model": 46.48095337774919,
         "Sklearn model": 48.115276108901526,
         "_deepnote_index_column": 137
        },
        {
         "Train model": 47.65323462088202,
         "Sklearn model": 46.932543808541595,
         "_deepnote_index_column": 138
        },
        {
         "Train model": 41.287323834264384,
         "Sklearn model": 41.78777294738029,
         "_deepnote_index_column": 139
        },
        {
         "Train model": 49.76165065811938,
         "Sklearn model": 51.50464227847442,
         "_deepnote_index_column": 140
        },
        {
         "Train model": 33.08856603842219,
         "Sklearn model": 34.4810616849154,
         "_deepnote_index_column": 141
        },
        {
         "Train model": 40.30107316391559,
         "Sklearn model": 41.064997336943634,
         "_deepnote_index_column": 142
        },
        {
         "Train model": 47.65323462088202,
         "Sklearn model": 46.932543808541595,
         "_deepnote_index_column": 143
        },
        {
         "Train model": 22.853467796790028,
         "Sklearn model": 18.918238127951554,
         "_deepnote_index_column": 144
        },
        {
         "Train model": 24.595778208863976,
         "Sklearn model": 20.522963944815274,
         "_deepnote_index_column": 145
        },
        {
         "Train model": 38.02031662746083,
         "Sklearn model": 38.40239593245133,
         "_deepnote_index_column": 146
        },
        {
         "Train model": 34.12857061037266,
         "Sklearn model": 33.67192544486534,
         "_deepnote_index_column": 147
        },
        {
         "Train model": 47.29526115369697,
         "Sklearn model": 48.06062766501054,
         "_deepnote_index_column": 148
        },
        {
         "Train model": 37.50782828109004,
         "Sklearn model": 39.52682574641403,
         "_deepnote_index_column": 149
        },
        {
         "Train model": 39.25530470257388,
         "Sklearn model": 41.52618995627927,
         "_deepnote_index_column": 150
        },
        {
         "Train model": 30.67846278588854,
         "Sklearn model": 27.75464382798964,
         "_deepnote_index_column": 151
        },
        {
         "Train model": 45.5901552622646,
         "Sklearn model": 48.053548899002635,
         "_deepnote_index_column": 152
        },
        {
         "Train model": 33.92950790784141,
         "Sklearn model": 33.49272250262766,
         "_deepnote_index_column": 153
        },
        {
         "Train model": 51.24427780920928,
         "Sklearn model": 53.56618727711975,
         "_deepnote_index_column": 154
        },
        {
         "Train model": 39.99181837770868,
         "Sklearn model": 40.743261829917174,
         "_deepnote_index_column": 155
        },
        {
         "Train model": 45.5901552622646,
         "Sklearn model": 48.053548899002635,
         "_deepnote_index_column": 156
        },
        {
         "Train model": 29.34437706577762,
         "Sklearn model": 27.031249966494215,
         "_deepnote_index_column": 157
        },
        {
         "Train model": 49.682025577106856,
         "Sklearn model": 51.43296110157826,
         "_deepnote_index_column": 158
        },
        {
         "Train model": 28.053900905349906,
         "Sklearn model": 25.946538584383234,
         "_deepnote_index_column": 159
        },
        {
         "Train model": 50.566254619848905,
         "Sklearn model": 51.276095656294274,
         "_deepnote_index_column": 160
        },
        {
         "Train model": 47.70265796391925,
         "Sklearn model": 49.13212733085311,
         "_deepnote_index_column": 161
        },
        {
         "Train model": 39.89712540106473,
         "Sklearn model": 40.450060918727104,
         "_deepnote_index_column": 162
        },
        {
         "Train model": 35.02781184140565,
         "Sklearn model": 37.52708098707444,
         "_deepnote_index_column": 163
        },
        {
         "Train model": 45.78921796479597,
         "Sklearn model": 48.232751841238496,
         "_deepnote_index_column": 164
        },
        {
         "Train model": 31.726630251388087,
         "Sklearn model": 28.620280914139585,
         "_deepnote_index_column": 165
        },
        {
         "Train model": 24.527318648084247,
         "Sklearn model": 22.813055806180273,
         "_deepnote_index_column": 166
        },
        {
         "Train model": 51.919204713339695,
         "Sklearn model": 50.00563016660453,
         "_deepnote_index_column": 167
        },
        {
         "Train model": 29.66656752447477,
         "Sklearn model": 26.424795779195847,
         "_deepnote_index_column": 168
        },
        {
         "Train model": 45.38184218622848,
         "Sklearn model": 47.81534163727338,
         "_deepnote_index_column": 169
        },
        {
         "Train model": 34.42277721750531,
         "Sklearn model": 35.45693609882801,
         "_deepnote_index_column": 170
        },
        {
         "Train model": 39.48254375726481,
         "Sklearn model": 43.32799871057432,
         "_deepnote_index_column": 171
        },
        {
         "Train model": 54.16165962120681,
         "Sklearn model": 54.04954232506316,
         "_deepnote_index_column": 172
        },
        {
         "Train model": 24.721501183242026,
         "Sklearn model": 21.471721432057166,
         "_deepnote_index_column": 173
        },
        {
         "Train model": 41.35724698241552,
         "Sklearn model": 43.08751020316777,
         "_deepnote_index_column": 174
        },
        {
         "Train model": 24.686568810109293,
         "Sklearn model": 22.95641815997078,
         "_deepnote_index_column": 175
        },
        {
         "Train model": 50.70635787967399,
         "Sklearn model": 49.87552047533245,
         "_deepnote_index_column": 176
        },
        {
         "Train model": 39.14377409794906,
         "Sklearn model": 40.052900071306794,
         "_deepnote_index_column": 177
        },
        {
         "Train model": 42.20455235203826,
         "Sklearn model": 41.91980843109741,
         "_deepnote_index_column": 178
        },
        {
         "Train model": 25.975129871310173,
         "Sklearn model": 22.577870189743408,
         "_deepnote_index_column": 179
        },
        {
         "Train model": 52.319222820942514,
         "Sklearn model": 48.3425500915273,
         "_deepnote_index_column": 180
        },
        {
         "Train model": 40.067017885794826,
         "Sklearn model": 39.52826525877026,
         "_deepnote_index_column": 181
        },
        {
         "Train model": 54.24128470221933,
         "Sklearn model": 54.12122350195932,
         "_deepnote_index_column": 182
        },
        {
         "Train model": 49.091184915155736,
         "Sklearn model": 47.7796324656083,
         "_deepnote_index_column": 183
        },
        {
         "Train model": 48.15318455027307,
         "Sklearn model": 48.01056032755696,
         "_deepnote_index_column": 184
        },
        {
         "Train model": 37.15175207497964,
         "Sklearn model": 37.16116882014467,
         "_deepnote_index_column": 185
        },
        {
         "Train model": 51.9590172538459,
         "Sklearn model": 50.041470755051705,
         "_deepnote_index_column": 186
        },
        {
         "Train model": 24.71783068845798,
         "Sklearn model": 20.67608549727811,
         "_deepnote_index_column": 187
        },
        {
         "Train model": 32.888077529584734,
         "Sklearn model": 31.19715746109614,
         "_deepnote_index_column": 188
        },
        {
         "Train model": 50.84494240339268,
         "Sklearn model": 51.52697977542812,
         "_deepnote_index_column": 189
        },
        {
         "Train model": 30.651691657719198,
         "Sklearn model": 27.65258502605502,
         "_deepnote_index_column": 190
        },
        {
         "Train model": 41.22474390830496,
         "Sklearn model": 41.43630339407355,
         "_deepnote_index_column": 191
        },
        {
         "Train model": 40.10683042630103,
         "Sklearn model": 39.564105847217434,
         "_deepnote_index_column": 192
        },
        {
         "Train model": 45.41731152956254,
         "Sklearn model": 45.58946408120755,
         "_deepnote_index_column": 193
        },
        {
         "Train model": 28.956409594690058,
         "Sklearn model": 25.949285749426053,
         "_deepnote_index_column": 194
        },
        {
         "Train model": 31.42677675560276,
         "Sklearn model": 27.52081669108702,
         "_deepnote_index_column": 195
        },
        {
         "Train model": 52.546453743136226,
         "Sklearn model": 53.34140986163038,
         "_deepnote_index_column": 196
        },
        {
         "Train model": 43.48209127294558,
         "Sklearn model": 41.83700860302088,
         "_deepnote_index_column": 197
        },
        {
         "Train model": 37.43377130192391,
         "Sklearn model": 36.31463580302807,
         "_deepnote_index_column": 198
        },
        {
         "Train model": 49.091184915155736,
         "Sklearn model": 47.7796324656083,
         "_deepnote_index_column": 199
        },
        {
         "Train model": 45.5901552622646,
         "Sklearn model": 48.053548899002635,
         "_deepnote_index_column": 200
        },
        {
         "Train model": 43.72096651598315,
         "Sklearn model": 42.05205213370573,
         "_deepnote_index_column": 201
        },
        {
         "Train model": 39.13069262018314,
         "Sklearn model": 38.65819590999308,
         "_deepnote_index_column": 202
        },
        {
         "Train model": 54.121847080700604,
         "Sklearn model": 54.013701736615985,
         "_deepnote_index_column": 203
        },
        {
         "Train model": 49.17228450064795,
         "Sklearn model": 49.85969573121838,
         "_deepnote_index_column": 204
        },
        {
         "Train model": 30.173384479276365,
         "Sklearn model": 32.50967300678349,
         "_deepnote_index_column": 205
        },
        {
         "Train model": 43.672319967627686,
         "Sklearn model": 44.799134116276036,
         "_deepnote_index_column": 206
        },
        {
         "Train model": 45.51053018125219,
         "Sklearn model": 47.98186772210647,
         "_deepnote_index_column": 207
        },
        {
         "Train model": 26.970247806872575,
         "Sklearn model": 24.171170449901183,
         "_deepnote_index_column": 208
        },
        {
         "Train model": 44.422342578175495,
         "Sklearn model": 42.02097554147076,
         "_deepnote_index_column": 209
        }
       ],
       "rows_bottom": null
      },
      "text/plain": "     Train model  Sklearn model\n0      34.346925      36.958901\n1      38.401212      37.283636\n2      31.647005      28.548600\n3      52.546454      53.341410\n4      54.201472      54.085383\n..           ...            ...\n205    30.173384      32.509673\n206    43.672320      44.799134\n207    45.510530      47.981868\n208    26.970248      24.171170\n209    44.422343      42.020976\n\n[210 rows x 2 columns]",
      "text/html": "<div>\n<style scoped>\n    .dataframe tbody tr th:only-of-type {\n        vertical-align: middle;\n    }\n\n    .dataframe tbody tr th {\n        vertical-align: top;\n    }\n\n    .dataframe thead th {\n        text-align: right;\n    }\n</style>\n<table border=\"1\" class=\"dataframe\">\n  <thead>\n    <tr style=\"text-align: right;\">\n      <th></th>\n      <th>Train model</th>\n      <th>Sklearn model</th>\n    </tr>\n  </thead>\n  <tbody>\n    <tr>\n      <th>0</th>\n      <td>34.346925</td>\n      <td>36.958901</td>\n    </tr>\n    <tr>\n      <th>1</th>\n      <td>38.401212</td>\n      <td>37.283636</td>\n    </tr>\n    <tr>\n      <th>2</th>\n      <td>31.647005</td>\n      <td>28.548600</td>\n    </tr>\n    <tr>\n      <th>3</th>\n      <td>52.546454</td>\n      <td>53.341410</td>\n    </tr>\n    <tr>\n      <th>4</th>\n      <td>54.201472</td>\n      <td>54.085383</td>\n    </tr>\n    <tr>\n      <th>...</th>\n      <td>...</td>\n      <td>...</td>\n    </tr>\n    <tr>\n      <th>205</th>\n      <td>30.173384</td>\n      <td>32.509673</td>\n    </tr>\n    <tr>\n      <th>206</th>\n      <td>43.672320</td>\n      <td>44.799134</td>\n    </tr>\n    <tr>\n      <th>207</th>\n      <td>45.510530</td>\n      <td>47.981868</td>\n    </tr>\n    <tr>\n      <th>208</th>\n      <td>26.970248</td>\n      <td>24.171170</td>\n    </tr>\n    <tr>\n      <th>209</th>\n      <td>44.422343</td>\n      <td>42.020976</td>\n    </tr>\n  </tbody>\n</table>\n<p>210 rows × 2 columns</p>\n</div>"
     },
     "metadata": {}
    }
   ]
  },
  {
   "cell_type": "markdown",
   "source": "",
   "metadata": {
    "tags": [],
    "is_collapsed": false,
    "cell_id": "00049-3d445bba-edab-481d-9cbc-1e2c8c126efc",
    "deepnote_cell_type": "text-cell-p"
   }
  },
  {
   "cell_type": "markdown",
   "source": "<a style='text-decoration:none;line-height:16px;display:flex;color:#5B5B62;padding:10px;justify-content:end;' href='https://deepnote.com?utm_source=created-in-deepnote-cell&projectId=ad5825d0-5038-4fe2-b2a8-30179b1f5667' target=\"_blank\">\n<img alt='Created in deepnote.com' style='display:inline;max-height:16px;margin:0px;margin-right:7.5px;' src='data:image/svg+xml;base64,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' > </img>\nCreated in <span style='font-weight:600;margin-left:4px;'>Deepnote</span></a>",
   "metadata": {
    "tags": [],
    "created_in_deepnote_cell": true,
    "deepnote_cell_type": "markdown"
   }
  }
 ],
 "nbformat": 4,
 "nbformat_minor": 2,
 "metadata": {
  "orig_nbformat": 2,
  "deepnote": {
   "is_reactive": false
  },
  "deepnote_notebook_id": "86eee77c-225b-4339-8b65-0494ff103704",
  "deepnote_execution_queue": []
 }
}